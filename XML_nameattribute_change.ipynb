{
 "cells": [
  {
   "cell_type": "code",
   "execution_count": 9,
   "id": "23c1f448",
   "metadata": {},
   "outputs": [],
   "source": [
    "import os"
   ]
  },
  {
   "cell_type": "code",
   "execution_count": 10,
   "id": "7c420896",
   "metadata": {},
   "outputs": [],
   "source": [
    "path=r\"C:\\Users\\39351\\Desktop\\newSetAlum_colorA1.xml\""
   ]
  },
  {
   "cell_type": "code",
   "execution_count": 11,
   "id": "ad1ef040",
   "metadata": {},
   "outputs": [
    {
     "name": "stdout",
     "output_type": "stream",
     "text": [
      "newSetAlum_colorA1.xml\n",
      "newSetAlum_colorA1\n"
     ]
    }
   ],
   "source": [
    "print(os.path.basename(path))\n",
    "print(os.path.basename(path[0:-4]))"
   ]
  },
  {
   "cell_type": "code",
   "execution_count": 17,
   "id": "05c7adcc",
   "metadata": {},
   "outputs": [
    {
     "name": "stdout",
     "output_type": "stream",
     "text": [
      "[<Element 'filename' at 0x000002ADEC790D10>]\n"
     ]
    }
   ],
   "source": [
    "# import element tree\n",
    "import xml.etree.ElementTree as ET \n",
    "\n",
    "#import xml file\n",
    "tree = ET.parse(path)\n",
    "root = tree.getroot()\n",
    "elems = tree.findall(\".//filename\")\n",
    "print(elems)\n",
    "for elem in elems:\n",
    "    elem.text = os.path.basename(path[0:-4])+'.jpg'\n",
    "tree.write(path)"
   ]
  },
  {
   "cell_type": "code",
   "execution_count": 23,
   "id": "108e939c",
   "metadata": {},
   "outputs": [
    {
     "name": "stdout",
     "output_type": "stream",
     "text": [
      "C:\\Users\\39351\\Desktop\\resized_images_400\\fototesttraspa1.xml\n",
      "[<Element 'filename' at 0x000002ADEC8AF400>]\n",
      "C:\\Users\\39351\\Desktop\\resized_images_400\\fototesttraspa10.xml\n",
      "[<Element 'filename' at 0x000002ADEC8BCA40>]\n",
      "C:\\Users\\39351\\Desktop\\resized_images_400\\fototesttraspa2.xml\n",
      "[<Element 'filename' at 0x000002ADEC8C9D60>]\n",
      "C:\\Users\\39351\\Desktop\\resized_images_400\\fototesttraspa3.xml\n",
      "[<Element 'filename' at 0x000002ADEC8C9C70>]\n",
      "C:\\Users\\39351\\Desktop\\resized_images_400\\fototesttraspa4.xml\n",
      "[<Element 'filename' at 0x000002ADEC8AFCC0>]\n",
      "C:\\Users\\39351\\Desktop\\resized_images_400\\fototesttraspa5.xml\n",
      "[<Element 'filename' at 0x000002ADEC7D31D0>]\n",
      "C:\\Users\\39351\\Desktop\\resized_images_400\\fototesttraspa6.xml\n",
      "[<Element 'filename' at 0x000002ADEC8C9310>]\n",
      "C:\\Users\\39351\\Desktop\\resized_images_400\\fototesttraspa7.xml\n",
      "[<Element 'filename' at 0x000002ADEC8C90E0>]\n",
      "C:\\Users\\39351\\Desktop\\resized_images_400\\fototesttraspa8.xml\n",
      "[<Element 'filename' at 0x000002ADEC8AF270>]\n",
      "C:\\Users\\39351\\Desktop\\resized_images_400\\fototesttraspa9.xml\n",
      "[<Element 'filename' at 0x000002ADEC8AFBD0>]\n",
      "C:\\Users\\39351\\Desktop\\resized_images_400\\fototesttraspb1.xml\n",
      "[<Element 'filename' at 0x000002ADEC8C9D60>]\n",
      "C:\\Users\\39351\\Desktop\\resized_images_400\\fototesttraspb10.xml\n",
      "[<Element 'filename' at 0x000002ADEC8C9F90>]\n",
      "C:\\Users\\39351\\Desktop\\resized_images_400\\fototesttraspb2.xml\n",
      "[<Element 'filename' at 0x000002ADEC8AF3B0>]\n",
      "C:\\Users\\39351\\Desktop\\resized_images_400\\fototesttraspb3.xml\n",
      "[<Element 'filename' at 0x000002ADEC7D3270>]\n",
      "C:\\Users\\39351\\Desktop\\resized_images_400\\fototesttraspb4.xml\n",
      "[<Element 'filename' at 0x000002ADEC8C9360>]\n",
      "C:\\Users\\39351\\Desktop\\resized_images_400\\fototesttraspb5.xml\n",
      "[<Element 'filename' at 0x000002ADEC8C98B0>]\n",
      "C:\\Users\\39351\\Desktop\\resized_images_400\\fototesttraspb6.xml\n",
      "[<Element 'filename' at 0x000002ADEC8AFF40>]\n",
      "C:\\Users\\39351\\Desktop\\resized_images_400\\fototesttraspb7.xml\n",
      "[<Element 'filename' at 0x000002ADEC6B6A90>]\n",
      "C:\\Users\\39351\\Desktop\\resized_images_400\\fototesttraspb9.xml\n",
      "[<Element 'filename' at 0x000002ADEC8C91D0>]\n",
      "C:\\Users\\39351\\Desktop\\resized_images_400\\fototesttraspc1.xml\n",
      "[<Element 'filename' at 0x000002ADEC8C9040>]\n",
      "C:\\Users\\39351\\Desktop\\resized_images_400\\fototesttraspc10.xml\n",
      "[<Element 'filename' at 0x000002ADEC8AF090>]\n",
      "C:\\Users\\39351\\Desktop\\resized_images_400\\fototesttraspc2.xml\n",
      "[<Element 'filename' at 0x000002ADEC7DE4F0>]\n",
      "C:\\Users\\39351\\Desktop\\resized_images_400\\fototesttraspc3.xml\n",
      "[<Element 'filename' at 0x000002ADEC8C9DB0>]\n",
      "C:\\Users\\39351\\Desktop\\resized_images_400\\fototesttraspc4.xml\n",
      "[<Element 'filename' at 0x000002ADEC8C93B0>]\n",
      "C:\\Users\\39351\\Desktop\\resized_images_400\\fototesttraspc5.xml\n",
      "[<Element 'filename' at 0x000002ADEC8AFD10>]\n",
      "C:\\Users\\39351\\Desktop\\resized_images_400\\fototesttraspc6.xml\n",
      "[<Element 'filename' at 0x000002ADEC6B6A90>]\n",
      "C:\\Users\\39351\\Desktop\\resized_images_400\\fototesttraspc7.xml\n",
      "[<Element 'filename' at 0x000002ADEC8C99F0>]\n",
      "C:\\Users\\39351\\Desktop\\resized_images_400\\fototesttraspc8.xml\n",
      "[<Element 'filename' at 0x000002ADEC8C9720>]\n",
      "C:\\Users\\39351\\Desktop\\resized_images_400\\fototesttraspc9.xml\n",
      "[<Element 'filename' at 0x000002ADEC8AF130>]\n",
      "C:\\Users\\39351\\Desktop\\resized_images_400\\fototesttraspn1.xml\n",
      "[<Element 'filename' at 0x000002ADEC7DE4F0>]\n",
      "C:\\Users\\39351\\Desktop\\resized_images_400\\fototesttraspn10.xml\n",
      "[<Element 'filename' at 0x000002ADEC8CD310>]\n",
      "C:\\Users\\39351\\Desktop\\resized_images_400\\fototesttraspn2.xml\n",
      "[<Element 'filename' at 0x000002ADEC7D34F0>]\n",
      "C:\\Users\\39351\\Desktop\\resized_images_400\\fototesttraspn3.xml\n",
      "[<Element 'filename' at 0x000002ADEC8AFAE0>]\n",
      "C:\\Users\\39351\\Desktop\\resized_images_400\\fototesttraspn4.xml\n",
      "[<Element 'filename' at 0x000002ADEC8AF1D0>]\n",
      "C:\\Users\\39351\\Desktop\\resized_images_400\\fototesttraspn5.xml\n",
      "[<Element 'filename' at 0x000002ADEC8CD130>]\n",
      "C:\\Users\\39351\\Desktop\\resized_images_400\\fototesttraspn6.xml\n",
      "[<Element 'filename' at 0x000002ADEC7D3220>]\n",
      "C:\\Users\\39351\\Desktop\\resized_images_400\\fototesttraspn7.xml\n",
      "[<Element 'filename' at 0x000002ADEC8AFC70>]\n",
      "C:\\Users\\39351\\Desktop\\resized_images_400\\fototesttraspn8.xml\n",
      "[<Element 'filename' at 0x000002ADEC8AF4F0>]\n",
      "C:\\Users\\39351\\Desktop\\resized_images_400\\fototesttraspn9.xml\n",
      "[<Element 'filename' at 0x000002ADEC8CD680>]\n"
     ]
    }
   ],
   "source": [
    "import glob\n",
    "path=os.path.join(r\"C:\\Users\\39351\\Desktop\\resized_images_400\",'*.xml')\n",
    "for file in glob.glob(path):\n",
    "    print(file)\n",
    "    tree = ET.parse(file)\n",
    "    root = tree.getroot()\n",
    "    elems = tree.findall(\".//filename\")\n",
    "    print(elems)\n",
    "    for elem in elems:\n",
    "        elem.text = os.path.basename(file[0:-4])+'.jpg'\n",
    "    tree.write(file)"
   ]
  },
  {
   "cell_type": "code",
   "execution_count": null,
   "id": "43ea67d4",
   "metadata": {},
   "outputs": [],
   "source": []
  }
 ],
 "metadata": {
  "kernelspec": {
   "display_name": "Python 3",
   "language": "python",
   "name": "python3"
  },
  "language_info": {
   "codemirror_mode": {
    "name": "ipython",
    "version": 3
   },
   "file_extension": ".py",
   "mimetype": "text/x-python",
   "name": "python",
   "nbconvert_exporter": "python",
   "pygments_lexer": "ipython3",
   "version": "3.8.8"
  }
 },
 "nbformat": 4,
 "nbformat_minor": 5
}
