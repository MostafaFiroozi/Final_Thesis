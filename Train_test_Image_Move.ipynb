{
 "cells": [
  {
   "cell_type": "code",
   "execution_count": 14,
   "id": "0d7cff5c",
   "metadata": {},
   "outputs": [],
   "source": [
    "from PIL import Image\n",
    "import glob\n",
    "import os\n",
    "from shutil import copyfile, move"
   ]
  },
  {
   "cell_type": "code",
   "execution_count": 22,
   "id": "0d2f97c4",
   "metadata": {},
   "outputs": [
    {
     "name": "stdout",
     "output_type": "stream",
     "text": [
      "C:\\Users\\39351\\Desktop\\images1\\test\\BackgroundTests_colorA13.jpg\n",
      "C:\\Users\\39351\\Desktop\\images1\\test\\BackgroundTests_colorA1_3.jpg\n",
      "C:\\Users\\39351\\Desktop\\images1\\test\\BackgroundTests_colorA3_3.jpg\n",
      "C:\\Users\\39351\\Desktop\\images1\\test\\BackgroundTests_colorA6_2.jpg\n",
      "C:\\Users\\39351\\Desktop\\images1\\test\\BackgroundTests_colorA7_3.jpg\n",
      "C:\\Users\\39351\\Desktop\\images1\\test\\BackgroundTests_colorA8_1.jpg\n",
      "C:\\Users\\39351\\Desktop\\images1\\test\\BackgroundTests_colorB11.jpg\n",
      "C:\\Users\\39351\\Desktop\\images1\\test\\BackgroundTests_colorB3_2.jpg\n",
      "C:\\Users\\39351\\Desktop\\images1\\test\\BackgroundTests_colorC11.jpg\n",
      "C:\\Users\\39351\\Desktop\\images1\\test\\BackgroundTests_colorC4_2.jpg\n",
      "C:\\Users\\39351\\Desktop\\images1\\test\\fototesttraspa10.jpg\n",
      "C:\\Users\\39351\\Desktop\\images1\\test\\fototesttraspb10.jpg\n",
      "C:\\Users\\39351\\Desktop\\images1\\test\\fototesttraspc10.jpg\n",
      "C:\\Users\\39351\\Desktop\\images1\\test\\fototesttraspn10.jpg\n",
      "C:\\Users\\39351\\Desktop\\images1\\test\\newSetAlum_colorA10.jpg\n",
      "C:\\Users\\39351\\Desktop\\images1\\test\\newSetAlum_colorB10.jpg\n",
      "C:\\Users\\39351\\Desktop\\images1\\test\\newSetAlum_colorC10.jpg\n",
      "C:\\Users\\39351\\Desktop\\images1\\test\\newSetAlum_colorD10.jpg\n",
      "C:\\Users\\39351\\Desktop\\images1\\test\\newSetAlum_colorE10.jpg\n",
      "C:\\Users\\39351\\Desktop\\images1\\test\\newSetAlum_colorF10.jpg\n",
      "C:\\Users\\39351\\Desktop\\images1\\test\\newSetTransp_colorA10.jpg\n",
      "C:\\Users\\39351\\Desktop\\images1\\test\\newSetTransp_colorB13.jpg\n",
      "C:\\Users\\39351\\Desktop\\images1\\test\\newSetTransp_colorC13.jpg\n",
      "C:\\Users\\39351\\Desktop\\images1\\test\\newSetTransp_colorD13.jpg\n",
      "C:\\Users\\39351\\Desktop\\images1\\test\\newSetTransp_colorE13.jpg\n",
      "C:\\Users\\39351\\Desktop\\images1\\test\\newSetTransp_colorF13.jpg\n",
      "C:\\Users\\39351\\Desktop\\images1\\test\\newSetTransp_colorG13.jpg\n",
      "C:\\Users\\39351\\Desktop\\images1\\test\\newSetTransp_colorH12.jpg\n",
      "C:\\Users\\39351\\Desktop\\images1\\test\\newSetWhite_colorA10.jpg\n",
      "C:\\Users\\39351\\Desktop\\images1\\test\\newSetWhite_colorB10.jpg\n",
      "C:\\Users\\39351\\Desktop\\images1\\test\\newSetWhite_colorC10.jpg\n",
      "C:\\Users\\39351\\Desktop\\images1\\test\\newSetWhite_colorD10.jpg\n",
      "C:\\Users\\39351\\Desktop\\images1\\test\\newSetWhite_colorE10.jpg\n"
     ]
    }
   ],
   "source": [
    "rout_path=r\"C:\\Users\\39351\\Desktop\\images1\"\n",
    "path= os.path.join(rout_path,'*','resized_images_800','*.jpg')\n",
    "train_800_path=os.path.join(r\"C:\\Users\\39351\\Desktop\\images1\",'train_test_800','train')\n",
    "for file in glob.glob(path):\n",
    "    file_name=os.path.basename(file)\n",
    "    dst=path= os.path.join(train_800_path,file_name)\n",
    "    copyfile(file, dst)\n",
    "test_path= os.path.join(rout_path,'test','*.jpg')\n",
    "for file in glob.glob(test_path):\n",
    "    file_name=os.path.basename(file)\n",
    "    print(file)\n",
    "    in_path=os.path.join(train_800_path,file_name)\n",
    "    dst=path= os.path.join(r\"C:\\Users\\39351\\Desktop\\images1\",'train_test_800','test',file_name)\n",
    "    move(in_path, dst)"
   ]
  },
  {
   "cell_type": "code",
   "execution_count": 7,
   "id": "ed1ab04f",
   "metadata": {},
   "outputs": [],
   "source": [
    "\n",
    "path= os.path.join(r\"C:\\Users\\39351\\Desktop\\images1\",'train','*.jpg')\n",
    "    for file in glob.glob(path):\n",
    "        image.save(os.path.join(r'C:\\Users\\39351\\Desktop\\images',folder_name,'resized_images_800',folder_name+name+'.jpg'))"
   ]
  },
  {
   "cell_type": "code",
   "execution_count": 16,
   "id": "4260ce0b",
   "metadata": {},
   "outputs": [
    {
     "data": {
      "text/plain": [
       "'C:\\\\Users\\\\39351\\\\Desktop\\\\fototesttrasp\\\\resized images\\\\a1\\\\.jpg'"
      ]
     },
     "execution_count": 16,
     "metadata": {},
     "output_type": "execute_result"
    }
   ],
   "source": [
    "os.path.join(r'C:\\Users\\39351\\Desktop\\fototesttrasp\\resized images',name,'.jpg')"
   ]
  },
  {
   "cell_type": "code",
   "execution_count": null,
   "id": "7d51a06d",
   "metadata": {},
   "outputs": [],
   "source": []
  }
 ],
 "metadata": {
  "kernelspec": {
   "display_name": "Python 3",
   "language": "python",
   "name": "python3"
  },
  "language_info": {
   "codemirror_mode": {
    "name": "ipython",
    "version": 3
   },
   "file_extension": ".py",
   "mimetype": "text/x-python",
   "name": "python",
   "nbconvert_exporter": "python",
   "pygments_lexer": "ipython3",
   "version": "3.8.8"
  }
 },
 "nbformat": 4,
 "nbformat_minor": 5
}
