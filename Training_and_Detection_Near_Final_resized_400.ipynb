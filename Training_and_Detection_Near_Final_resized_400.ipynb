{
  "nbformat": 4,
  "nbformat_minor": 0,
  "metadata": {
    "accelerator": "GPU",
    "colab": {
      "name": "Training and Detection_Near_Final_resized_400.ipynb",
      "provenance": [],
      "collapsed_sections": [
        "IsNAaYAo0WVL",
        "rzlM4jt0pfDJ",
        "wTPmdqaXpfDK",
        "VtUw73FHpfDK"
      ],
      "include_colab_link": true
    },
    "kernelspec": {
      "display_name": "tfod",
      "language": "python",
      "name": "tfod"
    },
    "language_info": {
      "codemirror_mode": {
        "name": "ipython",
        "version": 3
      },
      "file_extension": ".py",
      "mimetype": "text/x-python",
      "name": "python",
      "nbconvert_exporter": "python",
      "pygments_lexer": "ipython3",
      "version": "3.7.3"
    }
  },
  "cells": [
    {
      "cell_type": "markdown",
      "metadata": {
        "id": "view-in-github",
        "colab_type": "text"
      },
      "source": [
        "<a href=\"https://colab.research.google.com/github/MostafaFiroozi/Final_Thesis/blob/main/Training_and_Detection_Near_Final_resized_400.ipynb\" target=\"_parent\"><img src=\"https://colab.research.google.com/assets/colab-badge.svg\" alt=\"Open In Colab\"/></a>"
      ]
    },
    {
      "cell_type": "markdown",
      "metadata": {
        "id": "QUANWN3rpfC9"
      },
      "source": [
        "# 0. Setup Paths"
      ]
    },
    {
      "cell_type": "code",
      "metadata": {
        "id": "146BB11JpfDA"
      },
      "source": [
        "import os\n"
      ],
      "execution_count": null,
      "outputs": []
    },
    {
      "cell_type": "code",
      "metadata": {
        "id": "42hJEdo_pfDB"
      },
      "source": [
        "CUSTOM_MODEL_NAME = 'my_ssd_mobnet' \n",
        "PRETRAINED_MODEL_NAME = 'ssd_mobilenet_v2_fpnlite_320x320_coco17_tpu-8'\n",
        "PRETRAINED_MODEL_URL = 'http://download.tensorflow.org/models/object_detection/tf2/20200711/ssd_mobilenet_v2_fpnlite_320x320_coco17_tpu-8.tar.gz'\n",
        "TF_RECORD_SCRIPT_NAME = 'generate_tfrecord.py'\n",
        "LABEL_MAP_NAME = 'label_map.pbtxt'"
      ],
      "execution_count": null,
      "outputs": []
    },
    {
      "cell_type": "code",
      "metadata": {
        "colab": {
          "base_uri": "https://localhost:8080/"
        },
        "id": "lm7s2N8QJMhK",
        "outputId": "788fa0f3-36d2-4304-d3b4-8a37deabd371"
      },
      "source": [
        "from google.colab import drive\n",
        "drive.mount('/content/drive')"
      ],
      "execution_count": null,
      "outputs": [
        {
          "name": "stdout",
          "output_type": "stream",
          "text": [
            "Mounted at /content/drive\n"
          ]
        }
      ]
    },
    {
      "cell_type": "code",
      "metadata": {
        "id": "hbPhYVy_pfDB"
      },
      "source": [
        "paths = {\n",
        "    'WORKSPACE_PATH': os.path.join('Tensorflow', 'workspace'),\n",
        "    'SCRIPTS_PATH': os.path.join('Tensorflow','scripts'),\n",
        "    'APIMODEL_PATH': os.path.join('Tensorflow','models'),\n",
        "    'ANNOTATION_PATH': os.path.join('Tensorflow', 'workspace','annotations'),\n",
        "    'IMAGE_PATH': os.path.join('Tensorflow', 'workspace','images'),\n",
        "    'MODEL_PATH': os.path.join('drive','MyDrive','models','Near_Final_resized_400'),\n",
        "#    'MODEL_PATH': os.path.join('Tensorflow', 'workspace','models'),\n",
        "    'PRETRAINED_MODEL_PATH': os.path.join('Tensorflow', 'workspace','pre-trained-models'),\n",
        "    'CHECKPOINT_PATH': os.path.join('drive','MyDrive','models','Near_Final_resized_400',CUSTOM_MODEL_NAME), \n",
        "    'OUTPUT_PATH': os.path.join('drive','MyDrive','models','Near_Final_resized_400',CUSTOM_MODEL_NAME, 'export'), \n",
        "    'TFJS_PATH':os.path.join('drive','MyDrive','models','Near_Final_resized_400',CUSTOM_MODEL_NAME, 'tfjsexport'), \n",
        "    'TFLITE_PATH':os.path.join('drive','MyDrive','models','Near_Final_resized_400',CUSTOM_MODEL_NAME, 'tfliteexport'), \n",
        "    'PROTOC_PATH':os.path.join('Tensorflow','protoc')\n",
        " }"
      ],
      "execution_count": null,
      "outputs": []
    },
    {
      "cell_type": "code",
      "metadata": {
        "id": "LwhWZMI0pfDC"
      },
      "source": [
        "files = {\n",
        "    'PIPELINE_CONFIG':os.path.join('drive','MyDrive','models','Near_Final_resized_400', CUSTOM_MODEL_NAME, 'pipeline.config'),\n",
        "    'TF_RECORD_SCRIPT': os.path.join(paths['SCRIPTS_PATH'], TF_RECORD_SCRIPT_NAME), \n",
        "    'LABELMAP': os.path.join(paths['ANNOTATION_PATH'], LABEL_MAP_NAME)\n",
        "}"
      ],
      "execution_count": null,
      "outputs": []
    },
    {
      "cell_type": "code",
      "metadata": {
        "id": "HR-TfDGrpfDC"
      },
      "source": [
        "for path in paths.values():\n",
        "    if not os.path.exists(path):\n",
        "        if os.name == 'posix':\n",
        "            !mkdir -p {path}\n",
        "        if os.name == 'nt':\n",
        "            !mkdir {path}"
      ],
      "execution_count": null,
      "outputs": []
    },
    {
      "cell_type": "markdown",
      "metadata": {
        "id": "OLU-rs_ipfDE"
      },
      "source": [
        "# 1. Download TF Models Pretrained Models from Tensorflow Model Zoo and Install TFOD"
      ]
    },
    {
      "cell_type": "code",
      "metadata": {
        "id": "MlHkTCccrUUO"
      },
      "source": [
        "# https://www.tensorflow.org/install/source_windows"
      ],
      "execution_count": null,
      "outputs": []
    },
    {
      "cell_type": "code",
      "metadata": {
        "id": "K-Cmz2edpfDE",
        "scrolled": true
      },
      "source": [
        "if os.name=='nt':\n",
        "    !pip install wget\n",
        "    import wget"
      ],
      "execution_count": null,
      "outputs": []
    },
    {
      "cell_type": "code",
      "metadata": {
        "id": "iA1DIq5OpfDE"
      },
      "source": [
        "if not os.path.exists(os.path.join(paths['APIMODEL_PATH'], 'research', 'object_detection')):\n",
        "    !git clone https://github.com/tensorflow/models {paths['APIMODEL_PATH']}"
      ],
      "execution_count": null,
      "outputs": []
    },
    {
      "cell_type": "code",
      "metadata": {
        "colab": {
          "base_uri": "https://localhost:8080/"
        },
        "id": "rJjMHbnDs3Tv",
        "outputId": "c5472514-9970-49fb-e65f-97f0fb0cb53f"
      },
      "source": [
        "# Install Tensorflow Object Detection \n",
        "if os.name=='posix':  \n",
        "    !apt-get install protobuf-compiler\n",
        "    !cd Tensorflow/models/research && protoc object_detection/protos/*.proto --python_out=. && cp object_detection/packages/tf2/setup.py . && python -m pip install . \n",
        "    \n",
        "if os.name=='nt':\n",
        "    url=\"https://github.com/protocolbuffers/protobuf/releases/download/v3.15.6/protoc-3.15.6-win64.zip\"\n",
        "    wget.download(url)\n",
        "    !move protoc-3.15.6-win64.zip {paths['PROTOC_PATH']}\n",
        "    !cd {paths['PROTOC_PATH']} && tar -xf protoc-3.15.6-win64.zip\n",
        "    os.environ['PATH'] += os.pathsep + os.path.abspath(os.path.join(paths['PROTOC_PATH'], 'bin'))   \n",
        "    !cd Tensorflow/models/research && protoc object_detection/protos/*.proto --python_out=. && copy object_detection\\\\packages\\\\tf2\\\\setup.py setup.py && python setup.py build && python setup.py install\n",
        "    !cd Tensorflow/models/research/slim && pip install -e . "
      ],
      "execution_count": null,
      "outputs": [
        {
          "name": "stdout",
          "output_type": "stream",
          "text": [
            "Reading package lists... Done\n",
            "Building dependency tree       \n",
            "Reading state information... Done\n",
            "protobuf-compiler is already the newest version (3.0.0-9.1ubuntu1).\n",
            "0 upgraded, 0 newly installed, 0 to remove and 37 not upgraded.\n",
            "Processing /content/Tensorflow/models/research\n",
            "\u001b[33m  DEPRECATION: A future pip version will change local packages to be built in-place without first copying to a temporary directory. We recommend you use --use-feature=in-tree-build to test your packages with this new behavior before it becomes the default.\n",
            "   pip 21.3 will remove support for this functionality. You can find discussion regarding this at https://github.com/pypa/pip/issues/7555.\u001b[0m\n",
            "Requirement already satisfied: avro-python3 in /usr/local/lib/python3.7/dist-packages (from object-detection==0.1) (1.9.2.1)\n",
            "Requirement already satisfied: apache-beam in /usr/local/lib/python3.7/dist-packages (from object-detection==0.1) (2.33.0)\n",
            "Requirement already satisfied: pillow in /usr/local/lib/python3.7/dist-packages (from object-detection==0.1) (7.1.2)\n",
            "Requirement already satisfied: lxml in /usr/local/lib/python3.7/dist-packages (from object-detection==0.1) (4.2.6)\n",
            "Requirement already satisfied: matplotlib in /usr/local/lib/python3.7/dist-packages (from object-detection==0.1) (3.2.2)\n",
            "Requirement already satisfied: Cython in /usr/local/lib/python3.7/dist-packages (from object-detection==0.1) (0.29.24)\n",
            "Requirement already satisfied: contextlib2 in /usr/local/lib/python3.7/dist-packages (from object-detection==0.1) (0.5.5)\n",
            "Requirement already satisfied: tf-slim in /usr/local/lib/python3.7/dist-packages (from object-detection==0.1) (1.1.0)\n",
            "Requirement already satisfied: six in /usr/local/lib/python3.7/dist-packages (from object-detection==0.1) (1.15.0)\n",
            "Requirement already satisfied: pycocotools in /usr/local/lib/python3.7/dist-packages (from object-detection==0.1) (2.0.2)\n",
            "Requirement already satisfied: lvis in /usr/local/lib/python3.7/dist-packages (from object-detection==0.1) (0.5.3)\n",
            "Requirement already satisfied: scipy in /usr/local/lib/python3.7/dist-packages (from object-detection==0.1) (1.4.1)\n",
            "Requirement already satisfied: pandas in /usr/local/lib/python3.7/dist-packages (from object-detection==0.1) (1.1.5)\n",
            "Requirement already satisfied: tf-models-official>=2.5.1 in /usr/local/lib/python3.7/dist-packages (from object-detection==0.1) (2.6.0)\n",
            "Requirement already satisfied: tensorflow_io in /usr/local/lib/python3.7/dist-packages (from object-detection==0.1) (0.21.0)\n",
            "Requirement already satisfied: keras==2.6.0 in /usr/local/lib/python3.7/dist-packages (from object-detection==0.1) (2.6.0)\n",
            "Requirement already satisfied: psutil>=5.4.3 in /usr/local/lib/python3.7/dist-packages (from tf-models-official>=2.5.1->object-detection==0.1) (5.4.8)\n",
            "Requirement already satisfied: pyyaml>=5.1 in /usr/local/lib/python3.7/dist-packages (from tf-models-official>=2.5.1->object-detection==0.1) (6.0)\n",
            "Requirement already satisfied: tensorflow-text>=2.5.0 in /usr/local/lib/python3.7/dist-packages (from tf-models-official>=2.5.1->object-detection==0.1) (2.6.0)\n",
            "Requirement already satisfied: numpy>=1.15.4 in /usr/local/lib/python3.7/dist-packages (from tf-models-official>=2.5.1->object-detection==0.1) (1.19.5)\n",
            "Requirement already satisfied: oauth2client in /usr/local/lib/python3.7/dist-packages (from tf-models-official>=2.5.1->object-detection==0.1) (4.1.3)\n",
            "Requirement already satisfied: kaggle>=1.3.9 in /usr/local/lib/python3.7/dist-packages (from tf-models-official>=2.5.1->object-detection==0.1) (1.5.12)\n",
            "Requirement already satisfied: seqeval in /usr/local/lib/python3.7/dist-packages (from tf-models-official>=2.5.1->object-detection==0.1) (1.2.2)\n",
            "Requirement already satisfied: google-api-python-client>=1.6.7 in /usr/local/lib/python3.7/dist-packages (from tf-models-official>=2.5.1->object-detection==0.1) (1.12.8)\n",
            "Requirement already satisfied: py-cpuinfo>=3.3.0 in /usr/local/lib/python3.7/dist-packages (from tf-models-official>=2.5.1->object-detection==0.1) (8.0.0)\n",
            "Requirement already satisfied: tensorflow-model-optimization>=0.4.1 in /usr/local/lib/python3.7/dist-packages (from tf-models-official>=2.5.1->object-detection==0.1) (0.7.0)\n",
            "Requirement already satisfied: tensorflow-hub>=0.6.0 in /usr/local/lib/python3.7/dist-packages (from tf-models-official>=2.5.1->object-detection==0.1) (0.12.0)\n",
            "Requirement already satisfied: sentencepiece in /usr/local/lib/python3.7/dist-packages (from tf-models-official>=2.5.1->object-detection==0.1) (0.1.96)\n",
            "Requirement already satisfied: tensorflow-addons in /usr/local/lib/python3.7/dist-packages (from tf-models-official>=2.5.1->object-detection==0.1) (0.14.0)\n",
            "Requirement already satisfied: tensorflow>=2.5.0 in /usr/local/lib/python3.7/dist-packages (from tf-models-official>=2.5.1->object-detection==0.1) (2.6.0)\n",
            "Requirement already satisfied: tensorflow-datasets in /usr/local/lib/python3.7/dist-packages (from tf-models-official>=2.5.1->object-detection==0.1) (4.0.1)\n",
            "Requirement already satisfied: opencv-python-headless in /usr/local/lib/python3.7/dist-packages (from tf-models-official>=2.5.1->object-detection==0.1) (4.5.4.58)\n",
            "Requirement already satisfied: sacrebleu in /usr/local/lib/python3.7/dist-packages (from tf-models-official>=2.5.1->object-detection==0.1) (2.0.0)\n",
            "Requirement already satisfied: gin-config in /usr/local/lib/python3.7/dist-packages (from tf-models-official>=2.5.1->object-detection==0.1) (0.4.0)\n",
            "Requirement already satisfied: httplib2<1dev,>=0.15.0 in /usr/local/lib/python3.7/dist-packages (from google-api-python-client>=1.6.7->tf-models-official>=2.5.1->object-detection==0.1) (0.17.4)\n",
            "Requirement already satisfied: uritemplate<4dev,>=3.0.0 in /usr/local/lib/python3.7/dist-packages (from google-api-python-client>=1.6.7->tf-models-official>=2.5.1->object-detection==0.1) (3.0.1)\n",
            "Requirement already satisfied: google-auth>=1.16.0 in /usr/local/lib/python3.7/dist-packages (from google-api-python-client>=1.6.7->tf-models-official>=2.5.1->object-detection==0.1) (1.35.0)\n",
            "Requirement already satisfied: google-auth-httplib2>=0.0.3 in /usr/local/lib/python3.7/dist-packages (from google-api-python-client>=1.6.7->tf-models-official>=2.5.1->object-detection==0.1) (0.0.4)\n",
            "Requirement already satisfied: google-api-core<2dev,>=1.21.0 in /usr/local/lib/python3.7/dist-packages (from google-api-python-client>=1.6.7->tf-models-official>=2.5.1->object-detection==0.1) (1.26.3)\n",
            "Requirement already satisfied: packaging>=14.3 in /usr/local/lib/python3.7/dist-packages (from google-api-core<2dev,>=1.21.0->google-api-python-client>=1.6.7->tf-models-official>=2.5.1->object-detection==0.1) (21.0)\n",
            "Requirement already satisfied: googleapis-common-protos<2.0dev,>=1.6.0 in /usr/local/lib/python3.7/dist-packages (from google-api-core<2dev,>=1.21.0->google-api-python-client>=1.6.7->tf-models-official>=2.5.1->object-detection==0.1) (1.53.0)\n",
            "Requirement already satisfied: setuptools>=40.3.0 in /usr/local/lib/python3.7/dist-packages (from google-api-core<2dev,>=1.21.0->google-api-python-client>=1.6.7->tf-models-official>=2.5.1->object-detection==0.1) (57.4.0)\n",
            "Requirement already satisfied: requests<3.0.0dev,>=2.18.0 in /usr/local/lib/python3.7/dist-packages (from google-api-core<2dev,>=1.21.0->google-api-python-client>=1.6.7->tf-models-official>=2.5.1->object-detection==0.1) (2.26.0)\n",
            "Requirement already satisfied: protobuf>=3.12.0 in /usr/local/lib/python3.7/dist-packages (from google-api-core<2dev,>=1.21.0->google-api-python-client>=1.6.7->tf-models-official>=2.5.1->object-detection==0.1) (3.17.3)\n",
            "Requirement already satisfied: pytz in /usr/local/lib/python3.7/dist-packages (from google-api-core<2dev,>=1.21.0->google-api-python-client>=1.6.7->tf-models-official>=2.5.1->object-detection==0.1) (2018.9)\n",
            "Requirement already satisfied: pyasn1-modules>=0.2.1 in /usr/local/lib/python3.7/dist-packages (from google-auth>=1.16.0->google-api-python-client>=1.6.7->tf-models-official>=2.5.1->object-detection==0.1) (0.2.8)\n",
            "Requirement already satisfied: rsa<5,>=3.1.4 in /usr/local/lib/python3.7/dist-packages (from google-auth>=1.16.0->google-api-python-client>=1.6.7->tf-models-official>=2.5.1->object-detection==0.1) (4.7.2)\n",
            "Requirement already satisfied: cachetools<5.0,>=2.0.0 in /usr/local/lib/python3.7/dist-packages (from google-auth>=1.16.0->google-api-python-client>=1.6.7->tf-models-official>=2.5.1->object-detection==0.1) (4.2.4)\n",
            "Requirement already satisfied: tqdm in /usr/local/lib/python3.7/dist-packages (from kaggle>=1.3.9->tf-models-official>=2.5.1->object-detection==0.1) (4.62.3)\n",
            "Requirement already satisfied: python-dateutil in /usr/local/lib/python3.7/dist-packages (from kaggle>=1.3.9->tf-models-official>=2.5.1->object-detection==0.1) (2.8.2)\n",
            "Requirement already satisfied: certifi in /usr/local/lib/python3.7/dist-packages (from kaggle>=1.3.9->tf-models-official>=2.5.1->object-detection==0.1) (2021.5.30)\n",
            "Requirement already satisfied: urllib3 in /usr/local/lib/python3.7/dist-packages (from kaggle>=1.3.9->tf-models-official>=2.5.1->object-detection==0.1) (1.24.3)\n",
            "Requirement already satisfied: python-slugify in /usr/local/lib/python3.7/dist-packages (from kaggle>=1.3.9->tf-models-official>=2.5.1->object-detection==0.1) (5.0.2)\n",
            "Requirement already satisfied: pyparsing>=2.0.2 in /usr/local/lib/python3.7/dist-packages (from packaging>=14.3->google-api-core<2dev,>=1.21.0->google-api-python-client>=1.6.7->tf-models-official>=2.5.1->object-detection==0.1) (2.4.7)\n",
            "Requirement already satisfied: pyasn1<0.5.0,>=0.4.6 in /usr/local/lib/python3.7/dist-packages (from pyasn1-modules>=0.2.1->google-auth>=1.16.0->google-api-python-client>=1.6.7->tf-models-official>=2.5.1->object-detection==0.1) (0.4.8)\n",
            "Requirement already satisfied: charset-normalizer~=2.0.0 in /usr/local/lib/python3.7/dist-packages (from requests<3.0.0dev,>=2.18.0->google-api-core<2dev,>=1.21.0->google-api-python-client>=1.6.7->tf-models-official>=2.5.1->object-detection==0.1) (2.0.7)\n",
            "Requirement already satisfied: idna<4,>=2.5 in /usr/local/lib/python3.7/dist-packages (from requests<3.0.0dev,>=2.18.0->google-api-core<2dev,>=1.21.0->google-api-python-client>=1.6.7->tf-models-official>=2.5.1->object-detection==0.1) (2.10)\n",
            "Requirement already satisfied: grpcio<2.0,>=1.37.0 in /usr/local/lib/python3.7/dist-packages (from tensorflow>=2.5.0->tf-models-official>=2.5.1->object-detection==0.1) (1.41.0)\n",
            "Requirement already satisfied: opt-einsum~=3.3.0 in /usr/local/lib/python3.7/dist-packages (from tensorflow>=2.5.0->tf-models-official>=2.5.1->object-detection==0.1) (3.3.0)\n",
            "Requirement already satisfied: astunparse~=1.6.3 in /usr/local/lib/python3.7/dist-packages (from tensorflow>=2.5.0->tf-models-official>=2.5.1->object-detection==0.1) (1.6.3)\n",
            "Requirement already satisfied: keras-preprocessing~=1.1.2 in /usr/local/lib/python3.7/dist-packages (from tensorflow>=2.5.0->tf-models-official>=2.5.1->object-detection==0.1) (1.1.2)\n",
            "Requirement already satisfied: clang~=5.0 in /usr/local/lib/python3.7/dist-packages (from tensorflow>=2.5.0->tf-models-official>=2.5.1->object-detection==0.1) (5.0)\n",
            "Requirement already satisfied: tensorboard~=2.6 in /usr/local/lib/python3.7/dist-packages (from tensorflow>=2.5.0->tf-models-official>=2.5.1->object-detection==0.1) (2.6.0)\n",
            "Requirement already satisfied: google-pasta~=0.2 in /usr/local/lib/python3.7/dist-packages (from tensorflow>=2.5.0->tf-models-official>=2.5.1->object-detection==0.1) (0.2.0)\n",
            "Requirement already satisfied: h5py~=3.1.0 in /usr/local/lib/python3.7/dist-packages (from tensorflow>=2.5.0->tf-models-official>=2.5.1->object-detection==0.1) (3.1.0)\n",
            "Requirement already satisfied: wrapt~=1.12.1 in /usr/local/lib/python3.7/dist-packages (from tensorflow>=2.5.0->tf-models-official>=2.5.1->object-detection==0.1) (1.12.1)\n",
            "Requirement already satisfied: wheel~=0.35 in /usr/local/lib/python3.7/dist-packages (from tensorflow>=2.5.0->tf-models-official>=2.5.1->object-detection==0.1) (0.37.0)\n",
            "Requirement already satisfied: termcolor~=1.1.0 in /usr/local/lib/python3.7/dist-packages (from tensorflow>=2.5.0->tf-models-official>=2.5.1->object-detection==0.1) (1.1.0)\n",
            "Requirement already satisfied: typing-extensions~=3.7.4 in /usr/local/lib/python3.7/dist-packages (from tensorflow>=2.5.0->tf-models-official>=2.5.1->object-detection==0.1) (3.7.4.3)\n",
            "Requirement already satisfied: gast==0.4.0 in /usr/local/lib/python3.7/dist-packages (from tensorflow>=2.5.0->tf-models-official>=2.5.1->object-detection==0.1) (0.4.0)\n",
            "Requirement already satisfied: flatbuffers~=1.12.0 in /usr/local/lib/python3.7/dist-packages (from tensorflow>=2.5.0->tf-models-official>=2.5.1->object-detection==0.1) (1.12)\n",
            "Requirement already satisfied: tensorflow-estimator~=2.6 in /usr/local/lib/python3.7/dist-packages (from tensorflow>=2.5.0->tf-models-official>=2.5.1->object-detection==0.1) (2.6.0)\n",
            "Requirement already satisfied: absl-py~=0.10 in /usr/local/lib/python3.7/dist-packages (from tensorflow>=2.5.0->tf-models-official>=2.5.1->object-detection==0.1) (0.12.0)\n",
            "Requirement already satisfied: cached-property in /usr/local/lib/python3.7/dist-packages (from h5py~=3.1.0->tensorflow>=2.5.0->tf-models-official>=2.5.1->object-detection==0.1) (1.5.2)\n",
            "Requirement already satisfied: google-auth-oauthlib<0.5,>=0.4.1 in /usr/local/lib/python3.7/dist-packages (from tensorboard~=2.6->tensorflow>=2.5.0->tf-models-official>=2.5.1->object-detection==0.1) (0.4.6)\n",
            "Requirement already satisfied: werkzeug>=0.11.15 in /usr/local/lib/python3.7/dist-packages (from tensorboard~=2.6->tensorflow>=2.5.0->tf-models-official>=2.5.1->object-detection==0.1) (1.0.1)\n",
            "Requirement already satisfied: markdown>=2.6.8 in /usr/local/lib/python3.7/dist-packages (from tensorboard~=2.6->tensorflow>=2.5.0->tf-models-official>=2.5.1->object-detection==0.1) (3.3.4)\n",
            "Requirement already satisfied: tensorboard-plugin-wit>=1.6.0 in /usr/local/lib/python3.7/dist-packages (from tensorboard~=2.6->tensorflow>=2.5.0->tf-models-official>=2.5.1->object-detection==0.1) (1.8.0)\n",
            "Requirement already satisfied: tensorboard-data-server<0.7.0,>=0.6.0 in /usr/local/lib/python3.7/dist-packages (from tensorboard~=2.6->tensorflow>=2.5.0->tf-models-official>=2.5.1->object-detection==0.1) (0.6.1)\n",
            "Requirement already satisfied: requests-oauthlib>=0.7.0 in /usr/local/lib/python3.7/dist-packages (from google-auth-oauthlib<0.5,>=0.4.1->tensorboard~=2.6->tensorflow>=2.5.0->tf-models-official>=2.5.1->object-detection==0.1) (1.3.0)\n",
            "Requirement already satisfied: importlib-metadata in /usr/local/lib/python3.7/dist-packages (from markdown>=2.6.8->tensorboard~=2.6->tensorflow>=2.5.0->tf-models-official>=2.5.1->object-detection==0.1) (4.8.1)\n",
            "Requirement already satisfied: oauthlib>=3.0.0 in /usr/local/lib/python3.7/dist-packages (from requests-oauthlib>=0.7.0->google-auth-oauthlib<0.5,>=0.4.1->tensorboard~=2.6->tensorflow>=2.5.0->tf-models-official>=2.5.1->object-detection==0.1) (3.1.1)\n",
            "Requirement already satisfied: dm-tree~=0.1.1 in /usr/local/lib/python3.7/dist-packages (from tensorflow-model-optimization>=0.4.1->tf-models-official>=2.5.1->object-detection==0.1) (0.1.6)\n",
            "Requirement already satisfied: fastavro<2,>=0.21.4 in /usr/local/lib/python3.7/dist-packages (from apache-beam->object-detection==0.1) (1.4.7)\n",
            "Requirement already satisfied: pydot<2,>=1.2.0 in /usr/local/lib/python3.7/dist-packages (from apache-beam->object-detection==0.1) (1.3.0)\n",
            "Requirement already satisfied: pymongo<4.0.0,>=3.8.0 in /usr/local/lib/python3.7/dist-packages (from apache-beam->object-detection==0.1) (3.12.0)\n",
            "Requirement already satisfied: future<1.0.0,>=0.18.2 in /usr/local/lib/python3.7/dist-packages (from apache-beam->object-detection==0.1) (0.18.2)\n",
            "Requirement already satisfied: crcmod<2.0,>=1.7 in /usr/local/lib/python3.7/dist-packages (from apache-beam->object-detection==0.1) (1.7)\n",
            "Requirement already satisfied: orjson<4.0 in /usr/local/lib/python3.7/dist-packages (from apache-beam->object-detection==0.1) (3.6.4)\n",
            "Requirement already satisfied: dill<0.3.2,>=0.3.1.1 in /usr/local/lib/python3.7/dist-packages (from apache-beam->object-detection==0.1) (0.3.1.1)\n",
            "Requirement already satisfied: pyarrow<5.0.0,>=0.15.1 in /usr/local/lib/python3.7/dist-packages (from apache-beam->object-detection==0.1) (3.0.0)\n",
            "Requirement already satisfied: hdfs<3.0.0,>=2.1.0 in /usr/local/lib/python3.7/dist-packages (from apache-beam->object-detection==0.1) (2.6.0)\n",
            "Requirement already satisfied: docopt in /usr/local/lib/python3.7/dist-packages (from hdfs<3.0.0,>=2.1.0->apache-beam->object-detection==0.1) (0.6.2)\n",
            "Requirement already satisfied: zipp>=0.5 in /usr/local/lib/python3.7/dist-packages (from importlib-metadata->markdown>=2.6.8->tensorboard~=2.6->tensorflow>=2.5.0->tf-models-official>=2.5.1->object-detection==0.1) (3.6.0)\n",
            "Requirement already satisfied: opencv-python>=4.1.0.25 in /usr/local/lib/python3.7/dist-packages (from lvis->object-detection==0.1) (4.1.2.30)\n",
            "Requirement already satisfied: cycler>=0.10.0 in /usr/local/lib/python3.7/dist-packages (from lvis->object-detection==0.1) (0.10.0)\n",
            "Requirement already satisfied: kiwisolver>=1.1.0 in /usr/local/lib/python3.7/dist-packages (from lvis->object-detection==0.1) (1.3.2)\n",
            "Requirement already satisfied: text-unidecode>=1.3 in /usr/local/lib/python3.7/dist-packages (from python-slugify->kaggle>=1.3.9->tf-models-official>=2.5.1->object-detection==0.1) (1.3)\n",
            "Requirement already satisfied: tabulate>=0.8.9 in /usr/local/lib/python3.7/dist-packages (from sacrebleu->tf-models-official>=2.5.1->object-detection==0.1) (0.8.9)\n",
            "Requirement already satisfied: regex in /usr/local/lib/python3.7/dist-packages (from sacrebleu->tf-models-official>=2.5.1->object-detection==0.1) (2019.12.20)\n",
            "Requirement already satisfied: colorama in /usr/local/lib/python3.7/dist-packages (from sacrebleu->tf-models-official>=2.5.1->object-detection==0.1) (0.4.4)\n",
            "Requirement already satisfied: portalocker in /usr/local/lib/python3.7/dist-packages (from sacrebleu->tf-models-official>=2.5.1->object-detection==0.1) (2.3.2)\n",
            "Requirement already satisfied: scikit-learn>=0.21.3 in /usr/local/lib/python3.7/dist-packages (from seqeval->tf-models-official>=2.5.1->object-detection==0.1) (0.22.2.post1)\n",
            "Requirement already satisfied: joblib>=0.11 in /usr/local/lib/python3.7/dist-packages (from scikit-learn>=0.21.3->seqeval->tf-models-official>=2.5.1->object-detection==0.1) (1.0.1)\n",
            "Requirement already satisfied: typeguard>=2.7 in /usr/local/lib/python3.7/dist-packages (from tensorflow-addons->tf-models-official>=2.5.1->object-detection==0.1) (2.7.1)\n",
            "Requirement already satisfied: promise in /usr/local/lib/python3.7/dist-packages (from tensorflow-datasets->tf-models-official>=2.5.1->object-detection==0.1) (2.3)\n",
            "Requirement already satisfied: attrs>=18.1.0 in /usr/local/lib/python3.7/dist-packages (from tensorflow-datasets->tf-models-official>=2.5.1->object-detection==0.1) (21.2.0)\n",
            "Requirement already satisfied: tensorflow-metadata in /usr/local/lib/python3.7/dist-packages (from tensorflow-datasets->tf-models-official>=2.5.1->object-detection==0.1) (1.2.0)\n",
            "Requirement already satisfied: importlib-resources in /usr/local/lib/python3.7/dist-packages (from tensorflow-datasets->tf-models-official>=2.5.1->object-detection==0.1) (5.2.2)\n",
            "Requirement already satisfied: tensorflow-io-gcs-filesystem==0.21.0 in /usr/local/lib/python3.7/dist-packages (from tensorflow_io->object-detection==0.1) (0.21.0)\n",
            "Building wheels for collected packages: object-detection\n",
            "  Building wheel for object-detection (setup.py) ... \u001b[?25l\u001b[?25hdone\n",
            "  Created wheel for object-detection: filename=object_detection-0.1-py3-none-any.whl size=1679351 sha256=653ae1f02cf2e246923864c104fa0860abc088462c1f145124162774e1566872\n",
            "  Stored in directory: /tmp/pip-ephem-wheel-cache-j2b5ng_x/wheels/a9/26/bf/1cb2313ed4855917889b97658bf0a19999e3588e47867bdaee\n",
            "Successfully built object-detection\n",
            "Installing collected packages: object-detection\n",
            "  Attempting uninstall: object-detection\n",
            "    Found existing installation: object-detection 0.1\n",
            "    Uninstalling object-detection-0.1:\n",
            "      Successfully uninstalled object-detection-0.1\n",
            "Successfully installed object-detection-0.1\n"
          ]
        }
      ]
    },
    {
      "cell_type": "code",
      "metadata": {
        "colab": {
          "base_uri": "https://localhost:8080/"
        },
        "id": "yEJaBW1QrUUP",
        "scrolled": true,
        "outputId": "11eaa1fb-2eb4-4e1e-a9c9-6e1e67a471b4"
      },
      "source": [
        "VERIFICATION_SCRIPT = os.path.join(paths['APIMODEL_PATH'], 'research', 'object_detection', 'builders', 'model_builder_tf2_test.py')\n",
        "# Verify Installation\n",
        "!python {VERIFICATION_SCRIPT}"
      ],
      "execution_count": null,
      "outputs": [
        {
          "name": "stdout",
          "output_type": "stream",
          "text": [
            "2021-11-05 11:22:34.590438: I tensorflow/stream_executor/cuda/cuda_gpu_executor.cc:937] successful NUMA node read from SysFS had negative value (-1), but there must be at least one NUMA node, so returning NUMA node zero\n",
            "2021-11-05 11:22:34.600283: I tensorflow/stream_executor/cuda/cuda_gpu_executor.cc:937] successful NUMA node read from SysFS had negative value (-1), but there must be at least one NUMA node, so returning NUMA node zero\n",
            "2021-11-05 11:22:34.601108: I tensorflow/stream_executor/cuda/cuda_gpu_executor.cc:937] successful NUMA node read from SysFS had negative value (-1), but there must be at least one NUMA node, so returning NUMA node zero\n",
            "Running tests under Python 3.7.12: /usr/bin/python3\n",
            "[ RUN      ] ModelBuilderTF2Test.test_create_center_net_deepmac\n",
            "2021-11-05 11:22:34.610170: I tensorflow/stream_executor/cuda/cuda_gpu_executor.cc:937] successful NUMA node read from SysFS had negative value (-1), but there must be at least one NUMA node, so returning NUMA node zero\n",
            "2021-11-05 11:22:34.610919: I tensorflow/stream_executor/cuda/cuda_gpu_executor.cc:937] successful NUMA node read from SysFS had negative value (-1), but there must be at least one NUMA node, so returning NUMA node zero\n",
            "2021-11-05 11:22:34.611740: I tensorflow/stream_executor/cuda/cuda_gpu_executor.cc:937] successful NUMA node read from SysFS had negative value (-1), but there must be at least one NUMA node, so returning NUMA node zero\n",
            "2021-11-05 11:22:35.083970: I tensorflow/stream_executor/cuda/cuda_gpu_executor.cc:937] successful NUMA node read from SysFS had negative value (-1), but there must be at least one NUMA node, so returning NUMA node zero\n",
            "2021-11-05 11:22:35.084839: I tensorflow/stream_executor/cuda/cuda_gpu_executor.cc:937] successful NUMA node read from SysFS had negative value (-1), but there must be at least one NUMA node, so returning NUMA node zero\n",
            "2021-11-05 11:22:35.085631: I tensorflow/stream_executor/cuda/cuda_gpu_executor.cc:937] successful NUMA node read from SysFS had negative value (-1), but there must be at least one NUMA node, so returning NUMA node zero\n",
            "2021-11-05 11:22:35.086355: W tensorflow/core/common_runtime/gpu/gpu_bfc_allocator.cc:39] Overriding allow_growth setting because the TF_FORCE_GPU_ALLOW_GROWTH environment variable is set. Original config value was 0.\n",
            "2021-11-05 11:22:35.086458: I tensorflow/core/common_runtime/gpu/gpu_device.cc:1510] Created device /job:localhost/replica:0/task:0/device:GPU:0 with 10819 MB memory:  -> device: 0, name: Tesla K80, pci bus id: 0000:00:04.0, compute capability: 3.7\n",
            "W1105 11:22:35.468389 140235973724032 model_builder.py:1100] Building experimental DeepMAC meta-arch. Some features may be omitted.\n",
            "INFO:tensorflow:time(__main__.ModelBuilderTF2Test.test_create_center_net_deepmac): 1.18s\n",
            "I1105 11:22:35.785540 140235973724032 test_util.py:2189] time(__main__.ModelBuilderTF2Test.test_create_center_net_deepmac): 1.18s\n",
            "[       OK ] ModelBuilderTF2Test.test_create_center_net_deepmac\n",
            "[ RUN      ] ModelBuilderTF2Test.test_create_center_net_model0 (customize_head_params=True)\n",
            "INFO:tensorflow:time(__main__.ModelBuilderTF2Test.test_create_center_net_model0 (customize_head_params=True)): 0.61s\n",
            "I1105 11:22:36.400672 140235973724032 test_util.py:2189] time(__main__.ModelBuilderTF2Test.test_create_center_net_model0 (customize_head_params=True)): 0.61s\n",
            "[       OK ] ModelBuilderTF2Test.test_create_center_net_model0 (customize_head_params=True)\n",
            "[ RUN      ] ModelBuilderTF2Test.test_create_center_net_model1 (customize_head_params=False)\n",
            "INFO:tensorflow:time(__main__.ModelBuilderTF2Test.test_create_center_net_model1 (customize_head_params=False)): 0.35s\n",
            "I1105 11:22:36.750899 140235973724032 test_util.py:2189] time(__main__.ModelBuilderTF2Test.test_create_center_net_model1 (customize_head_params=False)): 0.35s\n",
            "[       OK ] ModelBuilderTF2Test.test_create_center_net_model1 (customize_head_params=False)\n",
            "[ RUN      ] ModelBuilderTF2Test.test_create_center_net_model_from_keypoints\n",
            "INFO:tensorflow:time(__main__.ModelBuilderTF2Test.test_create_center_net_model_from_keypoints): 0.42s\n",
            "I1105 11:22:37.168142 140235973724032 test_util.py:2189] time(__main__.ModelBuilderTF2Test.test_create_center_net_model_from_keypoints): 0.42s\n",
            "[       OK ] ModelBuilderTF2Test.test_create_center_net_model_from_keypoints\n",
            "[ RUN      ] ModelBuilderTF2Test.test_create_center_net_model_mobilenet\n",
            "INFO:tensorflow:time(__main__.ModelBuilderTF2Test.test_create_center_net_model_mobilenet): 2.02s\n",
            "I1105 11:22:39.187944 140235973724032 test_util.py:2189] time(__main__.ModelBuilderTF2Test.test_create_center_net_model_mobilenet): 2.02s\n",
            "[       OK ] ModelBuilderTF2Test.test_create_center_net_model_mobilenet\n",
            "[ RUN      ] ModelBuilderTF2Test.test_create_experimental_model\n",
            "INFO:tensorflow:time(__main__.ModelBuilderTF2Test.test_create_experimental_model): 0.0s\n",
            "I1105 11:22:39.188965 140235973724032 test_util.py:2189] time(__main__.ModelBuilderTF2Test.test_create_experimental_model): 0.0s\n",
            "[       OK ] ModelBuilderTF2Test.test_create_experimental_model\n",
            "[ RUN      ] ModelBuilderTF2Test.test_create_faster_rcnn_from_config_with_crop_feature0 (True)\n",
            "INFO:tensorflow:time(__main__.ModelBuilderTF2Test.test_create_faster_rcnn_from_config_with_crop_feature0 (True)): 0.03s\n",
            "I1105 11:22:39.214467 140235973724032 test_util.py:2189] time(__main__.ModelBuilderTF2Test.test_create_faster_rcnn_from_config_with_crop_feature0 (True)): 0.03s\n",
            "[       OK ] ModelBuilderTF2Test.test_create_faster_rcnn_from_config_with_crop_feature0 (True)\n",
            "[ RUN      ] ModelBuilderTF2Test.test_create_faster_rcnn_from_config_with_crop_feature1 (False)\n",
            "INFO:tensorflow:time(__main__.ModelBuilderTF2Test.test_create_faster_rcnn_from_config_with_crop_feature1 (False)): 0.02s\n",
            "I1105 11:22:39.233575 140235973724032 test_util.py:2189] time(__main__.ModelBuilderTF2Test.test_create_faster_rcnn_from_config_with_crop_feature1 (False)): 0.02s\n",
            "[       OK ] ModelBuilderTF2Test.test_create_faster_rcnn_from_config_with_crop_feature1 (False)\n",
            "[ RUN      ] ModelBuilderTF2Test.test_create_faster_rcnn_model_from_config_with_example_miner\n",
            "INFO:tensorflow:time(__main__.ModelBuilderTF2Test.test_create_faster_rcnn_model_from_config_with_example_miner): 0.02s\n",
            "I1105 11:22:39.254089 140235973724032 test_util.py:2189] time(__main__.ModelBuilderTF2Test.test_create_faster_rcnn_model_from_config_with_example_miner): 0.02s\n",
            "[       OK ] ModelBuilderTF2Test.test_create_faster_rcnn_model_from_config_with_example_miner\n",
            "[ RUN      ] ModelBuilderTF2Test.test_create_faster_rcnn_models_from_config_faster_rcnn_with_matmul\n",
            "INFO:tensorflow:time(__main__.ModelBuilderTF2Test.test_create_faster_rcnn_models_from_config_faster_rcnn_with_matmul): 0.12s\n",
            "I1105 11:22:39.369729 140235973724032 test_util.py:2189] time(__main__.ModelBuilderTF2Test.test_create_faster_rcnn_models_from_config_faster_rcnn_with_matmul): 0.12s\n",
            "[       OK ] ModelBuilderTF2Test.test_create_faster_rcnn_models_from_config_faster_rcnn_with_matmul\n",
            "[ RUN      ] ModelBuilderTF2Test.test_create_faster_rcnn_models_from_config_faster_rcnn_without_matmul\n",
            "INFO:tensorflow:time(__main__.ModelBuilderTF2Test.test_create_faster_rcnn_models_from_config_faster_rcnn_without_matmul): 0.12s\n",
            "I1105 11:22:39.491685 140235973724032 test_util.py:2189] time(__main__.ModelBuilderTF2Test.test_create_faster_rcnn_models_from_config_faster_rcnn_without_matmul): 0.12s\n",
            "[       OK ] ModelBuilderTF2Test.test_create_faster_rcnn_models_from_config_faster_rcnn_without_matmul\n",
            "[ RUN      ] ModelBuilderTF2Test.test_create_faster_rcnn_models_from_config_mask_rcnn_with_matmul\n",
            "INFO:tensorflow:time(__main__.ModelBuilderTF2Test.test_create_faster_rcnn_models_from_config_mask_rcnn_with_matmul): 0.12s\n",
            "I1105 11:22:39.609445 140235973724032 test_util.py:2189] time(__main__.ModelBuilderTF2Test.test_create_faster_rcnn_models_from_config_mask_rcnn_with_matmul): 0.12s\n",
            "[       OK ] ModelBuilderTF2Test.test_create_faster_rcnn_models_from_config_mask_rcnn_with_matmul\n",
            "[ RUN      ] ModelBuilderTF2Test.test_create_faster_rcnn_models_from_config_mask_rcnn_without_matmul\n",
            "INFO:tensorflow:time(__main__.ModelBuilderTF2Test.test_create_faster_rcnn_models_from_config_mask_rcnn_without_matmul): 0.12s\n",
            "I1105 11:22:39.727959 140235973724032 test_util.py:2189] time(__main__.ModelBuilderTF2Test.test_create_faster_rcnn_models_from_config_mask_rcnn_without_matmul): 0.12s\n",
            "[       OK ] ModelBuilderTF2Test.test_create_faster_rcnn_models_from_config_mask_rcnn_without_matmul\n",
            "[ RUN      ] ModelBuilderTF2Test.test_create_rfcn_model_from_config\n",
            "INFO:tensorflow:time(__main__.ModelBuilderTF2Test.test_create_rfcn_model_from_config): 0.11s\n",
            "I1105 11:22:39.842076 140235973724032 test_util.py:2189] time(__main__.ModelBuilderTF2Test.test_create_rfcn_model_from_config): 0.11s\n",
            "[       OK ] ModelBuilderTF2Test.test_create_rfcn_model_from_config\n",
            "[ RUN      ] ModelBuilderTF2Test.test_create_ssd_fpn_model_from_config\n",
            "INFO:tensorflow:time(__main__.ModelBuilderTF2Test.test_create_ssd_fpn_model_from_config): 0.03s\n",
            "I1105 11:22:39.875993 140235973724032 test_util.py:2189] time(__main__.ModelBuilderTF2Test.test_create_ssd_fpn_model_from_config): 0.03s\n",
            "[       OK ] ModelBuilderTF2Test.test_create_ssd_fpn_model_from_config\n",
            "[ RUN      ] ModelBuilderTF2Test.test_create_ssd_models_from_config\n",
            "I1105 11:22:40.222821 140235973724032 ssd_efficientnet_bifpn_feature_extractor.py:143] EfficientDet EfficientNet backbone version: efficientnet-b0\n",
            "I1105 11:22:40.223086 140235973724032 ssd_efficientnet_bifpn_feature_extractor.py:144] EfficientDet BiFPN num filters: 64\n",
            "I1105 11:22:40.223242 140235973724032 ssd_efficientnet_bifpn_feature_extractor.py:146] EfficientDet BiFPN num iterations: 3\n",
            "I1105 11:22:40.225931 140235973724032 efficientnet_model.py:147] round_filter input=32 output=32\n",
            "I1105 11:22:40.244450 140235973724032 efficientnet_model.py:147] round_filter input=32 output=32\n",
            "I1105 11:22:40.244576 140235973724032 efficientnet_model.py:147] round_filter input=16 output=16\n",
            "I1105 11:22:40.317754 140235973724032 efficientnet_model.py:147] round_filter input=16 output=16\n",
            "I1105 11:22:40.317931 140235973724032 efficientnet_model.py:147] round_filter input=24 output=24\n",
            "I1105 11:22:40.497136 140235973724032 efficientnet_model.py:147] round_filter input=24 output=24\n",
            "I1105 11:22:40.497311 140235973724032 efficientnet_model.py:147] round_filter input=40 output=40\n",
            "I1105 11:22:40.673776 140235973724032 efficientnet_model.py:147] round_filter input=40 output=40\n",
            "I1105 11:22:40.674082 140235973724032 efficientnet_model.py:147] round_filter input=80 output=80\n",
            "I1105 11:22:40.938714 140235973724032 efficientnet_model.py:147] round_filter input=80 output=80\n",
            "I1105 11:22:40.938941 140235973724032 efficientnet_model.py:147] round_filter input=112 output=112\n",
            "I1105 11:22:41.217926 140235973724032 efficientnet_model.py:147] round_filter input=112 output=112\n",
            "I1105 11:22:41.218142 140235973724032 efficientnet_model.py:147] round_filter input=192 output=192\n",
            "I1105 11:22:41.577529 140235973724032 efficientnet_model.py:147] round_filter input=192 output=192\n",
            "I1105 11:22:41.577749 140235973724032 efficientnet_model.py:147] round_filter input=320 output=320\n",
            "I1105 11:22:41.662908 140235973724032 efficientnet_model.py:147] round_filter input=1280 output=1280\n",
            "I1105 11:22:41.698006 140235973724032 efficientnet_model.py:458] Building model efficientnet with params ModelConfig(width_coefficient=1.0, depth_coefficient=1.0, resolution=224, dropout_rate=0.2, blocks=(BlockConfig(input_filters=32, output_filters=16, kernel_size=3, num_repeat=1, expand_ratio=1, strides=(1, 1), se_ratio=0.25, id_skip=True, fused_conv=False, conv_type='depthwise'), BlockConfig(input_filters=16, output_filters=24, kernel_size=3, num_repeat=2, expand_ratio=6, strides=(2, 2), se_ratio=0.25, id_skip=True, fused_conv=False, conv_type='depthwise'), BlockConfig(input_filters=24, output_filters=40, kernel_size=5, num_repeat=2, expand_ratio=6, strides=(2, 2), se_ratio=0.25, id_skip=True, fused_conv=False, conv_type='depthwise'), BlockConfig(input_filters=40, output_filters=80, kernel_size=3, num_repeat=3, expand_ratio=6, strides=(2, 2), se_ratio=0.25, id_skip=True, fused_conv=False, conv_type='depthwise'), BlockConfig(input_filters=80, output_filters=112, kernel_size=5, num_repeat=3, expand_ratio=6, strides=(1, 1), se_ratio=0.25, id_skip=True, fused_conv=False, conv_type='depthwise'), BlockConfig(input_filters=112, output_filters=192, kernel_size=5, num_repeat=4, expand_ratio=6, strides=(2, 2), se_ratio=0.25, id_skip=True, fused_conv=False, conv_type='depthwise'), BlockConfig(input_filters=192, output_filters=320, kernel_size=3, num_repeat=1, expand_ratio=6, strides=(1, 1), se_ratio=0.25, id_skip=True, fused_conv=False, conv_type='depthwise')), stem_base_filters=32, top_base_filters=1280, activation='simple_swish', batch_norm='default', bn_momentum=0.99, bn_epsilon=0.001, weight_decay=5e-06, drop_connect_rate=0.2, depth_divisor=8, min_depth=None, use_se=True, input_channels=3, num_classes=1000, model_name='efficientnet', rescale_input=False, data_format='channels_last', dtype='float32')\n",
            "I1105 11:22:41.755442 140235973724032 ssd_efficientnet_bifpn_feature_extractor.py:143] EfficientDet EfficientNet backbone version: efficientnet-b1\n",
            "I1105 11:22:41.755781 140235973724032 ssd_efficientnet_bifpn_feature_extractor.py:144] EfficientDet BiFPN num filters: 88\n",
            "I1105 11:22:41.755897 140235973724032 ssd_efficientnet_bifpn_feature_extractor.py:146] EfficientDet BiFPN num iterations: 4\n",
            "I1105 11:22:41.757870 140235973724032 efficientnet_model.py:147] round_filter input=32 output=32\n",
            "I1105 11:22:41.776301 140235973724032 efficientnet_model.py:147] round_filter input=32 output=32\n",
            "I1105 11:22:41.776436 140235973724032 efficientnet_model.py:147] round_filter input=16 output=16\n",
            "I1105 11:22:41.918061 140235973724032 efficientnet_model.py:147] round_filter input=16 output=16\n",
            "I1105 11:22:41.918274 140235973724032 efficientnet_model.py:147] round_filter input=24 output=24\n",
            "I1105 11:22:42.218514 140235973724032 efficientnet_model.py:147] round_filter input=24 output=24\n",
            "I1105 11:22:42.218733 140235973724032 efficientnet_model.py:147] round_filter input=40 output=40\n",
            "I1105 11:22:42.505769 140235973724032 efficientnet_model.py:147] round_filter input=40 output=40\n",
            "I1105 11:22:42.505959 140235973724032 efficientnet_model.py:147] round_filter input=80 output=80\n",
            "I1105 11:22:42.880061 140235973724032 efficientnet_model.py:147] round_filter input=80 output=80\n",
            "I1105 11:22:42.880313 140235973724032 efficientnet_model.py:147] round_filter input=112 output=112\n",
            "I1105 11:22:43.267083 140235973724032 efficientnet_model.py:147] round_filter input=112 output=112\n",
            "I1105 11:22:43.267315 140235973724032 efficientnet_model.py:147] round_filter input=192 output=192\n",
            "I1105 11:22:43.837774 140235973724032 efficientnet_model.py:147] round_filter input=192 output=192\n",
            "I1105 11:22:43.837978 140235973724032 efficientnet_model.py:147] round_filter input=320 output=320\n",
            "I1105 11:22:44.013612 140235973724032 efficientnet_model.py:147] round_filter input=1280 output=1280\n",
            "I1105 11:22:44.046830 140235973724032 efficientnet_model.py:458] Building model efficientnet with params ModelConfig(width_coefficient=1.0, depth_coefficient=1.1, resolution=240, dropout_rate=0.2, blocks=(BlockConfig(input_filters=32, output_filters=16, kernel_size=3, num_repeat=1, expand_ratio=1, strides=(1, 1), se_ratio=0.25, id_skip=True, fused_conv=False, conv_type='depthwise'), BlockConfig(input_filters=16, output_filters=24, kernel_size=3, num_repeat=2, expand_ratio=6, strides=(2, 2), se_ratio=0.25, id_skip=True, fused_conv=False, conv_type='depthwise'), BlockConfig(input_filters=24, output_filters=40, kernel_size=5, num_repeat=2, expand_ratio=6, strides=(2, 2), se_ratio=0.25, id_skip=True, fused_conv=False, conv_type='depthwise'), BlockConfig(input_filters=40, output_filters=80, kernel_size=3, num_repeat=3, expand_ratio=6, strides=(2, 2), se_ratio=0.25, id_skip=True, fused_conv=False, conv_type='depthwise'), BlockConfig(input_filters=80, output_filters=112, kernel_size=5, num_repeat=3, expand_ratio=6, strides=(1, 1), se_ratio=0.25, id_skip=True, fused_conv=False, conv_type='depthwise'), BlockConfig(input_filters=112, output_filters=192, kernel_size=5, num_repeat=4, expand_ratio=6, strides=(2, 2), se_ratio=0.25, id_skip=True, fused_conv=False, conv_type='depthwise'), BlockConfig(input_filters=192, output_filters=320, kernel_size=3, num_repeat=1, expand_ratio=6, strides=(1, 1), se_ratio=0.25, id_skip=True, fused_conv=False, conv_type='depthwise')), stem_base_filters=32, top_base_filters=1280, activation='simple_swish', batch_norm='default', bn_momentum=0.99, bn_epsilon=0.001, weight_decay=5e-06, drop_connect_rate=0.2, depth_divisor=8, min_depth=None, use_se=True, input_channels=3, num_classes=1000, model_name='efficientnet', rescale_input=False, data_format='channels_last', dtype='float32')\n",
            "I1105 11:22:44.130573 140235973724032 ssd_efficientnet_bifpn_feature_extractor.py:143] EfficientDet EfficientNet backbone version: efficientnet-b2\n",
            "I1105 11:22:44.130746 140235973724032 ssd_efficientnet_bifpn_feature_extractor.py:144] EfficientDet BiFPN num filters: 112\n",
            "I1105 11:22:44.130842 140235973724032 ssd_efficientnet_bifpn_feature_extractor.py:146] EfficientDet BiFPN num iterations: 5\n",
            "I1105 11:22:44.132573 140235973724032 efficientnet_model.py:147] round_filter input=32 output=32\n",
            "I1105 11:22:44.149751 140235973724032 efficientnet_model.py:147] round_filter input=32 output=32\n",
            "I1105 11:22:44.149902 140235973724032 efficientnet_model.py:147] round_filter input=16 output=16\n",
            "I1105 11:22:44.285723 140235973724032 efficientnet_model.py:147] round_filter input=16 output=16\n",
            "I1105 11:22:44.285905 140235973724032 efficientnet_model.py:147] round_filter input=24 output=24\n",
            "I1105 11:22:44.552380 140235973724032 efficientnet_model.py:147] round_filter input=24 output=24\n",
            "I1105 11:22:44.552558 140235973724032 efficientnet_model.py:147] round_filter input=40 output=48\n",
            "I1105 11:22:44.810319 140235973724032 efficientnet_model.py:147] round_filter input=40 output=48\n",
            "I1105 11:22:44.810504 140235973724032 efficientnet_model.py:147] round_filter input=80 output=88\n",
            "I1105 11:22:45.160850 140235973724032 efficientnet_model.py:147] round_filter input=80 output=88\n",
            "I1105 11:22:45.161050 140235973724032 efficientnet_model.py:147] round_filter input=112 output=120\n",
            "I1105 11:22:45.524789 140235973724032 efficientnet_model.py:147] round_filter input=112 output=120\n",
            "I1105 11:22:45.524964 140235973724032 efficientnet_model.py:147] round_filter input=192 output=208\n",
            "I1105 11:22:45.978639 140235973724032 efficientnet_model.py:147] round_filter input=192 output=208\n",
            "I1105 11:22:45.978812 140235973724032 efficientnet_model.py:147] round_filter input=320 output=352\n",
            "I1105 11:22:46.148204 140235973724032 efficientnet_model.py:147] round_filter input=1280 output=1408\n",
            "I1105 11:22:46.182041 140235973724032 efficientnet_model.py:458] Building model efficientnet with params ModelConfig(width_coefficient=1.1, depth_coefficient=1.2, resolution=260, dropout_rate=0.3, blocks=(BlockConfig(input_filters=32, output_filters=16, kernel_size=3, num_repeat=1, expand_ratio=1, strides=(1, 1), se_ratio=0.25, id_skip=True, fused_conv=False, conv_type='depthwise'), BlockConfig(input_filters=16, output_filters=24, kernel_size=3, num_repeat=2, expand_ratio=6, strides=(2, 2), se_ratio=0.25, id_skip=True, fused_conv=False, conv_type='depthwise'), BlockConfig(input_filters=24, output_filters=40, kernel_size=5, num_repeat=2, expand_ratio=6, strides=(2, 2), se_ratio=0.25, id_skip=True, fused_conv=False, conv_type='depthwise'), BlockConfig(input_filters=40, output_filters=80, kernel_size=3, num_repeat=3, expand_ratio=6, strides=(2, 2), se_ratio=0.25, id_skip=True, fused_conv=False, conv_type='depthwise'), BlockConfig(input_filters=80, output_filters=112, kernel_size=5, num_repeat=3, expand_ratio=6, strides=(1, 1), se_ratio=0.25, id_skip=True, fused_conv=False, conv_type='depthwise'), BlockConfig(input_filters=112, output_filters=192, kernel_size=5, num_repeat=4, expand_ratio=6, strides=(2, 2), se_ratio=0.25, id_skip=True, fused_conv=False, conv_type='depthwise'), BlockConfig(input_filters=192, output_filters=320, kernel_size=3, num_repeat=1, expand_ratio=6, strides=(1, 1), se_ratio=0.25, id_skip=True, fused_conv=False, conv_type='depthwise')), stem_base_filters=32, top_base_filters=1280, activation='simple_swish', batch_norm='default', bn_momentum=0.99, bn_epsilon=0.001, weight_decay=5e-06, drop_connect_rate=0.2, depth_divisor=8, min_depth=None, use_se=True, input_channels=3, num_classes=1000, model_name='efficientnet', rescale_input=False, data_format='channels_last', dtype='float32')\n",
            "I1105 11:22:46.252772 140235973724032 ssd_efficientnet_bifpn_feature_extractor.py:143] EfficientDet EfficientNet backbone version: efficientnet-b3\n",
            "I1105 11:22:46.252931 140235973724032 ssd_efficientnet_bifpn_feature_extractor.py:144] EfficientDet BiFPN num filters: 160\n",
            "I1105 11:22:46.253054 140235973724032 ssd_efficientnet_bifpn_feature_extractor.py:146] EfficientDet BiFPN num iterations: 6\n",
            "I1105 11:22:46.255015 140235973724032 efficientnet_model.py:147] round_filter input=32 output=40\n",
            "I1105 11:22:46.272972 140235973724032 efficientnet_model.py:147] round_filter input=32 output=40\n",
            "I1105 11:22:46.273184 140235973724032 efficientnet_model.py:147] round_filter input=16 output=24\n",
            "I1105 11:22:46.422636 140235973724032 efficientnet_model.py:147] round_filter input=16 output=24\n",
            "I1105 11:22:46.422770 140235973724032 efficientnet_model.py:147] round_filter input=24 output=32\n",
            "I1105 11:22:46.680946 140235973724032 efficientnet_model.py:147] round_filter input=24 output=32\n",
            "I1105 11:22:46.681153 140235973724032 efficientnet_model.py:147] round_filter input=40 output=48\n",
            "I1105 11:22:46.942957 140235973724032 efficientnet_model.py:147] round_filter input=40 output=48\n",
            "I1105 11:22:46.943157 140235973724032 efficientnet_model.py:147] round_filter input=80 output=96\n",
            "I1105 11:22:47.398139 140235973724032 efficientnet_model.py:147] round_filter input=80 output=96\n",
            "I1105 11:22:47.398341 140235973724032 efficientnet_model.py:147] round_filter input=112 output=136\n",
            "I1105 11:22:47.854865 140235973724032 efficientnet_model.py:147] round_filter input=112 output=136\n",
            "I1105 11:22:47.855144 140235973724032 efficientnet_model.py:147] round_filter input=192 output=232\n",
            "I1105 11:22:48.632967 140235973724032 efficientnet_model.py:147] round_filter input=192 output=232\n",
            "I1105 11:22:48.633167 140235973724032 efficientnet_model.py:147] round_filter input=320 output=384\n",
            "I1105 11:22:48.804770 140235973724032 efficientnet_model.py:147] round_filter input=1280 output=1536\n",
            "I1105 11:22:48.840494 140235973724032 efficientnet_model.py:458] Building model efficientnet with params ModelConfig(width_coefficient=1.2, depth_coefficient=1.4, resolution=300, dropout_rate=0.3, blocks=(BlockConfig(input_filters=32, output_filters=16, kernel_size=3, num_repeat=1, expand_ratio=1, strides=(1, 1), se_ratio=0.25, id_skip=True, fused_conv=False, conv_type='depthwise'), BlockConfig(input_filters=16, output_filters=24, kernel_size=3, num_repeat=2, expand_ratio=6, strides=(2, 2), se_ratio=0.25, id_skip=True, fused_conv=False, conv_type='depthwise'), BlockConfig(input_filters=24, output_filters=40, kernel_size=5, num_repeat=2, expand_ratio=6, strides=(2, 2), se_ratio=0.25, id_skip=True, fused_conv=False, conv_type='depthwise'), BlockConfig(input_filters=40, output_filters=80, kernel_size=3, num_repeat=3, expand_ratio=6, strides=(2, 2), se_ratio=0.25, id_skip=True, fused_conv=False, conv_type='depthwise'), BlockConfig(input_filters=80, output_filters=112, kernel_size=5, num_repeat=3, expand_ratio=6, strides=(1, 1), se_ratio=0.25, id_skip=True, fused_conv=False, conv_type='depthwise'), BlockConfig(input_filters=112, output_filters=192, kernel_size=5, num_repeat=4, expand_ratio=6, strides=(2, 2), se_ratio=0.25, id_skip=True, fused_conv=False, conv_type='depthwise'), BlockConfig(input_filters=192, output_filters=320, kernel_size=3, num_repeat=1, expand_ratio=6, strides=(1, 1), se_ratio=0.25, id_skip=True, fused_conv=False, conv_type='depthwise')), stem_base_filters=32, top_base_filters=1280, activation='simple_swish', batch_norm='default', bn_momentum=0.99, bn_epsilon=0.001, weight_decay=5e-06, drop_connect_rate=0.2, depth_divisor=8, min_depth=None, use_se=True, input_channels=3, num_classes=1000, model_name='efficientnet', rescale_input=False, data_format='channels_last', dtype='float32')\n",
            "I1105 11:22:48.920917 140235973724032 ssd_efficientnet_bifpn_feature_extractor.py:143] EfficientDet EfficientNet backbone version: efficientnet-b4\n",
            "I1105 11:22:48.921083 140235973724032 ssd_efficientnet_bifpn_feature_extractor.py:144] EfficientDet BiFPN num filters: 224\n",
            "I1105 11:22:48.921209 140235973724032 ssd_efficientnet_bifpn_feature_extractor.py:146] EfficientDet BiFPN num iterations: 7\n",
            "I1105 11:22:48.923181 140235973724032 efficientnet_model.py:147] round_filter input=32 output=48\n",
            "I1105 11:22:48.940546 140235973724032 efficientnet_model.py:147] round_filter input=32 output=48\n",
            "I1105 11:22:48.940683 140235973724032 efficientnet_model.py:147] round_filter input=16 output=24\n",
            "I1105 11:22:49.079916 140235973724032 efficientnet_model.py:147] round_filter input=16 output=24\n",
            "I1105 11:22:49.080090 140235973724032 efficientnet_model.py:147] round_filter input=24 output=32\n",
            "I1105 11:22:49.441032 140235973724032 efficientnet_model.py:147] round_filter input=24 output=32\n",
            "I1105 11:22:49.441228 140235973724032 efficientnet_model.py:147] round_filter input=40 output=56\n",
            "I1105 11:22:49.800446 140235973724032 efficientnet_model.py:147] round_filter input=40 output=56\n",
            "I1105 11:22:49.800780 140235973724032 efficientnet_model.py:147] round_filter input=80 output=112\n",
            "I1105 11:22:50.332042 140235973724032 efficientnet_model.py:147] round_filter input=80 output=112\n",
            "I1105 11:22:50.332245 140235973724032 efficientnet_model.py:147] round_filter input=112 output=160\n",
            "I1105 11:22:50.863639 140235973724032 efficientnet_model.py:147] round_filter input=112 output=160\n",
            "I1105 11:22:50.863903 140235973724032 efficientnet_model.py:147] round_filter input=192 output=272\n",
            "I1105 11:22:51.606366 140235973724032 efficientnet_model.py:147] round_filter input=192 output=272\n",
            "I1105 11:22:51.606587 140235973724032 efficientnet_model.py:147] round_filter input=320 output=448\n",
            "I1105 11:22:51.792875 140235973724032 efficientnet_model.py:147] round_filter input=1280 output=1792\n",
            "I1105 11:22:51.826004 140235973724032 efficientnet_model.py:458] Building model efficientnet with params ModelConfig(width_coefficient=1.4, depth_coefficient=1.8, resolution=380, dropout_rate=0.4, blocks=(BlockConfig(input_filters=32, output_filters=16, kernel_size=3, num_repeat=1, expand_ratio=1, strides=(1, 1), se_ratio=0.25, id_skip=True, fused_conv=False, conv_type='depthwise'), BlockConfig(input_filters=16, output_filters=24, kernel_size=3, num_repeat=2, expand_ratio=6, strides=(2, 2), se_ratio=0.25, id_skip=True, fused_conv=False, conv_type='depthwise'), BlockConfig(input_filters=24, output_filters=40, kernel_size=5, num_repeat=2, expand_ratio=6, strides=(2, 2), se_ratio=0.25, id_skip=True, fused_conv=False, conv_type='depthwise'), BlockConfig(input_filters=40, output_filters=80, kernel_size=3, num_repeat=3, expand_ratio=6, strides=(2, 2), se_ratio=0.25, id_skip=True, fused_conv=False, conv_type='depthwise'), BlockConfig(input_filters=80, output_filters=112, kernel_size=5, num_repeat=3, expand_ratio=6, strides=(1, 1), se_ratio=0.25, id_skip=True, fused_conv=False, conv_type='depthwise'), BlockConfig(input_filters=112, output_filters=192, kernel_size=5, num_repeat=4, expand_ratio=6, strides=(2, 2), se_ratio=0.25, id_skip=True, fused_conv=False, conv_type='depthwise'), BlockConfig(input_filters=192, output_filters=320, kernel_size=3, num_repeat=1, expand_ratio=6, strides=(1, 1), se_ratio=0.25, id_skip=True, fused_conv=False, conv_type='depthwise')), stem_base_filters=32, top_base_filters=1280, activation='simple_swish', batch_norm='default', bn_momentum=0.99, bn_epsilon=0.001, weight_decay=5e-06, drop_connect_rate=0.2, depth_divisor=8, min_depth=None, use_se=True, input_channels=3, num_classes=1000, model_name='efficientnet', rescale_input=False, data_format='channels_last', dtype='float32')\n",
            "I1105 11:22:51.917157 140235973724032 ssd_efficientnet_bifpn_feature_extractor.py:143] EfficientDet EfficientNet backbone version: efficientnet-b5\n",
            "I1105 11:22:51.917387 140235973724032 ssd_efficientnet_bifpn_feature_extractor.py:144] EfficientDet BiFPN num filters: 288\n",
            "I1105 11:22:51.917487 140235973724032 ssd_efficientnet_bifpn_feature_extractor.py:146] EfficientDet BiFPN num iterations: 7\n",
            "I1105 11:22:51.919364 140235973724032 efficientnet_model.py:147] round_filter input=32 output=48\n",
            "I1105 11:22:51.936986 140235973724032 efficientnet_model.py:147] round_filter input=32 output=48\n",
            "I1105 11:22:51.937135 140235973724032 efficientnet_model.py:147] round_filter input=16 output=24\n",
            "I1105 11:22:52.144236 140235973724032 efficientnet_model.py:147] round_filter input=16 output=24\n",
            "I1105 11:22:52.144497 140235973724032 efficientnet_model.py:147] round_filter input=24 output=40\n",
            "I1105 11:22:52.591894 140235973724032 efficientnet_model.py:147] round_filter input=24 output=40\n",
            "I1105 11:22:52.592101 140235973724032 efficientnet_model.py:147] round_filter input=40 output=64\n",
            "I1105 11:22:53.019376 140235973724032 efficientnet_model.py:147] round_filter input=40 output=64\n",
            "I1105 11:22:53.019566 140235973724032 efficientnet_model.py:147] round_filter input=80 output=128\n",
            "I1105 11:22:53.887959 140235973724032 efficientnet_model.py:147] round_filter input=80 output=128\n",
            "I1105 11:22:53.888239 140235973724032 efficientnet_model.py:147] round_filter input=112 output=176\n",
            "I1105 11:22:54.528673 140235973724032 efficientnet_model.py:147] round_filter input=112 output=176\n",
            "I1105 11:22:54.528883 140235973724032 efficientnet_model.py:147] round_filter input=192 output=304\n",
            "I1105 11:22:55.386726 140235973724032 efficientnet_model.py:147] round_filter input=192 output=304\n",
            "I1105 11:22:55.386983 140235973724032 efficientnet_model.py:147] round_filter input=320 output=512\n",
            "I1105 11:22:55.659784 140235973724032 efficientnet_model.py:147] round_filter input=1280 output=2048\n",
            "I1105 11:22:55.693713 140235973724032 efficientnet_model.py:458] Building model efficientnet with params ModelConfig(width_coefficient=1.6, depth_coefficient=2.2, resolution=456, dropout_rate=0.4, blocks=(BlockConfig(input_filters=32, output_filters=16, kernel_size=3, num_repeat=1, expand_ratio=1, strides=(1, 1), se_ratio=0.25, id_skip=True, fused_conv=False, conv_type='depthwise'), BlockConfig(input_filters=16, output_filters=24, kernel_size=3, num_repeat=2, expand_ratio=6, strides=(2, 2), se_ratio=0.25, id_skip=True, fused_conv=False, conv_type='depthwise'), BlockConfig(input_filters=24, output_filters=40, kernel_size=5, num_repeat=2, expand_ratio=6, strides=(2, 2), se_ratio=0.25, id_skip=True, fused_conv=False, conv_type='depthwise'), BlockConfig(input_filters=40, output_filters=80, kernel_size=3, num_repeat=3, expand_ratio=6, strides=(2, 2), se_ratio=0.25, id_skip=True, fused_conv=False, conv_type='depthwise'), BlockConfig(input_filters=80, output_filters=112, kernel_size=5, num_repeat=3, expand_ratio=6, strides=(1, 1), se_ratio=0.25, id_skip=True, fused_conv=False, conv_type='depthwise'), BlockConfig(input_filters=112, output_filters=192, kernel_size=5, num_repeat=4, expand_ratio=6, strides=(2, 2), se_ratio=0.25, id_skip=True, fused_conv=False, conv_type='depthwise'), BlockConfig(input_filters=192, output_filters=320, kernel_size=3, num_repeat=1, expand_ratio=6, strides=(1, 1), se_ratio=0.25, id_skip=True, fused_conv=False, conv_type='depthwise')), stem_base_filters=32, top_base_filters=1280, activation='simple_swish', batch_norm='default', bn_momentum=0.99, bn_epsilon=0.001, weight_decay=5e-06, drop_connect_rate=0.2, depth_divisor=8, min_depth=None, use_se=True, input_channels=3, num_classes=1000, model_name='efficientnet', rescale_input=False, data_format='channels_last', dtype='float32')\n",
            "I1105 11:22:55.793823 140235973724032 ssd_efficientnet_bifpn_feature_extractor.py:143] EfficientDet EfficientNet backbone version: efficientnet-b6\n",
            "I1105 11:22:55.794037 140235973724032 ssd_efficientnet_bifpn_feature_extractor.py:144] EfficientDet BiFPN num filters: 384\n",
            "I1105 11:22:55.794196 140235973724032 ssd_efficientnet_bifpn_feature_extractor.py:146] EfficientDet BiFPN num iterations: 8\n",
            "I1105 11:22:55.796375 140235973724032 efficientnet_model.py:147] round_filter input=32 output=56\n",
            "I1105 11:22:55.816011 140235973724032 efficientnet_model.py:147] round_filter input=32 output=56\n",
            "I1105 11:22:55.816158 140235973724032 efficientnet_model.py:147] round_filter input=16 output=32\n",
            "I1105 11:22:56.054342 140235973724032 efficientnet_model.py:147] round_filter input=16 output=32\n",
            "I1105 11:22:56.054630 140235973724032 efficientnet_model.py:147] round_filter input=24 output=40\n",
            "I1105 11:22:56.620692 140235973724032 efficientnet_model.py:147] round_filter input=24 output=40\n",
            "I1105 11:22:56.620875 140235973724032 efficientnet_model.py:147] round_filter input=40 output=72\n",
            "I1105 11:22:57.154033 140235973724032 efficientnet_model.py:147] round_filter input=40 output=72\n",
            "I1105 11:22:57.154216 140235973724032 efficientnet_model.py:147] round_filter input=80 output=144\n",
            "I1105 11:22:57.881713 140235973724032 efficientnet_model.py:147] round_filter input=80 output=144\n",
            "I1105 11:22:57.881906 140235973724032 efficientnet_model.py:147] round_filter input=112 output=200\n",
            "I1105 11:22:58.612694 140235973724032 efficientnet_model.py:147] round_filter input=112 output=200\n",
            "I1105 11:22:58.612950 140235973724032 efficientnet_model.py:147] round_filter input=192 output=344\n",
            "I1105 11:22:59.869385 140235973724032 efficientnet_model.py:147] round_filter input=192 output=344\n",
            "I1105 11:22:59.869624 140235973724032 efficientnet_model.py:147] round_filter input=320 output=576\n",
            "I1105 11:23:00.155706 140235973724032 efficientnet_model.py:147] round_filter input=1280 output=2304\n",
            "I1105 11:23:00.190121 140235973724032 efficientnet_model.py:458] Building model efficientnet with params ModelConfig(width_coefficient=1.8, depth_coefficient=2.6, resolution=528, dropout_rate=0.5, blocks=(BlockConfig(input_filters=32, output_filters=16, kernel_size=3, num_repeat=1, expand_ratio=1, strides=(1, 1), se_ratio=0.25, id_skip=True, fused_conv=False, conv_type='depthwise'), BlockConfig(input_filters=16, output_filters=24, kernel_size=3, num_repeat=2, expand_ratio=6, strides=(2, 2), se_ratio=0.25, id_skip=True, fused_conv=False, conv_type='depthwise'), BlockConfig(input_filters=24, output_filters=40, kernel_size=5, num_repeat=2, expand_ratio=6, strides=(2, 2), se_ratio=0.25, id_skip=True, fused_conv=False, conv_type='depthwise'), BlockConfig(input_filters=40, output_filters=80, kernel_size=3, num_repeat=3, expand_ratio=6, strides=(2, 2), se_ratio=0.25, id_skip=True, fused_conv=False, conv_type='depthwise'), BlockConfig(input_filters=80, output_filters=112, kernel_size=5, num_repeat=3, expand_ratio=6, strides=(1, 1), se_ratio=0.25, id_skip=True, fused_conv=False, conv_type='depthwise'), BlockConfig(input_filters=112, output_filters=192, kernel_size=5, num_repeat=4, expand_ratio=6, strides=(2, 2), se_ratio=0.25, id_skip=True, fused_conv=False, conv_type='depthwise'), BlockConfig(input_filters=192, output_filters=320, kernel_size=3, num_repeat=1, expand_ratio=6, strides=(1, 1), se_ratio=0.25, id_skip=True, fused_conv=False, conv_type='depthwise')), stem_base_filters=32, top_base_filters=1280, activation='simple_swish', batch_norm='default', bn_momentum=0.99, bn_epsilon=0.001, weight_decay=5e-06, drop_connect_rate=0.2, depth_divisor=8, min_depth=None, use_se=True, input_channels=3, num_classes=1000, model_name='efficientnet', rescale_input=False, data_format='channels_last', dtype='float32')\n",
            "I1105 11:23:00.321693 140235973724032 ssd_efficientnet_bifpn_feature_extractor.py:143] EfficientDet EfficientNet backbone version: efficientnet-b7\n",
            "I1105 11:23:00.321883 140235973724032 ssd_efficientnet_bifpn_feature_extractor.py:144] EfficientDet BiFPN num filters: 384\n",
            "I1105 11:23:00.321975 140235973724032 ssd_efficientnet_bifpn_feature_extractor.py:146] EfficientDet BiFPN num iterations: 8\n",
            "I1105 11:23:00.323752 140235973724032 efficientnet_model.py:147] round_filter input=32 output=64\n",
            "I1105 11:23:00.341274 140235973724032 efficientnet_model.py:147] round_filter input=32 output=64\n",
            "I1105 11:23:00.341391 140235973724032 efficientnet_model.py:147] round_filter input=16 output=32\n",
            "I1105 11:23:00.656245 140235973724032 efficientnet_model.py:147] round_filter input=16 output=32\n",
            "I1105 11:23:00.656499 140235973724032 efficientnet_model.py:147] round_filter input=24 output=48\n",
            "I1105 11:23:01.314226 140235973724032 efficientnet_model.py:147] round_filter input=24 output=48\n",
            "I1105 11:23:01.314500 140235973724032 efficientnet_model.py:147] round_filter input=40 output=80\n",
            "I1105 11:23:01.976912 140235973724032 efficientnet_model.py:147] round_filter input=40 output=80\n",
            "I1105 11:23:01.977174 140235973724032 efficientnet_model.py:147] round_filter input=80 output=160\n",
            "I1105 11:23:02.866399 140235973724032 efficientnet_model.py:147] round_filter input=80 output=160\n",
            "I1105 11:23:02.866621 140235973724032 efficientnet_model.py:147] round_filter input=112 output=224\n",
            "I1105 11:23:03.766691 140235973724032 efficientnet_model.py:147] round_filter input=112 output=224\n",
            "I1105 11:23:03.766940 140235973724032 efficientnet_model.py:147] round_filter input=192 output=384\n",
            "I1105 11:23:05.148499 140235973724032 efficientnet_model.py:147] round_filter input=192 output=384\n",
            "I1105 11:23:05.148744 140235973724032 efficientnet_model.py:147] round_filter input=320 output=640\n",
            "I1105 11:23:05.534152 140235973724032 efficientnet_model.py:147] round_filter input=1280 output=2560\n",
            "I1105 11:23:05.566675 140235973724032 efficientnet_model.py:458] Building model efficientnet with params ModelConfig(width_coefficient=2.0, depth_coefficient=3.1, resolution=600, dropout_rate=0.5, blocks=(BlockConfig(input_filters=32, output_filters=16, kernel_size=3, num_repeat=1, expand_ratio=1, strides=(1, 1), se_ratio=0.25, id_skip=True, fused_conv=False, conv_type='depthwise'), BlockConfig(input_filters=16, output_filters=24, kernel_size=3, num_repeat=2, expand_ratio=6, strides=(2, 2), se_ratio=0.25, id_skip=True, fused_conv=False, conv_type='depthwise'), BlockConfig(input_filters=24, output_filters=40, kernel_size=5, num_repeat=2, expand_ratio=6, strides=(2, 2), se_ratio=0.25, id_skip=True, fused_conv=False, conv_type='depthwise'), BlockConfig(input_filters=40, output_filters=80, kernel_size=3, num_repeat=3, expand_ratio=6, strides=(2, 2), se_ratio=0.25, id_skip=True, fused_conv=False, conv_type='depthwise'), BlockConfig(input_filters=80, output_filters=112, kernel_size=5, num_repeat=3, expand_ratio=6, strides=(1, 1), se_ratio=0.25, id_skip=True, fused_conv=False, conv_type='depthwise'), BlockConfig(input_filters=112, output_filters=192, kernel_size=5, num_repeat=4, expand_ratio=6, strides=(2, 2), se_ratio=0.25, id_skip=True, fused_conv=False, conv_type='depthwise'), BlockConfig(input_filters=192, output_filters=320, kernel_size=3, num_repeat=1, expand_ratio=6, strides=(1, 1), se_ratio=0.25, id_skip=True, fused_conv=False, conv_type='depthwise')), stem_base_filters=32, top_base_filters=1280, activation='simple_swish', batch_norm='default', bn_momentum=0.99, bn_epsilon=0.001, weight_decay=5e-06, drop_connect_rate=0.2, depth_divisor=8, min_depth=None, use_se=True, input_channels=3, num_classes=1000, model_name='efficientnet', rescale_input=False, data_format='channels_last', dtype='float32')\n",
            "INFO:tensorflow:time(__main__.ModelBuilderTF2Test.test_create_ssd_models_from_config): 25.82s\n",
            "I1105 11:23:05.701208 140235973724032 test_util.py:2189] time(__main__.ModelBuilderTF2Test.test_create_ssd_models_from_config): 25.82s\n",
            "[       OK ] ModelBuilderTF2Test.test_create_ssd_models_from_config\n",
            "[ RUN      ] ModelBuilderTF2Test.test_invalid_faster_rcnn_batchnorm_update\n",
            "INFO:tensorflow:time(__main__.ModelBuilderTF2Test.test_invalid_faster_rcnn_batchnorm_update): 0.0s\n",
            "I1105 11:23:05.708363 140235973724032 test_util.py:2189] time(__main__.ModelBuilderTF2Test.test_invalid_faster_rcnn_batchnorm_update): 0.0s\n",
            "[       OK ] ModelBuilderTF2Test.test_invalid_faster_rcnn_batchnorm_update\n",
            "[ RUN      ] ModelBuilderTF2Test.test_invalid_first_stage_nms_iou_threshold\n",
            "INFO:tensorflow:time(__main__.ModelBuilderTF2Test.test_invalid_first_stage_nms_iou_threshold): 0.0s\n",
            "I1105 11:23:05.710234 140235973724032 test_util.py:2189] time(__main__.ModelBuilderTF2Test.test_invalid_first_stage_nms_iou_threshold): 0.0s\n",
            "[       OK ] ModelBuilderTF2Test.test_invalid_first_stage_nms_iou_threshold\n",
            "[ RUN      ] ModelBuilderTF2Test.test_invalid_model_config_proto\n",
            "INFO:tensorflow:time(__main__.ModelBuilderTF2Test.test_invalid_model_config_proto): 0.0s\n",
            "I1105 11:23:05.710825 140235973724032 test_util.py:2189] time(__main__.ModelBuilderTF2Test.test_invalid_model_config_proto): 0.0s\n",
            "[       OK ] ModelBuilderTF2Test.test_invalid_model_config_proto\n",
            "[ RUN      ] ModelBuilderTF2Test.test_invalid_second_stage_batch_size\n",
            "INFO:tensorflow:time(__main__.ModelBuilderTF2Test.test_invalid_second_stage_batch_size): 0.0s\n",
            "I1105 11:23:05.712676 140235973724032 test_util.py:2189] time(__main__.ModelBuilderTF2Test.test_invalid_second_stage_batch_size): 0.0s\n",
            "[       OK ] ModelBuilderTF2Test.test_invalid_second_stage_batch_size\n",
            "[ RUN      ] ModelBuilderTF2Test.test_session\n",
            "[  SKIPPED ] ModelBuilderTF2Test.test_session\n",
            "[ RUN      ] ModelBuilderTF2Test.test_unknown_faster_rcnn_feature_extractor\n",
            "INFO:tensorflow:time(__main__.ModelBuilderTF2Test.test_unknown_faster_rcnn_feature_extractor): 0.0s\n",
            "I1105 11:23:05.714540 140235973724032 test_util.py:2189] time(__main__.ModelBuilderTF2Test.test_unknown_faster_rcnn_feature_extractor): 0.0s\n",
            "[       OK ] ModelBuilderTF2Test.test_unknown_faster_rcnn_feature_extractor\n",
            "[ RUN      ] ModelBuilderTF2Test.test_unknown_meta_architecture\n",
            "INFO:tensorflow:time(__main__.ModelBuilderTF2Test.test_unknown_meta_architecture): 0.0s\n",
            "I1105 11:23:05.715146 140235973724032 test_util.py:2189] time(__main__.ModelBuilderTF2Test.test_unknown_meta_architecture): 0.0s\n",
            "[       OK ] ModelBuilderTF2Test.test_unknown_meta_architecture\n",
            "[ RUN      ] ModelBuilderTF2Test.test_unknown_ssd_feature_extractor\n",
            "INFO:tensorflow:time(__main__.ModelBuilderTF2Test.test_unknown_ssd_feature_extractor): 0.0s\n",
            "I1105 11:23:05.716278 140235973724032 test_util.py:2189] time(__main__.ModelBuilderTF2Test.test_unknown_ssd_feature_extractor): 0.0s\n",
            "[       OK ] ModelBuilderTF2Test.test_unknown_ssd_feature_extractor\n",
            "----------------------------------------------------------------------\n",
            "Ran 24 tests in 31.112s\n",
            "\n",
            "OK (skipped=1)\n"
          ]
        }
      ]
    },
    {
      "cell_type": "code",
      "metadata": {
        "id": "SXPZgABUrUUQ"
      },
      "source": [
        "import object_detection"
      ],
      "execution_count": null,
      "outputs": []
    },
    {
      "cell_type": "code",
      "metadata": {
        "colab": {
          "base_uri": "https://localhost:8080/"
        },
        "id": "csofht2npfDE",
        "outputId": "c8cd86e2-c5a3-4f02-cee8-f8d2570dcabf"
      },
      "source": [
        "if os.name =='posix':\n",
        "    !wget {PRETRAINED_MODEL_URL}\n",
        "    !mv {PRETRAINED_MODEL_NAME+'.tar.gz'} {paths['PRETRAINED_MODEL_PATH']}\n",
        "    !cd {paths['PRETRAINED_MODEL_PATH']} && tar -zxvf {PRETRAINED_MODEL_NAME+'.tar.gz'}\n",
        "if os.name == 'nt':\n",
        "    wget.download(PRETRAINED_MODEL_URL)\n",
        "    !move {PRETRAINED_MODEL_NAME+'.tar.gz'} {paths['PRETRAINED_MODEL_PATH']}\n",
        "    !cd {paths['PRETRAINED_MODEL_PATH']} && tar -zxvf {PRETRAINED_MODEL_NAME+'.tar.gz'}"
      ],
      "execution_count": null,
      "outputs": [
        {
          "name": "stdout",
          "output_type": "stream",
          "text": [
            "--2021-11-05 11:23:06--  http://download.tensorflow.org/models/object_detection/tf2/20200711/ssd_mobilenet_v2_fpnlite_320x320_coco17_tpu-8.tar.gz\n",
            "Resolving download.tensorflow.org (download.tensorflow.org)... 74.125.203.128, 2404:6800:4008:c03::80\n",
            "Connecting to download.tensorflow.org (download.tensorflow.org)|74.125.203.128|:80... connected.\n",
            "HTTP request sent, awaiting response... 200 OK\n",
            "Length: 20515344 (20M) [application/x-tar]\n",
            "Saving to: ‘ssd_mobilenet_v2_fpnlite_320x320_coco17_tpu-8.tar.gz’\n",
            "\n",
            "ssd_mobilenet_v2_fp 100%[===================>]  19.56M  --.-KB/s    in 0.1s    \n",
            "\n",
            "2021-11-05 11:23:06 (157 MB/s) - ‘ssd_mobilenet_v2_fpnlite_320x320_coco17_tpu-8.tar.gz’ saved [20515344/20515344]\n",
            "\n",
            "ssd_mobilenet_v2_fpnlite_320x320_coco17_tpu-8/\n",
            "ssd_mobilenet_v2_fpnlite_320x320_coco17_tpu-8/checkpoint/\n",
            "ssd_mobilenet_v2_fpnlite_320x320_coco17_tpu-8/checkpoint/ckpt-0.data-00000-of-00001\n",
            "ssd_mobilenet_v2_fpnlite_320x320_coco17_tpu-8/checkpoint/checkpoint\n",
            "ssd_mobilenet_v2_fpnlite_320x320_coco17_tpu-8/checkpoint/ckpt-0.index\n",
            "ssd_mobilenet_v2_fpnlite_320x320_coco17_tpu-8/pipeline.config\n",
            "ssd_mobilenet_v2_fpnlite_320x320_coco17_tpu-8/saved_model/\n",
            "ssd_mobilenet_v2_fpnlite_320x320_coco17_tpu-8/saved_model/saved_model.pb\n",
            "ssd_mobilenet_v2_fpnlite_320x320_coco17_tpu-8/saved_model/variables/\n",
            "ssd_mobilenet_v2_fpnlite_320x320_coco17_tpu-8/saved_model/variables/variables.data-00000-of-00001\n",
            "ssd_mobilenet_v2_fpnlite_320x320_coco17_tpu-8/saved_model/variables/variables.index\n"
          ]
        }
      ]
    },
    {
      "cell_type": "markdown",
      "metadata": {
        "id": "M5KJTnkfpfDC"
      },
      "source": [
        "# 2. Create Label Map"
      ]
    },
    {
      "cell_type": "code",
      "metadata": {
        "id": "p1BVDWo7pfDC"
      },
      "source": [
        "labels = [{'name':'Filled', 'id':1}, {'name':'Empty', 'id':2}]\n",
        "\n",
        "with open(files['LABELMAP'], 'w') as f:\n",
        "    for label in labels:\n",
        "        f.write('item { \\n')\n",
        "        f.write('\\tname:\\'{}\\'\\n'.format(label['name']))\n",
        "        f.write('\\tid:{}\\n'.format(label['id']))\n",
        "        f.write('}\\n')"
      ],
      "execution_count": null,
      "outputs": []
    },
    {
      "cell_type": "markdown",
      "metadata": {
        "id": "C88zyVELpfDC"
      },
      "source": [
        "# 3. Create TF records"
      ]
    },
    {
      "cell_type": "code",
      "metadata": {
        "colab": {
          "base_uri": "https://localhost:8080/"
        },
        "id": "kvf5WccwrFGq",
        "outputId": "89995215-0f71-41bf-ee26-506f1001c82f"
      },
      "source": [
        "# OPTIONAL IF RUNNING ON COLAB\n",
        "ARCHIVE_FILES = os.path.join(paths['IMAGE_PATH'], 'archive.tar.gz')\n",
        "if os.path.exists(ARCHIVE_FILES):\n",
        "  !tar -zxvf {ARCHIVE_FILES}"
      ],
      "execution_count": null,
      "outputs": [
        {
          "name": "stdout",
          "output_type": "stream",
          "text": [
            "Tensorflow/workspace/images/train/\n",
            "Tensorflow/workspace/images/train/BackgroundTests_colorA10_1.jpg\n",
            "Tensorflow/workspace/images/train/BackgroundTests_colorA10_1.xml\n",
            "Tensorflow/workspace/images/train/BackgroundTests_colorA10_2.jpg\n",
            "Tensorflow/workspace/images/train/BackgroundTests_colorA10_2.xml\n",
            "Tensorflow/workspace/images/train/BackgroundTests_colorA10_3.jpg\n",
            "Tensorflow/workspace/images/train/BackgroundTests_colorA10_3.xml\n",
            "Tensorflow/workspace/images/train/BackgroundTests_colorA11.jpg\n",
            "Tensorflow/workspace/images/train/BackgroundTests_colorA11.xml\n",
            "Tensorflow/workspace/images/train/BackgroundTests_colorA12.jpg\n",
            "Tensorflow/workspace/images/train/BackgroundTests_colorA12.xml\n",
            "Tensorflow/workspace/images/train/BackgroundTests_colorA1_1.jpg\n",
            "Tensorflow/workspace/images/train/BackgroundTests_colorA1_1.xml\n",
            "Tensorflow/workspace/images/train/BackgroundTests_colorA1_2.jpg\n",
            "Tensorflow/workspace/images/train/BackgroundTests_colorA1_2.xml\n",
            "Tensorflow/workspace/images/train/BackgroundTests_colorA2_1.jpg\n",
            "Tensorflow/workspace/images/train/BackgroundTests_colorA2_1.xml\n",
            "Tensorflow/workspace/images/train/BackgroundTests_colorA2_2.jpg\n",
            "Tensorflow/workspace/images/train/BackgroundTests_colorA2_2.xml\n",
            "Tensorflow/workspace/images/train/BackgroundTests_colorA2_3.jpg\n",
            "Tensorflow/workspace/images/train/BackgroundTests_colorA2_3.xml\n",
            "Tensorflow/workspace/images/train/BackgroundTests_colorA3_1.jpg\n",
            "Tensorflow/workspace/images/train/BackgroundTests_colorA3_1.xml\n",
            "Tensorflow/workspace/images/train/BackgroundTests_colorA3_2.jpg\n",
            "Tensorflow/workspace/images/train/BackgroundTests_colorA3_2.xml\n",
            "Tensorflow/workspace/images/train/BackgroundTests_colorA3_3.xml\n",
            "Tensorflow/workspace/images/train/BackgroundTests_colorA4_1.jpg\n",
            "Tensorflow/workspace/images/train/BackgroundTests_colorA4_1.xml\n",
            "Tensorflow/workspace/images/train/BackgroundTests_colorA4_2.jpg\n",
            "Tensorflow/workspace/images/train/BackgroundTests_colorA4_2.xml\n",
            "Tensorflow/workspace/images/train/BackgroundTests_colorA4_3.jpg\n",
            "Tensorflow/workspace/images/train/BackgroundTests_colorA4_3.xml\n",
            "Tensorflow/workspace/images/train/BackgroundTests_colorA5_1.jpg\n",
            "Tensorflow/workspace/images/train/BackgroundTests_colorA5_1.xml\n",
            "Tensorflow/workspace/images/train/BackgroundTests_colorA5_2.jpg\n",
            "Tensorflow/workspace/images/train/BackgroundTests_colorA5_2.xml\n",
            "Tensorflow/workspace/images/train/BackgroundTests_colorA5_3.jpg\n",
            "Tensorflow/workspace/images/train/BackgroundTests_colorA5_3.xml\n",
            "Tensorflow/workspace/images/train/BackgroundTests_colorA6_1.jpg\n",
            "Tensorflow/workspace/images/train/BackgroundTests_colorA6_1.xml\n",
            "Tensorflow/workspace/images/train/BackgroundTests_colorA6_3.jpg\n",
            "Tensorflow/workspace/images/train/BackgroundTests_colorA6_3.xml\n",
            "Tensorflow/workspace/images/train/BackgroundTests_colorA7_1.jpg\n",
            "Tensorflow/workspace/images/train/BackgroundTests_colorA7_1.xml\n",
            "Tensorflow/workspace/images/train/BackgroundTests_colorA7_2.jpg\n",
            "Tensorflow/workspace/images/train/BackgroundTests_colorA7_2.xml\n",
            "Tensorflow/workspace/images/train/BackgroundTests_colorA8_2.jpg\n",
            "Tensorflow/workspace/images/train/BackgroundTests_colorA8_2.xml\n",
            "Tensorflow/workspace/images/train/BackgroundTests_colorA8_3.jpg\n",
            "Tensorflow/workspace/images/train/BackgroundTests_colorA8_3.xml\n",
            "Tensorflow/workspace/images/train/BackgroundTests_colorA9_1.jpg\n",
            "Tensorflow/workspace/images/train/BackgroundTests_colorA9_1.xml\n",
            "Tensorflow/workspace/images/train/BackgroundTests_colorA9_2.jpg\n",
            "Tensorflow/workspace/images/train/BackgroundTests_colorA9_2.xml\n",
            "Tensorflow/workspace/images/train/BackgroundTests_colorA9_3.jpg\n",
            "Tensorflow/workspace/images/train/BackgroundTests_colorA9_3.xml\n",
            "Tensorflow/workspace/images/train/BackgroundTests_colorB10_1.jpg\n",
            "Tensorflow/workspace/images/train/BackgroundTests_colorB10_1.xml\n",
            "Tensorflow/workspace/images/train/BackgroundTests_colorB10_2.jpg\n",
            "Tensorflow/workspace/images/train/BackgroundTests_colorB10_2.xml\n",
            "Tensorflow/workspace/images/train/BackgroundTests_colorB10_3.jpg\n",
            "Tensorflow/workspace/images/train/BackgroundTests_colorB10_3.xml\n",
            "Tensorflow/workspace/images/train/BackgroundTests_colorB12.jpg\n",
            "Tensorflow/workspace/images/train/BackgroundTests_colorB12.xml\n",
            "Tensorflow/workspace/images/train/BackgroundTests_colorB13.jpg\n",
            "Tensorflow/workspace/images/train/BackgroundTests_colorB13.xml\n",
            "Tensorflow/workspace/images/train/BackgroundTests_colorB1_1.jpg\n",
            "Tensorflow/workspace/images/train/BackgroundTests_colorB1_1.xml\n",
            "Tensorflow/workspace/images/train/BackgroundTests_colorB1_2.jpg\n",
            "Tensorflow/workspace/images/train/BackgroundTests_colorB1_2.xml\n",
            "Tensorflow/workspace/images/train/BackgroundTests_colorB1_3.jpg\n",
            "Tensorflow/workspace/images/train/BackgroundTests_colorB1_3.xml\n",
            "Tensorflow/workspace/images/train/BackgroundTests_colorB2_1.jpg\n",
            "Tensorflow/workspace/images/train/BackgroundTests_colorB2_1.xml\n",
            "Tensorflow/workspace/images/train/BackgroundTests_colorB2_2.jpg\n",
            "Tensorflow/workspace/images/train/BackgroundTests_colorB2_2.xml\n",
            "Tensorflow/workspace/images/train/BackgroundTests_colorB2_3.jpg\n",
            "Tensorflow/workspace/images/train/BackgroundTests_colorB2_3.xml\n",
            "Tensorflow/workspace/images/train/BackgroundTests_colorB3_1.jpg\n",
            "Tensorflow/workspace/images/train/BackgroundTests_colorB3_1.xml\n",
            "Tensorflow/workspace/images/train/BackgroundTests_colorB3_3.jpg\n",
            "Tensorflow/workspace/images/train/BackgroundTests_colorB3_3.xml\n",
            "Tensorflow/workspace/images/train/BackgroundTests_colorB4_1.jpg\n",
            "Tensorflow/workspace/images/train/BackgroundTests_colorB4_1.xml\n",
            "Tensorflow/workspace/images/train/BackgroundTests_colorB4_2.jpg\n",
            "Tensorflow/workspace/images/train/BackgroundTests_colorB4_2.xml\n",
            "Tensorflow/workspace/images/train/BackgroundTests_colorB4_3.jpg\n",
            "Tensorflow/workspace/images/train/BackgroundTests_colorB4_3.xml\n",
            "Tensorflow/workspace/images/train/BackgroundTests_colorB5_1.jpg\n",
            "Tensorflow/workspace/images/train/BackgroundTests_colorB5_1.xml\n",
            "Tensorflow/workspace/images/train/BackgroundTests_colorB5_2.jpg\n",
            "Tensorflow/workspace/images/train/BackgroundTests_colorB5_2.xml\n",
            "Tensorflow/workspace/images/train/BackgroundTests_colorB5_3.jpg\n",
            "Tensorflow/workspace/images/train/BackgroundTests_colorB5_3.xml\n",
            "Tensorflow/workspace/images/train/BackgroundTests_colorB6_1.jpg\n",
            "Tensorflow/workspace/images/train/BackgroundTests_colorB6_1.xml\n",
            "Tensorflow/workspace/images/train/BackgroundTests_colorB6_2.jpg\n",
            "Tensorflow/workspace/images/train/BackgroundTests_colorB6_2.xml\n",
            "Tensorflow/workspace/images/train/BackgroundTests_colorB6_3.jpg\n",
            "Tensorflow/workspace/images/train/BackgroundTests_colorB6_3.xml\n",
            "Tensorflow/workspace/images/train/BackgroundTests_colorB7_1.jpg\n",
            "Tensorflow/workspace/images/train/BackgroundTests_colorB7_1.xml\n",
            "Tensorflow/workspace/images/train/BackgroundTests_colorB7_2.jpg\n",
            "Tensorflow/workspace/images/train/BackgroundTests_colorB7_2.xml\n",
            "Tensorflow/workspace/images/train/BackgroundTests_colorB7_3.jpg\n",
            "Tensorflow/workspace/images/train/BackgroundTests_colorB7_3.xml\n",
            "Tensorflow/workspace/images/train/BackgroundTests_colorB8_1.jpg\n",
            "Tensorflow/workspace/images/train/BackgroundTests_colorB8_1.xml\n",
            "Tensorflow/workspace/images/train/BackgroundTests_colorB8_2.jpg\n",
            "Tensorflow/workspace/images/train/BackgroundTests_colorB8_2.xml\n",
            "Tensorflow/workspace/images/train/BackgroundTests_colorB8_3.jpg\n",
            "Tensorflow/workspace/images/train/BackgroundTests_colorB8_3.xml\n",
            "Tensorflow/workspace/images/train/BackgroundTests_colorB9_1.jpg\n",
            "Tensorflow/workspace/images/train/BackgroundTests_colorB9_1.xml\n",
            "Tensorflow/workspace/images/train/BackgroundTests_colorB9_2.jpg\n",
            "Tensorflow/workspace/images/train/BackgroundTests_colorB9_2.xml\n",
            "Tensorflow/workspace/images/train/BackgroundTests_colorB9_3.jpg\n",
            "Tensorflow/workspace/images/train/BackgroundTests_colorB9_3.xml\n",
            "Tensorflow/workspace/images/train/BackgroundTests_colorC10_1.jpg\n",
            "Tensorflow/workspace/images/train/BackgroundTests_colorC10_1.xml\n",
            "Tensorflow/workspace/images/train/BackgroundTests_colorC10_2.jpg\n",
            "Tensorflow/workspace/images/train/BackgroundTests_colorC10_2.xml\n",
            "Tensorflow/workspace/images/train/BackgroundTests_colorC10_3.jpg\n",
            "Tensorflow/workspace/images/train/BackgroundTests_colorC10_3.xml\n",
            "Tensorflow/workspace/images/train/BackgroundTests_colorC11_1.jpg\n",
            "Tensorflow/workspace/images/train/BackgroundTests_colorC11_1.xml\n",
            "Tensorflow/workspace/images/train/BackgroundTests_colorC11_2.jpg\n",
            "Tensorflow/workspace/images/train/BackgroundTests_colorC11_2.xml\n",
            "Tensorflow/workspace/images/train/BackgroundTests_colorC1_1.jpg\n",
            "Tensorflow/workspace/images/train/BackgroundTests_colorC1_1.xml\n",
            "Tensorflow/workspace/images/train/BackgroundTests_colorC1_2.jpg\n",
            "Tensorflow/workspace/images/train/BackgroundTests_colorC1_2.xml\n",
            "Tensorflow/workspace/images/train/BackgroundTests_colorC1_3.jpg\n",
            "Tensorflow/workspace/images/train/BackgroundTests_colorC1_3.xml\n",
            "Tensorflow/workspace/images/train/BackgroundTests_colorC2_1.jpg\n",
            "Tensorflow/workspace/images/train/BackgroundTests_colorC2_1.xml\n",
            "Tensorflow/workspace/images/train/BackgroundTests_colorC2_2.jpg\n",
            "Tensorflow/workspace/images/train/BackgroundTests_colorC2_2.xml\n",
            "Tensorflow/workspace/images/train/BackgroundTests_colorC2_3.jpg\n",
            "Tensorflow/workspace/images/train/BackgroundTests_colorC2_3.xml\n",
            "Tensorflow/workspace/images/train/BackgroundTests_colorC3_1.jpg\n",
            "Tensorflow/workspace/images/train/BackgroundTests_colorC3_1.xml\n",
            "Tensorflow/workspace/images/train/BackgroundTests_colorC3_2.jpg\n",
            "Tensorflow/workspace/images/train/BackgroundTests_colorC3_2.xml\n",
            "Tensorflow/workspace/images/train/BackgroundTests_colorC3_3.jpg\n",
            "Tensorflow/workspace/images/train/BackgroundTests_colorC3_3.xml\n",
            "Tensorflow/workspace/images/train/BackgroundTests_colorC4_1.jpg\n",
            "Tensorflow/workspace/images/train/BackgroundTests_colorC4_1.xml\n",
            "Tensorflow/workspace/images/train/BackgroundTests_colorC4_3.jpg\n",
            "Tensorflow/workspace/images/train/BackgroundTests_colorC4_3.xml\n",
            "Tensorflow/workspace/images/train/BackgroundTests_colorC5_1.jpg\n",
            "Tensorflow/workspace/images/train/BackgroundTests_colorC5_1.xml\n",
            "Tensorflow/workspace/images/train/BackgroundTests_colorC5_2.jpg\n",
            "Tensorflow/workspace/images/train/BackgroundTests_colorC5_2.xml\n",
            "Tensorflow/workspace/images/train/BackgroundTests_colorC5_3.jpg\n",
            "Tensorflow/workspace/images/train/BackgroundTests_colorC5_3.xml\n",
            "Tensorflow/workspace/images/train/BackgroundTests_colorC6_1.jpg\n",
            "Tensorflow/workspace/images/train/BackgroundTests_colorC6_1.xml\n",
            "Tensorflow/workspace/images/train/BackgroundTests_colorC6_2.jpg\n",
            "Tensorflow/workspace/images/train/BackgroundTests_colorC6_2.xml\n",
            "Tensorflow/workspace/images/train/BackgroundTests_colorC6_3.jpg\n",
            "Tensorflow/workspace/images/train/BackgroundTests_colorC6_3.xml\n",
            "Tensorflow/workspace/images/train/BackgroundTests_colorC7_1.jpg\n",
            "Tensorflow/workspace/images/train/BackgroundTests_colorC7_1.xml\n",
            "Tensorflow/workspace/images/train/BackgroundTests_colorC7_2.jpg\n",
            "Tensorflow/workspace/images/train/BackgroundTests_colorC7_2.xml\n",
            "Tensorflow/workspace/images/train/BackgroundTests_colorC7_3.jpg\n",
            "Tensorflow/workspace/images/train/BackgroundTests_colorC7_3.xml\n",
            "Tensorflow/workspace/images/train/BackgroundTests_colorC8_1.jpg\n",
            "Tensorflow/workspace/images/train/BackgroundTests_colorC8_1.xml\n",
            "Tensorflow/workspace/images/train/BackgroundTests_colorC9_1.jpg\n",
            "Tensorflow/workspace/images/train/BackgroundTests_colorC9_1.xml\n",
            "Tensorflow/workspace/images/train/BackgroundTests_colorC9_2.jpg\n",
            "Tensorflow/workspace/images/train/BackgroundTests_colorC9_2.xml\n",
            "Tensorflow/workspace/images/train/BackgroundTests_colorC9_3.jpg\n",
            "Tensorflow/workspace/images/train/BackgroundTests_colorC9_3.xml\n",
            "Tensorflow/workspace/images/train/fototesttraspa1.jpg\n",
            "Tensorflow/workspace/images/train/fototesttraspa1.xml\n",
            "Tensorflow/workspace/images/train/fototesttraspa2.jpg\n",
            "Tensorflow/workspace/images/train/fototesttraspa2.xml\n",
            "Tensorflow/workspace/images/train/fototesttraspa3.jpg\n",
            "Tensorflow/workspace/images/train/fototesttraspa3.xml\n",
            "Tensorflow/workspace/images/train/fototesttraspa4.jpg\n",
            "Tensorflow/workspace/images/train/fototesttraspa4.xml\n",
            "Tensorflow/workspace/images/train/fototesttraspa5.jpg\n",
            "Tensorflow/workspace/images/train/fototesttraspa5.xml\n",
            "Tensorflow/workspace/images/train/fototesttraspa6.jpg\n",
            "Tensorflow/workspace/images/train/fototesttraspa6.xml\n",
            "Tensorflow/workspace/images/train/fototesttraspa7.jpg\n",
            "Tensorflow/workspace/images/train/fototesttraspa7.xml\n",
            "Tensorflow/workspace/images/train/fototesttraspa8.jpg\n",
            "Tensorflow/workspace/images/train/fototesttraspa8.xml\n",
            "Tensorflow/workspace/images/train/fototesttraspa9.jpg\n",
            "Tensorflow/workspace/images/train/fototesttraspa9.xml\n",
            "Tensorflow/workspace/images/train/fototesttraspb1.jpg\n",
            "Tensorflow/workspace/images/train/fototesttraspb1.xml\n",
            "Tensorflow/workspace/images/train/fototesttraspb2.jpg\n",
            "Tensorflow/workspace/images/train/fototesttraspb2.xml\n",
            "Tensorflow/workspace/images/train/fototesttraspb3.jpg\n",
            "Tensorflow/workspace/images/train/fototesttraspb3.xml\n",
            "Tensorflow/workspace/images/train/fototesttraspb4.jpg\n",
            "Tensorflow/workspace/images/train/fototesttraspb4.xml\n",
            "Tensorflow/workspace/images/train/fototesttraspb5.jpg\n",
            "Tensorflow/workspace/images/train/fototesttraspb5.xml\n",
            "Tensorflow/workspace/images/train/fototesttraspb6.jpg\n",
            "Tensorflow/workspace/images/train/fototesttraspb6.xml\n",
            "Tensorflow/workspace/images/train/fototesttraspb7.jpg\n",
            "Tensorflow/workspace/images/train/fototesttraspb7.xml\n",
            "Tensorflow/workspace/images/train/fototesttraspb9.jpg\n",
            "Tensorflow/workspace/images/train/fototesttraspb9.xml\n",
            "Tensorflow/workspace/images/train/fototesttraspc1.jpg\n",
            "Tensorflow/workspace/images/train/fototesttraspc1.xml\n",
            "Tensorflow/workspace/images/train/fototesttraspc2.jpg\n",
            "Tensorflow/workspace/images/train/fototesttraspc2.xml\n",
            "Tensorflow/workspace/images/train/fototesttraspc3.jpg\n",
            "Tensorflow/workspace/images/train/fototesttraspc3.xml\n",
            "Tensorflow/workspace/images/train/fototesttraspc4.jpg\n",
            "Tensorflow/workspace/images/train/fototesttraspc4.xml\n",
            "Tensorflow/workspace/images/train/fototesttraspc5.jpg\n",
            "Tensorflow/workspace/images/train/fototesttraspc5.xml\n",
            "Tensorflow/workspace/images/train/fototesttraspc6.jpg\n",
            "Tensorflow/workspace/images/train/fototesttraspc6.xml\n",
            "Tensorflow/workspace/images/train/fototesttraspc7.jpg\n",
            "Tensorflow/workspace/images/train/fototesttraspc7.xml\n",
            "Tensorflow/workspace/images/train/fototesttraspc8.jpg\n",
            "Tensorflow/workspace/images/train/fototesttraspc8.xml\n",
            "Tensorflow/workspace/images/train/fototesttraspc9.jpg\n",
            "Tensorflow/workspace/images/train/fototesttraspc9.xml\n",
            "Tensorflow/workspace/images/train/fototesttraspn1.jpg\n",
            "Tensorflow/workspace/images/train/fototesttraspn1.xml\n",
            "Tensorflow/workspace/images/train/fototesttraspn2.jpg\n",
            "Tensorflow/workspace/images/train/fototesttraspn2.xml\n",
            "Tensorflow/workspace/images/train/fototesttraspn3.jpg\n",
            "Tensorflow/workspace/images/train/fototesttraspn3.xml\n",
            "Tensorflow/workspace/images/train/fototesttraspn4.jpg\n",
            "Tensorflow/workspace/images/train/fototesttraspn4.xml\n",
            "Tensorflow/workspace/images/train/fototesttraspn5.jpg\n",
            "Tensorflow/workspace/images/train/fototesttraspn5.xml\n",
            "Tensorflow/workspace/images/train/fototesttraspn6.jpg\n",
            "Tensorflow/workspace/images/train/fototesttraspn6.xml\n",
            "Tensorflow/workspace/images/train/fototesttraspn7.jpg\n",
            "Tensorflow/workspace/images/train/fototesttraspn7.xml\n",
            "Tensorflow/workspace/images/train/fototesttraspn8.jpg\n",
            "Tensorflow/workspace/images/train/fototesttraspn8.xml\n",
            "Tensorflow/workspace/images/train/fototesttraspn9.jpg\n",
            "Tensorflow/workspace/images/train/fototesttraspn9.xml\n",
            "Tensorflow/workspace/images/train/newSetAlum_colorA1.jpg\n",
            "Tensorflow/workspace/images/train/newSetAlum_colorA1.xml\n",
            "Tensorflow/workspace/images/train/newSetAlum_colorA2.jpg\n",
            "Tensorflow/workspace/images/train/newSetAlum_colorA2.xml\n",
            "Tensorflow/workspace/images/train/newSetAlum_colorA3.jpg\n",
            "Tensorflow/workspace/images/train/newSetAlum_colorA3.xml\n",
            "Tensorflow/workspace/images/train/newSetAlum_colorA4.jpg\n",
            "Tensorflow/workspace/images/train/newSetAlum_colorA4.xml\n",
            "Tensorflow/workspace/images/train/newSetAlum_colorA5.jpg\n",
            "Tensorflow/workspace/images/train/newSetAlum_colorA5.xml\n",
            "Tensorflow/workspace/images/train/newSetAlum_colorA6.jpg\n",
            "Tensorflow/workspace/images/train/newSetAlum_colorA6.xml\n",
            "Tensorflow/workspace/images/train/newSetAlum_colorA7.jpg\n",
            "Tensorflow/workspace/images/train/newSetAlum_colorA7.xml\n",
            "Tensorflow/workspace/images/train/newSetAlum_colorA8.jpg\n",
            "Tensorflow/workspace/images/train/newSetAlum_colorA8.xml\n",
            "Tensorflow/workspace/images/train/newSetAlum_colorA9.jpg\n",
            "Tensorflow/workspace/images/train/newSetAlum_colorA9.xml\n",
            "Tensorflow/workspace/images/train/newSetAlum_colorB1.jpg\n",
            "Tensorflow/workspace/images/train/newSetAlum_colorB1.xml\n",
            "Tensorflow/workspace/images/train/newSetAlum_colorB2.jpg\n",
            "Tensorflow/workspace/images/train/newSetAlum_colorB2.xml\n",
            "Tensorflow/workspace/images/train/newSetAlum_colorB3.jpg\n",
            "Tensorflow/workspace/images/train/newSetAlum_colorB3.xml\n",
            "Tensorflow/workspace/images/train/newSetAlum_colorB4.jpg\n",
            "Tensorflow/workspace/images/train/newSetAlum_colorB4.xml\n",
            "Tensorflow/workspace/images/train/newSetAlum_colorB5.jpg\n",
            "Tensorflow/workspace/images/train/newSetAlum_colorB5.xml\n",
            "Tensorflow/workspace/images/train/newSetAlum_colorB6.jpg\n",
            "Tensorflow/workspace/images/train/newSetAlum_colorB6.xml\n",
            "Tensorflow/workspace/images/train/newSetAlum_colorB7.jpg\n",
            "Tensorflow/workspace/images/train/newSetAlum_colorB7.xml\n",
            "Tensorflow/workspace/images/train/newSetAlum_colorB8.jpg\n",
            "Tensorflow/workspace/images/train/newSetAlum_colorB8.xml\n",
            "Tensorflow/workspace/images/train/newSetAlum_colorB9.jpg\n",
            "Tensorflow/workspace/images/train/newSetAlum_colorB9.xml\n",
            "Tensorflow/workspace/images/train/newSetAlum_colorC1.jpg\n",
            "Tensorflow/workspace/images/train/newSetAlum_colorC1.xml\n",
            "Tensorflow/workspace/images/train/newSetAlum_colorC2.jpg\n",
            "Tensorflow/workspace/images/train/newSetAlum_colorC2.xml\n",
            "Tensorflow/workspace/images/train/newSetAlum_colorC3.jpg\n",
            "Tensorflow/workspace/images/train/newSetAlum_colorC3.xml\n",
            "Tensorflow/workspace/images/train/newSetAlum_colorC4.jpg\n",
            "Tensorflow/workspace/images/train/newSetAlum_colorC4.xml\n",
            "Tensorflow/workspace/images/train/newSetAlum_colorC5.jpg\n",
            "Tensorflow/workspace/images/train/newSetAlum_colorC5.xml\n",
            "Tensorflow/workspace/images/train/newSetAlum_colorC6.jpg\n",
            "Tensorflow/workspace/images/train/newSetAlum_colorC6.xml\n",
            "Tensorflow/workspace/images/train/newSetAlum_colorC7.jpg\n",
            "Tensorflow/workspace/images/train/newSetAlum_colorC7.xml\n",
            "Tensorflow/workspace/images/train/newSetAlum_colorC8.jpg\n",
            "Tensorflow/workspace/images/train/newSetAlum_colorC8.xml\n",
            "Tensorflow/workspace/images/train/newSetAlum_colorC9.jpg\n",
            "Tensorflow/workspace/images/train/newSetAlum_colorC9.xml\n",
            "Tensorflow/workspace/images/train/newSetAlum_colorD1.jpg\n",
            "Tensorflow/workspace/images/train/newSetAlum_colorD1.xml\n",
            "Tensorflow/workspace/images/train/newSetAlum_colorD2.jpg\n",
            "Tensorflow/workspace/images/train/newSetAlum_colorD2.xml\n",
            "Tensorflow/workspace/images/train/newSetAlum_colorD3.jpg\n",
            "Tensorflow/workspace/images/train/newSetAlum_colorD3.xml\n",
            "Tensorflow/workspace/images/train/newSetAlum_colorD4.jpg\n",
            "Tensorflow/workspace/images/train/newSetAlum_colorD4.xml\n",
            "Tensorflow/workspace/images/train/newSetAlum_colorD5.jpg\n",
            "Tensorflow/workspace/images/train/newSetAlum_colorD5.xml\n",
            "Tensorflow/workspace/images/train/newSetAlum_colorD6.jpg\n",
            "Tensorflow/workspace/images/train/newSetAlum_colorD6.xml\n",
            "Tensorflow/workspace/images/train/newSetAlum_colorD7.jpg\n",
            "Tensorflow/workspace/images/train/newSetAlum_colorD7.xml\n",
            "Tensorflow/workspace/images/train/newSetAlum_colorD8.jpg\n",
            "Tensorflow/workspace/images/train/newSetAlum_colorD8.xml\n",
            "Tensorflow/workspace/images/train/newSetAlum_colorD9.jpg\n",
            "Tensorflow/workspace/images/train/newSetAlum_colorD9.xml\n",
            "Tensorflow/workspace/images/train/newSetAlum_colorE1.jpg\n",
            "Tensorflow/workspace/images/train/newSetAlum_colorE1.xml\n",
            "Tensorflow/workspace/images/train/newSetAlum_colorE2.jpg\n",
            "Tensorflow/workspace/images/train/newSetAlum_colorE2.xml\n",
            "Tensorflow/workspace/images/train/newSetAlum_colorE3.jpg\n",
            "Tensorflow/workspace/images/train/newSetAlum_colorE3.xml\n",
            "Tensorflow/workspace/images/train/newSetAlum_colorE4.jpg\n",
            "Tensorflow/workspace/images/train/newSetAlum_colorE4.xml\n",
            "Tensorflow/workspace/images/train/newSetAlum_colorE5.jpg\n",
            "Tensorflow/workspace/images/train/newSetAlum_colorE5.xml\n",
            "Tensorflow/workspace/images/train/newSetAlum_colorE6.jpg\n",
            "Tensorflow/workspace/images/train/newSetAlum_colorE6.xml\n",
            "Tensorflow/workspace/images/train/newSetAlum_colorE7.jpg\n",
            "Tensorflow/workspace/images/train/newSetAlum_colorE7.xml\n",
            "Tensorflow/workspace/images/train/newSetAlum_colorE8.jpg\n",
            "Tensorflow/workspace/images/train/newSetAlum_colorE8.xml\n",
            "Tensorflow/workspace/images/train/newSetAlum_colorE9.jpg\n",
            "Tensorflow/workspace/images/train/newSetAlum_colorE9.xml\n",
            "Tensorflow/workspace/images/train/newSetAlum_colorF1.jpg\n",
            "Tensorflow/workspace/images/train/newSetAlum_colorF1.xml\n",
            "Tensorflow/workspace/images/train/newSetAlum_colorF2.jpg\n",
            "Tensorflow/workspace/images/train/newSetAlum_colorF2.xml\n",
            "Tensorflow/workspace/images/train/newSetAlum_colorF3.jpg\n",
            "Tensorflow/workspace/images/train/newSetAlum_colorF3.xml\n",
            "Tensorflow/workspace/images/train/newSetAlum_colorF4.jpg\n",
            "Tensorflow/workspace/images/train/newSetAlum_colorF4.xml\n",
            "Tensorflow/workspace/images/train/newSetAlum_colorF5.jpg\n",
            "Tensorflow/workspace/images/train/newSetAlum_colorF5.xml\n",
            "Tensorflow/workspace/images/train/newSetAlum_colorF6.jpg\n",
            "Tensorflow/workspace/images/train/newSetAlum_colorF6.xml\n",
            "Tensorflow/workspace/images/train/newSetAlum_colorF7.jpg\n",
            "Tensorflow/workspace/images/train/newSetAlum_colorF7.xml\n",
            "Tensorflow/workspace/images/train/newSetAlum_colorF8.jpg\n",
            "Tensorflow/workspace/images/train/newSetAlum_colorF8.xml\n",
            "Tensorflow/workspace/images/train/newSetAlum_colorF9.jpg\n",
            "Tensorflow/workspace/images/train/newSetAlum_colorF9.xml\n",
            "Tensorflow/workspace/images/train/newSetTransp_colorA1.jpg\n",
            "Tensorflow/workspace/images/train/newSetTransp_colorA1.xml\n",
            "Tensorflow/workspace/images/train/newSetTransp_colorA11.jpg\n",
            "Tensorflow/workspace/images/train/newSetTransp_colorA11.xml\n",
            "Tensorflow/workspace/images/train/newSetTransp_colorA12.jpg\n",
            "Tensorflow/workspace/images/train/newSetTransp_colorA12.xml\n",
            "Tensorflow/workspace/images/train/newSetTransp_colorA13.jpg\n",
            "Tensorflow/workspace/images/train/newSetTransp_colorA13.xml\n",
            "Tensorflow/workspace/images/train/newSetTransp_colorA2.jpg\n",
            "Tensorflow/workspace/images/train/newSetTransp_colorA2.xml\n",
            "Tensorflow/workspace/images/train/newSetTransp_colorA3.jpg\n",
            "Tensorflow/workspace/images/train/newSetTransp_colorA3.xml\n",
            "Tensorflow/workspace/images/train/newSetTransp_colorA4.jpg\n",
            "Tensorflow/workspace/images/train/newSetTransp_colorA4.xml\n",
            "Tensorflow/workspace/images/train/newSetTransp_colorA5.jpg\n",
            "Tensorflow/workspace/images/train/newSetTransp_colorA5.xml\n",
            "Tensorflow/workspace/images/train/newSetTransp_colorA6.jpg\n",
            "Tensorflow/workspace/images/train/newSetTransp_colorA6.xml\n",
            "Tensorflow/workspace/images/train/newSetTransp_colorA7.jpg\n",
            "Tensorflow/workspace/images/train/newSetTransp_colorA7.xml\n",
            "Tensorflow/workspace/images/train/newSetTransp_colorA8.jpg\n",
            "Tensorflow/workspace/images/train/newSetTransp_colorA8.xml\n",
            "Tensorflow/workspace/images/train/newSetTransp_colorA9.jpg\n",
            "Tensorflow/workspace/images/train/newSetTransp_colorA9.xml\n",
            "Tensorflow/workspace/images/train/newSetTransp_colorB1.jpg\n",
            "Tensorflow/workspace/images/train/newSetTransp_colorB1.xml\n",
            "Tensorflow/workspace/images/train/newSetTransp_colorB10.jpg\n",
            "Tensorflow/workspace/images/train/newSetTransp_colorB10.xml\n",
            "Tensorflow/workspace/images/train/newSetTransp_colorB11.jpg\n",
            "Tensorflow/workspace/images/train/newSetTransp_colorB11.xml\n",
            "Tensorflow/workspace/images/train/newSetTransp_colorB12.jpg\n",
            "Tensorflow/workspace/images/train/newSetTransp_colorB12.xml\n",
            "Tensorflow/workspace/images/train/newSetTransp_colorB2.jpg\n",
            "Tensorflow/workspace/images/train/newSetTransp_colorB2.xml\n",
            "Tensorflow/workspace/images/train/newSetTransp_colorB3.jpg\n",
            "Tensorflow/workspace/images/train/newSetTransp_colorB3.xml\n",
            "Tensorflow/workspace/images/train/newSetTransp_colorB4.jpg\n",
            "Tensorflow/workspace/images/train/newSetTransp_colorB4.xml\n",
            "Tensorflow/workspace/images/train/newSetTransp_colorB5.jpg\n",
            "Tensorflow/workspace/images/train/newSetTransp_colorB5.xml\n",
            "Tensorflow/workspace/images/train/newSetTransp_colorB6.jpg\n",
            "Tensorflow/workspace/images/train/newSetTransp_colorB6.xml\n",
            "Tensorflow/workspace/images/train/newSetTransp_colorB7.jpg\n",
            "Tensorflow/workspace/images/train/newSetTransp_colorB7.xml\n",
            "Tensorflow/workspace/images/train/newSetTransp_colorB8.jpg\n",
            "Tensorflow/workspace/images/train/newSetTransp_colorB8.xml\n",
            "Tensorflow/workspace/images/train/newSetTransp_colorB9.jpg\n",
            "Tensorflow/workspace/images/train/newSetTransp_colorB9.xml\n",
            "Tensorflow/workspace/images/train/newSetTransp_colorC1.jpg\n",
            "Tensorflow/workspace/images/train/newSetTransp_colorC1.xml\n",
            "Tensorflow/workspace/images/train/newSetTransp_colorC10.jpg\n",
            "Tensorflow/workspace/images/train/newSetTransp_colorC10.xml\n",
            "Tensorflow/workspace/images/train/newSetTransp_colorC11.jpg\n",
            "Tensorflow/workspace/images/train/newSetTransp_colorC11.xml\n",
            "Tensorflow/workspace/images/train/newSetTransp_colorC12.jpg\n",
            "Tensorflow/workspace/images/train/newSetTransp_colorC12.xml\n",
            "Tensorflow/workspace/images/train/newSetTransp_colorC2.jpg\n",
            "Tensorflow/workspace/images/train/newSetTransp_colorC2.xml\n",
            "Tensorflow/workspace/images/train/newSetTransp_colorC3.jpg\n",
            "Tensorflow/workspace/images/train/newSetTransp_colorC3.xml\n",
            "Tensorflow/workspace/images/train/newSetTransp_colorC4.jpg\n",
            "Tensorflow/workspace/images/train/newSetTransp_colorC4.xml\n",
            "Tensorflow/workspace/images/train/newSetTransp_colorC5.jpg\n",
            "Tensorflow/workspace/images/train/newSetTransp_colorC5.xml\n",
            "Tensorflow/workspace/images/train/newSetTransp_colorC6.jpg\n",
            "Tensorflow/workspace/images/train/newSetTransp_colorC6.xml\n",
            "Tensorflow/workspace/images/train/newSetTransp_colorC7.jpg\n",
            "Tensorflow/workspace/images/train/newSetTransp_colorC7.xml\n",
            "Tensorflow/workspace/images/train/newSetTransp_colorC8.jpg\n",
            "Tensorflow/workspace/images/train/newSetTransp_colorC8.xml\n",
            "Tensorflow/workspace/images/train/newSetTransp_colorC9.jpg\n",
            "Tensorflow/workspace/images/train/newSetTransp_colorC9.xml\n",
            "Tensorflow/workspace/images/train/newSetTransp_colorD1.jpg\n",
            "Tensorflow/workspace/images/train/newSetTransp_colorD1.xml\n",
            "Tensorflow/workspace/images/train/newSetTransp_colorD10.jpg\n",
            "Tensorflow/workspace/images/train/newSetTransp_colorD10.xml\n",
            "Tensorflow/workspace/images/train/newSetTransp_colorD11.jpg\n",
            "Tensorflow/workspace/images/train/newSetTransp_colorD11.xml\n",
            "Tensorflow/workspace/images/train/newSetTransp_colorD12.jpg\n",
            "Tensorflow/workspace/images/train/newSetTransp_colorD12.xml\n",
            "Tensorflow/workspace/images/train/newSetTransp_colorD2.jpg\n",
            "Tensorflow/workspace/images/train/newSetTransp_colorD2.xml\n",
            "Tensorflow/workspace/images/train/newSetTransp_colorD3.jpg\n",
            "Tensorflow/workspace/images/train/newSetTransp_colorD3.xml\n",
            "Tensorflow/workspace/images/train/newSetTransp_colorD4.jpg\n",
            "Tensorflow/workspace/images/train/newSetTransp_colorD4.xml\n",
            "Tensorflow/workspace/images/train/newSetTransp_colorD5.jpg\n",
            "Tensorflow/workspace/images/train/newSetTransp_colorD5.xml\n",
            "Tensorflow/workspace/images/train/newSetTransp_colorD6.jpg\n",
            "Tensorflow/workspace/images/train/newSetTransp_colorD6.xml\n",
            "Tensorflow/workspace/images/train/newSetTransp_colorD7.jpg\n",
            "Tensorflow/workspace/images/train/newSetTransp_colorD7.xml\n",
            "Tensorflow/workspace/images/train/newSetTransp_colorD8.jpg\n",
            "Tensorflow/workspace/images/train/newSetTransp_colorD8.xml\n",
            "Tensorflow/workspace/images/train/newSetTransp_colorD9.jpg\n",
            "Tensorflow/workspace/images/train/newSetTransp_colorD9.xml\n",
            "Tensorflow/workspace/images/train/newSetTransp_colorE1.jpg\n",
            "Tensorflow/workspace/images/train/newSetTransp_colorE1.xml\n",
            "Tensorflow/workspace/images/train/newSetTransp_colorE10.jpg\n",
            "Tensorflow/workspace/images/train/newSetTransp_colorE10.xml\n",
            "Tensorflow/workspace/images/train/newSetTransp_colorE11.jpg\n",
            "Tensorflow/workspace/images/train/newSetTransp_colorE11.xml\n",
            "Tensorflow/workspace/images/train/newSetTransp_colorE12.jpg\n",
            "Tensorflow/workspace/images/train/newSetTransp_colorE12.xml\n",
            "Tensorflow/workspace/images/train/newSetTransp_colorE2.jpg\n",
            "Tensorflow/workspace/images/train/newSetTransp_colorE2.xml\n",
            "Tensorflow/workspace/images/train/newSetTransp_colorE3.jpg\n",
            "Tensorflow/workspace/images/train/newSetTransp_colorE3.xml\n",
            "Tensorflow/workspace/images/train/newSetTransp_colorE4.jpg\n",
            "Tensorflow/workspace/images/train/newSetTransp_colorE4.xml\n",
            "Tensorflow/workspace/images/train/newSetTransp_colorE5.jpg\n",
            "Tensorflow/workspace/images/train/newSetTransp_colorE5.xml\n",
            "Tensorflow/workspace/images/train/newSetTransp_colorE6.jpg\n",
            "Tensorflow/workspace/images/train/newSetTransp_colorE6.xml\n",
            "Tensorflow/workspace/images/train/newSetTransp_colorE7.jpg\n",
            "Tensorflow/workspace/images/train/newSetTransp_colorE7.xml\n",
            "Tensorflow/workspace/images/train/newSetTransp_colorE8.jpg\n",
            "Tensorflow/workspace/images/train/newSetTransp_colorE8.xml\n",
            "Tensorflow/workspace/images/train/newSetTransp_colorE9.jpg\n",
            "Tensorflow/workspace/images/train/newSetTransp_colorE9.xml\n",
            "Tensorflow/workspace/images/train/newSetTransp_colorF1.jpg\n",
            "Tensorflow/workspace/images/train/newSetTransp_colorF1.xml\n",
            "Tensorflow/workspace/images/train/newSetTransp_colorF10.jpg\n",
            "Tensorflow/workspace/images/train/newSetTransp_colorF10.xml\n",
            "Tensorflow/workspace/images/train/newSetTransp_colorF11.jpg\n",
            "Tensorflow/workspace/images/train/newSetTransp_colorF11.xml\n",
            "Tensorflow/workspace/images/train/newSetTransp_colorF12.jpg\n",
            "Tensorflow/workspace/images/train/newSetTransp_colorF12.xml\n",
            "Tensorflow/workspace/images/train/newSetTransp_colorF2.jpg\n",
            "Tensorflow/workspace/images/train/newSetTransp_colorF2.xml\n",
            "Tensorflow/workspace/images/train/newSetTransp_colorF3.jpg\n",
            "Tensorflow/workspace/images/train/newSetTransp_colorF3.xml\n",
            "Tensorflow/workspace/images/train/newSetTransp_colorF4.jpg\n",
            "Tensorflow/workspace/images/train/newSetTransp_colorF4.xml\n",
            "Tensorflow/workspace/images/train/newSetTransp_colorF5.jpg\n",
            "Tensorflow/workspace/images/train/newSetTransp_colorF5.xml\n",
            "Tensorflow/workspace/images/train/newSetTransp_colorF6.jpg\n",
            "Tensorflow/workspace/images/train/newSetTransp_colorF6.xml\n",
            "Tensorflow/workspace/images/train/newSetTransp_colorF7.jpg\n",
            "Tensorflow/workspace/images/train/newSetTransp_colorF7.xml\n",
            "Tensorflow/workspace/images/train/newSetTransp_colorF8.jpg\n",
            "Tensorflow/workspace/images/train/newSetTransp_colorF8.xml\n",
            "Tensorflow/workspace/images/train/newSetTransp_colorF9.jpg\n",
            "Tensorflow/workspace/images/train/newSetTransp_colorF9.xml\n",
            "Tensorflow/workspace/images/train/newSetTransp_colorG1.jpg\n",
            "Tensorflow/workspace/images/train/newSetTransp_colorG1.xml\n",
            "Tensorflow/workspace/images/train/newSetTransp_colorG10.jpg\n",
            "Tensorflow/workspace/images/train/newSetTransp_colorG10.xml\n",
            "Tensorflow/workspace/images/train/newSetTransp_colorG11.jpg\n",
            "Tensorflow/workspace/images/train/newSetTransp_colorG11.xml\n",
            "Tensorflow/workspace/images/train/newSetTransp_colorG12.jpg\n",
            "Tensorflow/workspace/images/train/newSetTransp_colorG12.xml\n",
            "Tensorflow/workspace/images/train/newSetTransp_colorG2.jpg\n",
            "Tensorflow/workspace/images/train/newSetTransp_colorG2.xml\n",
            "Tensorflow/workspace/images/train/newSetTransp_colorG3.jpg\n",
            "Tensorflow/workspace/images/train/newSetTransp_colorG3.xml\n",
            "Tensorflow/workspace/images/train/newSetTransp_colorG4.jpg\n",
            "Tensorflow/workspace/images/train/newSetTransp_colorG4.xml\n",
            "Tensorflow/workspace/images/train/newSetTransp_colorG5.jpg\n",
            "Tensorflow/workspace/images/train/newSetTransp_colorG5.xml\n",
            "Tensorflow/workspace/images/train/newSetTransp_colorG6.jpg\n",
            "Tensorflow/workspace/images/train/newSetTransp_colorG6.xml\n",
            "Tensorflow/workspace/images/train/newSetTransp_colorG7.jpg\n",
            "Tensorflow/workspace/images/train/newSetTransp_colorG7.xml\n",
            "Tensorflow/workspace/images/train/newSetTransp_colorG8.jpg\n",
            "Tensorflow/workspace/images/train/newSetTransp_colorG8.xml\n",
            "Tensorflow/workspace/images/train/newSetTransp_colorG9.jpg\n",
            "Tensorflow/workspace/images/train/newSetTransp_colorG9.xml\n",
            "Tensorflow/workspace/images/train/newSetTransp_colorH1.jpg\n",
            "Tensorflow/workspace/images/train/newSetTransp_colorH1.xml\n",
            "Tensorflow/workspace/images/train/newSetTransp_colorH10.jpg\n",
            "Tensorflow/workspace/images/train/newSetTransp_colorH10.xml\n",
            "Tensorflow/workspace/images/train/newSetTransp_colorH11.jpg\n",
            "Tensorflow/workspace/images/train/newSetTransp_colorH11.xml\n",
            "Tensorflow/workspace/images/train/newSetTransp_colorH2.jpg\n",
            "Tensorflow/workspace/images/train/newSetTransp_colorH2.xml\n",
            "Tensorflow/workspace/images/train/newSetTransp_colorH3.jpg\n",
            "Tensorflow/workspace/images/train/newSetTransp_colorH3.xml\n",
            "Tensorflow/workspace/images/train/newSetTransp_colorH4.jpg\n",
            "Tensorflow/workspace/images/train/newSetTransp_colorH4.xml\n",
            "Tensorflow/workspace/images/train/newSetTransp_colorH5.jpg\n",
            "Tensorflow/workspace/images/train/newSetTransp_colorH5.xml\n",
            "Tensorflow/workspace/images/train/newSetTransp_colorH6.jpg\n",
            "Tensorflow/workspace/images/train/newSetTransp_colorH6.xml\n",
            "Tensorflow/workspace/images/train/newSetTransp_colorH7.jpg\n",
            "Tensorflow/workspace/images/train/newSetTransp_colorH7.xml\n",
            "Tensorflow/workspace/images/train/newSetTransp_colorH8.jpg\n",
            "Tensorflow/workspace/images/train/newSetTransp_colorH8.xml\n",
            "Tensorflow/workspace/images/train/newSetTransp_colorH9.jpg\n",
            "Tensorflow/workspace/images/train/newSetTransp_colorH9.xml\n",
            "Tensorflow/workspace/images/train/newSetWhite_colorA1.jpg\n",
            "Tensorflow/workspace/images/train/newSetWhite_colorA1.xml\n",
            "Tensorflow/workspace/images/train/newSetWhite_colorA2.jpg\n",
            "Tensorflow/workspace/images/train/newSetWhite_colorA2.xml\n",
            "Tensorflow/workspace/images/train/newSetWhite_colorA3.jpg\n",
            "Tensorflow/workspace/images/train/newSetWhite_colorA3.xml\n",
            "Tensorflow/workspace/images/train/newSetWhite_colorA4.jpg\n",
            "Tensorflow/workspace/images/train/newSetWhite_colorA4.xml\n",
            "Tensorflow/workspace/images/train/newSetWhite_colorA5.jpg\n",
            "Tensorflow/workspace/images/train/newSetWhite_colorA5.xml\n",
            "Tensorflow/workspace/images/train/newSetWhite_colorA6.jpg\n",
            "Tensorflow/workspace/images/train/newSetWhite_colorA6.xml\n",
            "Tensorflow/workspace/images/train/newSetWhite_colorA7.jpg\n",
            "Tensorflow/workspace/images/train/newSetWhite_colorA7.xml\n",
            "Tensorflow/workspace/images/train/newSetWhite_colorA8.jpg\n",
            "Tensorflow/workspace/images/train/newSetWhite_colorA8.xml\n",
            "Tensorflow/workspace/images/train/newSetWhite_colorA9.jpg\n",
            "Tensorflow/workspace/images/train/newSetWhite_colorA9.xml\n",
            "Tensorflow/workspace/images/train/newSetWhite_colorB1.jpg\n",
            "Tensorflow/workspace/images/train/newSetWhite_colorB1.xml\n",
            "Tensorflow/workspace/images/train/newSetWhite_colorB2.jpg\n",
            "Tensorflow/workspace/images/train/newSetWhite_colorB2.xml\n",
            "Tensorflow/workspace/images/train/newSetWhite_colorB3.jpg\n",
            "Tensorflow/workspace/images/train/newSetWhite_colorB3.xml\n",
            "Tensorflow/workspace/images/train/newSetWhite_colorB4.jpg\n",
            "Tensorflow/workspace/images/train/newSetWhite_colorB4.xml\n",
            "Tensorflow/workspace/images/train/newSetWhite_colorB5.jpg\n",
            "Tensorflow/workspace/images/train/newSetWhite_colorB5.xml\n",
            "Tensorflow/workspace/images/train/newSetWhite_colorB6.jpg\n",
            "Tensorflow/workspace/images/train/newSetWhite_colorB6.xml\n",
            "Tensorflow/workspace/images/train/newSetWhite_colorB7.jpg\n",
            "Tensorflow/workspace/images/train/newSetWhite_colorB7.xml\n",
            "Tensorflow/workspace/images/train/newSetWhite_colorB8.jpg\n",
            "Tensorflow/workspace/images/train/newSetWhite_colorB8.xml\n",
            "Tensorflow/workspace/images/train/newSetWhite_colorB9.jpg\n",
            "Tensorflow/workspace/images/train/newSetWhite_colorB9.xml\n",
            "Tensorflow/workspace/images/train/newSetWhite_colorC1.jpg\n",
            "Tensorflow/workspace/images/train/newSetWhite_colorC1.xml\n",
            "Tensorflow/workspace/images/train/newSetWhite_colorC2.jpg\n",
            "Tensorflow/workspace/images/train/newSetWhite_colorC2.xml\n",
            "Tensorflow/workspace/images/train/newSetWhite_colorC3.jpg\n",
            "Tensorflow/workspace/images/train/newSetWhite_colorC3.xml\n",
            "Tensorflow/workspace/images/train/newSetWhite_colorC4.jpg\n",
            "Tensorflow/workspace/images/train/newSetWhite_colorC4.xml\n",
            "Tensorflow/workspace/images/train/newSetWhite_colorC5.jpg\n",
            "Tensorflow/workspace/images/train/newSetWhite_colorC5.xml\n",
            "Tensorflow/workspace/images/train/newSetWhite_colorC6.jpg\n",
            "Tensorflow/workspace/images/train/newSetWhite_colorC6.xml\n",
            "Tensorflow/workspace/images/train/newSetWhite_colorC7.jpg\n",
            "Tensorflow/workspace/images/train/newSetWhite_colorC7.xml\n",
            "Tensorflow/workspace/images/train/newSetWhite_colorC8.jpg\n",
            "Tensorflow/workspace/images/train/newSetWhite_colorC8.xml\n",
            "Tensorflow/workspace/images/train/newSetWhite_colorC9.jpg\n",
            "Tensorflow/workspace/images/train/newSetWhite_colorC9.xml\n",
            "Tensorflow/workspace/images/train/newSetWhite_colorD1.jpg\n",
            "Tensorflow/workspace/images/train/newSetWhite_colorD1.xml\n",
            "Tensorflow/workspace/images/train/newSetWhite_colorD2.jpg\n",
            "Tensorflow/workspace/images/train/newSetWhite_colorD2.xml\n",
            "Tensorflow/workspace/images/train/newSetWhite_colorD3.jpg\n",
            "Tensorflow/workspace/images/train/newSetWhite_colorD3.xml\n",
            "Tensorflow/workspace/images/train/newSetWhite_colorD4.jpg\n",
            "Tensorflow/workspace/images/train/newSetWhite_colorD4.xml\n",
            "Tensorflow/workspace/images/train/newSetWhite_colorD5.jpg\n",
            "Tensorflow/workspace/images/train/newSetWhite_colorD5.xml\n",
            "Tensorflow/workspace/images/train/newSetWhite_colorD6.jpg\n",
            "Tensorflow/workspace/images/train/newSetWhite_colorD6.xml\n",
            "Tensorflow/workspace/images/train/newSetWhite_colorD7.jpg\n",
            "Tensorflow/workspace/images/train/newSetWhite_colorD7.xml\n",
            "Tensorflow/workspace/images/train/newSetWhite_colorD8.jpg\n",
            "Tensorflow/workspace/images/train/newSetWhite_colorD8.xml\n",
            "Tensorflow/workspace/images/train/newSetWhite_colorD9.jpg\n",
            "Tensorflow/workspace/images/train/newSetWhite_colorD9.xml\n",
            "Tensorflow/workspace/images/train/newSetWhite_colorE1.jpg\n",
            "Tensorflow/workspace/images/train/newSetWhite_colorE1.xml\n",
            "Tensorflow/workspace/images/train/newSetWhite_colorE2.jpg\n",
            "Tensorflow/workspace/images/train/newSetWhite_colorE2.xml\n",
            "Tensorflow/workspace/images/train/newSetWhite_colorE3.jpg\n",
            "Tensorflow/workspace/images/train/newSetWhite_colorE3.xml\n",
            "Tensorflow/workspace/images/train/newSetWhite_colorE4.jpg\n",
            "Tensorflow/workspace/images/train/newSetWhite_colorE4.xml\n",
            "Tensorflow/workspace/images/train/newSetWhite_colorE5.jpg\n",
            "Tensorflow/workspace/images/train/newSetWhite_colorE5.xml\n",
            "Tensorflow/workspace/images/train/newSetWhite_colorE6.jpg\n",
            "Tensorflow/workspace/images/train/newSetWhite_colorE6.xml\n",
            "Tensorflow/workspace/images/train/newSetWhite_colorE7.jpg\n",
            "Tensorflow/workspace/images/train/newSetWhite_colorE7.xml\n",
            "Tensorflow/workspace/images/train/newSetWhite_colorE8.jpg\n",
            "Tensorflow/workspace/images/train/newSetWhite_colorE8.xml\n",
            "Tensorflow/workspace/images/train/newSetWhite_colorE9.jpg\n",
            "Tensorflow/workspace/images/train/newSetWhite_colorE9.xml\n",
            "Tensorflow/workspace/images/test/\n",
            "Tensorflow/workspace/images/test/BackgroundTests_colorA13.jpg\n",
            "Tensorflow/workspace/images/test/BackgroundTests_colorA13.xml\n",
            "Tensorflow/workspace/images/test/BackgroundTests_colorA1_3.jpg\n",
            "Tensorflow/workspace/images/test/BackgroundTests_colorA1_3.xml\n",
            "Tensorflow/workspace/images/test/BackgroundTests_colorA3_3.jpg\n",
            "Tensorflow/workspace/images/test/BackgroundTests_colorA6_2.jpg\n",
            "Tensorflow/workspace/images/test/BackgroundTests_colorA6_2.xml\n",
            "Tensorflow/workspace/images/test/BackgroundTests_colorA7_3.jpg\n",
            "Tensorflow/workspace/images/test/BackgroundTests_colorA7_3.xml\n",
            "Tensorflow/workspace/images/test/BackgroundTests_colorA8_1.jpg\n",
            "Tensorflow/workspace/images/test/BackgroundTests_colorA8_1.xml\n",
            "Tensorflow/workspace/images/test/BackgroundTests_colorB11.jpg\n",
            "Tensorflow/workspace/images/test/BackgroundTests_colorB11.xml\n",
            "Tensorflow/workspace/images/test/BackgroundTests_colorB3_2.jpg\n",
            "Tensorflow/workspace/images/test/BackgroundTests_colorB3_2.xml\n",
            "Tensorflow/workspace/images/test/BackgroundTests_colorC11.jpg\n",
            "Tensorflow/workspace/images/test/BackgroundTests_colorC11.xml\n",
            "Tensorflow/workspace/images/test/BackgroundTests_colorC4_2.jpg\n",
            "Tensorflow/workspace/images/test/BackgroundTests_colorC4_2.xml\n",
            "Tensorflow/workspace/images/test/fototesttraspa10.jpg\n",
            "Tensorflow/workspace/images/test/fototesttraspa10.xml\n",
            "Tensorflow/workspace/images/test/fototesttraspb10.jpg\n",
            "Tensorflow/workspace/images/test/fototesttraspb10.xml\n",
            "Tensorflow/workspace/images/test/fototesttraspc10.jpg\n",
            "Tensorflow/workspace/images/test/fototesttraspc10.xml\n",
            "Tensorflow/workspace/images/test/fototesttraspn10.jpg\n",
            "Tensorflow/workspace/images/test/fototesttraspn10.xml\n",
            "Tensorflow/workspace/images/test/newSetAlum_colorA10.jpg\n",
            "Tensorflow/workspace/images/test/newSetAlum_colorA10.xml\n",
            "Tensorflow/workspace/images/test/newSetAlum_colorA9.xml\n",
            "Tensorflow/workspace/images/test/newSetAlum_colorB10.jpg\n",
            "Tensorflow/workspace/images/test/newSetAlum_colorB10.xml\n",
            "Tensorflow/workspace/images/test/newSetAlum_colorC10.jpg\n",
            "Tensorflow/workspace/images/test/newSetAlum_colorC10.xml\n",
            "Tensorflow/workspace/images/test/newSetAlum_colorD10.jpg\n",
            "Tensorflow/workspace/images/test/newSetAlum_colorD10.xml\n",
            "Tensorflow/workspace/images/test/newSetAlum_colorE10.jpg\n",
            "Tensorflow/workspace/images/test/newSetAlum_colorE10.xml\n",
            "Tensorflow/workspace/images/test/newSetAlum_colorF10.jpg\n",
            "Tensorflow/workspace/images/test/newSetAlum_colorF10.xml\n",
            "Tensorflow/workspace/images/test/newSetTransp_colorA10.jpg\n",
            "Tensorflow/workspace/images/test/newSetTransp_colorA10.xml\n",
            "Tensorflow/workspace/images/test/newSetTransp_colorB13.jpg\n",
            "Tensorflow/workspace/images/test/newSetTransp_colorB13.xml\n",
            "Tensorflow/workspace/images/test/newSetTransp_colorC13.jpg\n",
            "Tensorflow/workspace/images/test/newSetTransp_colorC13.xml\n",
            "Tensorflow/workspace/images/test/newSetTransp_colorD13.jpg\n",
            "Tensorflow/workspace/images/test/newSetTransp_colorD13.xml\n",
            "Tensorflow/workspace/images/test/newSetTransp_colorE13.jpg\n",
            "Tensorflow/workspace/images/test/newSetTransp_colorE13.xml\n",
            "Tensorflow/workspace/images/test/newSetTransp_colorF13.jpg\n",
            "Tensorflow/workspace/images/test/newSetTransp_colorF13.xml\n",
            "Tensorflow/workspace/images/test/newSetTransp_colorG13.jpg\n",
            "Tensorflow/workspace/images/test/newSetTransp_colorG13.xml\n",
            "Tensorflow/workspace/images/test/newSetTransp_colorH12.jpg\n",
            "Tensorflow/workspace/images/test/newSetTransp_colorH12.xml\n",
            "Tensorflow/workspace/images/test/newSetWhite_colorA10.jpg\n",
            "Tensorflow/workspace/images/test/newSetWhite_colorA10.xml\n",
            "Tensorflow/workspace/images/test/newSetWhite_colorB10.jpg\n",
            "Tensorflow/workspace/images/test/newSetWhite_colorB10.xml\n",
            "Tensorflow/workspace/images/test/newSetWhite_colorC10.jpg\n",
            "Tensorflow/workspace/images/test/newSetWhite_colorC10.xml\n",
            "Tensorflow/workspace/images/test/newSetWhite_colorD10.jpg\n",
            "Tensorflow/workspace/images/test/newSetWhite_colorD10.xml\n",
            "Tensorflow/workspace/images/test/newSetWhite_colorE10.jpg\n",
            "Tensorflow/workspace/images/test/newSetWhite_colorE10.xml\n"
          ]
        }
      ]
    },
    {
      "cell_type": "code",
      "metadata": {
        "id": "KWpb_BVUpfDD"
      },
      "source": [
        "if not os.path.exists(files['TF_RECORD_SCRIPT']):\n",
        "    !git clone https://github.com/nicknochnack/GenerateTFRecord {paths['SCRIPTS_PATH']}"
      ],
      "execution_count": null,
      "outputs": []
    },
    {
      "cell_type": "code",
      "metadata": {
        "colab": {
          "base_uri": "https://localhost:8080/"
        },
        "id": "UPFToGZqpfDD",
        "outputId": "2f42a561-6e3d-4817-cd11-533c84d885dc"
      },
      "source": [
        "!python {files['TF_RECORD_SCRIPT']} -x {os.path.join(paths['IMAGE_PATH'], 'train')} -l {files['LABELMAP']} -o {os.path.join(paths['ANNOTATION_PATH'], 'train.record')} \n",
        "!python {files['TF_RECORD_SCRIPT']} -x {os.path.join(paths['IMAGE_PATH'], 'test')} -l {files['LABELMAP']} -o {os.path.join(paths['ANNOTATION_PATH'], 'test.record')} "
      ],
      "execution_count": null,
      "outputs": [
        {
          "name": "stdout",
          "output_type": "stream",
          "text": [
            "Traceback (most recent call last):\n",
            "  File \"Tensorflow/scripts/generate_tfrecord.py\", line 168, in <module>\n",
            "    tf.app.run()\n",
            "  File \"/usr/local/lib/python3.7/dist-packages/tensorflow/python/platform/app.py\", line 40, in run\n",
            "    _run(main=main, argv=argv, flags_parser=_parse_flags_tolerate_undef)\n",
            "  File \"/usr/local/lib/python3.7/dist-packages/absl/app.py\", line 303, in run\n",
            "    _run_main(main, args)\n",
            "  File \"/usr/local/lib/python3.7/dist-packages/absl/app.py\", line 251, in _run_main\n",
            "    sys.exit(main(argv))\n",
            "  File \"Tensorflow/scripts/generate_tfrecord.py\", line 158, in main\n",
            "    tf_example = create_tf_example(group, path)\n",
            "  File \"Tensorflow/scripts/generate_tfrecord.py\", line 112, in create_tf_example\n",
            "    encoded_jpg = fid.read()\n",
            "  File \"/usr/local/lib/python3.7/dist-packages/tensorflow/python/lib/io/file_io.py\", line 117, in read\n",
            "    self._preread_check()\n",
            "  File \"/usr/local/lib/python3.7/dist-packages/tensorflow/python/lib/io/file_io.py\", line 80, in _preread_check\n",
            "    compat.path_to_str(self.__name), 1024 * 512)\n",
            "tensorflow.python.framework.errors_impl.NotFoundError: Tensorflow/workspace/images/train/BackgroundTests_colorA3_3.jpg; No such file or directory\n",
            "Traceback (most recent call last):\n",
            "  File \"Tensorflow/scripts/generate_tfrecord.py\", line 168, in <module>\n",
            "    tf.app.run()\n",
            "  File \"/usr/local/lib/python3.7/dist-packages/tensorflow/python/platform/app.py\", line 40, in run\n",
            "    _run(main=main, argv=argv, flags_parser=_parse_flags_tolerate_undef)\n",
            "  File \"/usr/local/lib/python3.7/dist-packages/absl/app.py\", line 303, in run\n",
            "    _run_main(main, args)\n",
            "  File \"/usr/local/lib/python3.7/dist-packages/absl/app.py\", line 251, in _run_main\n",
            "    sys.exit(main(argv))\n",
            "  File \"Tensorflow/scripts/generate_tfrecord.py\", line 158, in main\n",
            "    tf_example = create_tf_example(group, path)\n",
            "  File \"Tensorflow/scripts/generate_tfrecord.py\", line 112, in create_tf_example\n",
            "    encoded_jpg = fid.read()\n",
            "  File \"/usr/local/lib/python3.7/dist-packages/tensorflow/python/lib/io/file_io.py\", line 117, in read\n",
            "    self._preread_check()\n",
            "  File \"/usr/local/lib/python3.7/dist-packages/tensorflow/python/lib/io/file_io.py\", line 80, in _preread_check\n",
            "    compat.path_to_str(self.__name), 1024 * 512)\n",
            "tensorflow.python.framework.errors_impl.NotFoundError: Tensorflow/workspace/images/test/newSetAlum_colorA9.jpg; No such file or directory\n"
          ]
        }
      ]
    },
    {
      "cell_type": "markdown",
      "metadata": {
        "id": "qT4QU7pLpfDE"
      },
      "source": [
        "# 4. Copy Model Config to Training Folder"
      ]
    },
    {
      "cell_type": "code",
      "metadata": {
        "id": "cOjuTFbwpfDF"
      },
      "source": [
        "if os.name =='posix':\n",
        "    !cp {os.path.join(paths['PRETRAINED_MODEL_PATH'], PRETRAINED_MODEL_NAME, 'pipeline.config')} {os.path.join(paths['CHECKPOINT_PATH'])}\n",
        "if os.name == 'nt':\n",
        "    !copy {os.path.join(paths['PRETRAINED_MODEL_PATH'], PRETRAINED_MODEL_NAME, 'pipeline.config')} {os.path.join(paths['CHECKPOINT_PATH'])}"
      ],
      "execution_count": null,
      "outputs": []
    },
    {
      "cell_type": "markdown",
      "metadata": {
        "id": "Ga8gpNslpfDF"
      },
      "source": [
        "# 5. Update Config For Transfer Learning"
      ]
    },
    {
      "cell_type": "code",
      "metadata": {
        "id": "Z9hRrO_ppfDF"
      },
      "source": [
        "import tensorflow as tf\n",
        "from object_detection.utils import config_util\n",
        "from object_detection.protos import pipeline_pb2\n",
        "from google.protobuf import text_format"
      ],
      "execution_count": null,
      "outputs": []
    },
    {
      "cell_type": "code",
      "metadata": {
        "id": "c2A0mn4ipfDF"
      },
      "source": [
        "config = config_util.get_configs_from_pipeline_file(files['PIPELINE_CONFIG'])"
      ],
      "execution_count": null,
      "outputs": []
    },
    {
      "cell_type": "code",
      "metadata": {
        "colab": {
          "base_uri": "https://localhost:8080/"
        },
        "id": "uQA13-afpfDF",
        "outputId": "0deb0ee2-f0cb-4b3a-e0aa-fe3a93d9ae2d"
      },
      "source": [
        "config"
      ],
      "execution_count": null,
      "outputs": [
        {
          "data": {
            "text/plain": [
              "{'eval_config': metrics_set: \"coco_detection_metrics\"\n",
              " use_moving_averages: false,\n",
              " 'eval_input_config': label_map_path: \"PATH_TO_BE_CONFIGURED\"\n",
              " shuffle: false\n",
              " num_epochs: 1\n",
              " tf_record_input_reader {\n",
              "   input_path: \"PATH_TO_BE_CONFIGURED\"\n",
              " },\n",
              " 'eval_input_configs': [label_map_path: \"PATH_TO_BE_CONFIGURED\"\n",
              " shuffle: false\n",
              " num_epochs: 1\n",
              " tf_record_input_reader {\n",
              "   input_path: \"PATH_TO_BE_CONFIGURED\"\n",
              " }\n",
              " ],\n",
              " 'model': ssd {\n",
              "   num_classes: 90\n",
              "   image_resizer {\n",
              "     fixed_shape_resizer {\n",
              "       height: 320\n",
              "       width: 320\n",
              "     }\n",
              "   }\n",
              "   feature_extractor {\n",
              "     type: \"ssd_mobilenet_v2_fpn_keras\"\n",
              "     depth_multiplier: 1.0\n",
              "     min_depth: 16\n",
              "     conv_hyperparams {\n",
              "       regularizer {\n",
              "         l2_regularizer {\n",
              "           weight: 3.9999998989515007e-05\n",
              "         }\n",
              "       }\n",
              "       initializer {\n",
              "         random_normal_initializer {\n",
              "           mean: 0.0\n",
              "           stddev: 0.009999999776482582\n",
              "         }\n",
              "       }\n",
              "       activation: RELU_6\n",
              "       batch_norm {\n",
              "         decay: 0.996999979019165\n",
              "         scale: true\n",
              "         epsilon: 0.0010000000474974513\n",
              "       }\n",
              "     }\n",
              "     use_depthwise: true\n",
              "     override_base_feature_extractor_hyperparams: true\n",
              "     fpn {\n",
              "       min_level: 3\n",
              "       max_level: 7\n",
              "       additional_layer_depth: 128\n",
              "     }\n",
              "   }\n",
              "   box_coder {\n",
              "     faster_rcnn_box_coder {\n",
              "       y_scale: 10.0\n",
              "       x_scale: 10.0\n",
              "       height_scale: 5.0\n",
              "       width_scale: 5.0\n",
              "     }\n",
              "   }\n",
              "   matcher {\n",
              "     argmax_matcher {\n",
              "       matched_threshold: 0.5\n",
              "       unmatched_threshold: 0.5\n",
              "       ignore_thresholds: false\n",
              "       negatives_lower_than_unmatched: true\n",
              "       force_match_for_each_row: true\n",
              "       use_matmul_gather: true\n",
              "     }\n",
              "   }\n",
              "   similarity_calculator {\n",
              "     iou_similarity {\n",
              "     }\n",
              "   }\n",
              "   box_predictor {\n",
              "     weight_shared_convolutional_box_predictor {\n",
              "       conv_hyperparams {\n",
              "         regularizer {\n",
              "           l2_regularizer {\n",
              "             weight: 3.9999998989515007e-05\n",
              "           }\n",
              "         }\n",
              "         initializer {\n",
              "           random_normal_initializer {\n",
              "             mean: 0.0\n",
              "             stddev: 0.009999999776482582\n",
              "           }\n",
              "         }\n",
              "         activation: RELU_6\n",
              "         batch_norm {\n",
              "           decay: 0.996999979019165\n",
              "           scale: true\n",
              "           epsilon: 0.0010000000474974513\n",
              "         }\n",
              "       }\n",
              "       depth: 128\n",
              "       num_layers_before_predictor: 4\n",
              "       kernel_size: 3\n",
              "       class_prediction_bias_init: -4.599999904632568\n",
              "       share_prediction_tower: true\n",
              "       use_depthwise: true\n",
              "     }\n",
              "   }\n",
              "   anchor_generator {\n",
              "     multiscale_anchor_generator {\n",
              "       min_level: 3\n",
              "       max_level: 7\n",
              "       anchor_scale: 4.0\n",
              "       aspect_ratios: 1.0\n",
              "       aspect_ratios: 2.0\n",
              "       aspect_ratios: 0.5\n",
              "       scales_per_octave: 2\n",
              "     }\n",
              "   }\n",
              "   post_processing {\n",
              "     batch_non_max_suppression {\n",
              "       score_threshold: 9.99999993922529e-09\n",
              "       iou_threshold: 0.6000000238418579\n",
              "       max_detections_per_class: 100\n",
              "       max_total_detections: 100\n",
              "       use_static_shapes: false\n",
              "     }\n",
              "     score_converter: SIGMOID\n",
              "   }\n",
              "   normalize_loss_by_num_matches: true\n",
              "   loss {\n",
              "     localization_loss {\n",
              "       weighted_smooth_l1 {\n",
              "       }\n",
              "     }\n",
              "     classification_loss {\n",
              "       weighted_sigmoid_focal {\n",
              "         gamma: 2.0\n",
              "         alpha: 0.25\n",
              "       }\n",
              "     }\n",
              "     classification_weight: 1.0\n",
              "     localization_weight: 1.0\n",
              "   }\n",
              "   encode_background_as_zeros: true\n",
              "   normalize_loc_loss_by_codesize: true\n",
              "   inplace_batchnorm_update: true\n",
              "   freeze_batchnorm: false\n",
              " },\n",
              " 'train_config': batch_size: 128\n",
              " data_augmentation_options {\n",
              "   random_horizontal_flip {\n",
              "   }\n",
              " }\n",
              " data_augmentation_options {\n",
              "   random_crop_image {\n",
              "     min_object_covered: 0.0\n",
              "     min_aspect_ratio: 0.75\n",
              "     max_aspect_ratio: 3.0\n",
              "     min_area: 0.75\n",
              "     max_area: 1.0\n",
              "     overlap_thresh: 0.0\n",
              "   }\n",
              " }\n",
              " sync_replicas: true\n",
              " optimizer {\n",
              "   momentum_optimizer {\n",
              "     learning_rate {\n",
              "       cosine_decay_learning_rate {\n",
              "         learning_rate_base: 0.07999999821186066\n",
              "         total_steps: 50000\n",
              "         warmup_learning_rate: 0.026666000485420227\n",
              "         warmup_steps: 1000\n",
              "       }\n",
              "     }\n",
              "     momentum_optimizer_value: 0.8999999761581421\n",
              "   }\n",
              "   use_moving_average: false\n",
              " }\n",
              " fine_tune_checkpoint: \"PATH_TO_BE_CONFIGURED\"\n",
              " num_steps: 50000\n",
              " startup_delay_steps: 0.0\n",
              " replicas_to_aggregate: 8\n",
              " max_number_of_boxes: 100\n",
              " unpad_groundtruth_tensors: false\n",
              " fine_tune_checkpoint_type: \"classification\"\n",
              " fine_tune_checkpoint_version: V2,\n",
              " 'train_input_config': label_map_path: \"PATH_TO_BE_CONFIGURED\"\n",
              " tf_record_input_reader {\n",
              "   input_path: \"PATH_TO_BE_CONFIGURED\"\n",
              " }}"
            ]
          },
          "execution_count": 41,
          "metadata": {},
          "output_type": "execute_result"
        }
      ]
    },
    {
      "cell_type": "code",
      "metadata": {
        "id": "9vK5lotDpfDF"
      },
      "source": [
        "pipeline_config = pipeline_pb2.TrainEvalPipelineConfig()\n",
        "with tf.io.gfile.GFile(files['PIPELINE_CONFIG'], \"r\") as f:                                                                                                                                                                                                                     \n",
        "    proto_str = f.read()                                                                                                                                                                                                                                          \n",
        "    text_format.Merge(proto_str, pipeline_config)  "
      ],
      "execution_count": null,
      "outputs": []
    },
    {
      "cell_type": "code",
      "metadata": {
        "id": "rP43Ph0JpfDG"
      },
      "source": [
        "pipeline_config.model.ssd.num_classes = len(labels)\n",
        "pipeline_config.train_config.batch_size = 4\n",
        "pipeline_config.train_config.fine_tune_checkpoint = os.path.join(paths['PRETRAINED_MODEL_PATH'], PRETRAINED_MODEL_NAME, 'checkpoint', 'ckpt-0')\n",
        "pipeline_config.train_config.fine_tune_checkpoint_type = \"detection\"\n",
        "pipeline_config.train_input_reader.label_map_path= files['LABELMAP']\n",
        "pipeline_config.train_input_reader.tf_record_input_reader.input_path[:] = [os.path.join(paths['ANNOTATION_PATH'], 'train.record')]\n",
        "pipeline_config.eval_input_reader[0].label_map_path = files['LABELMAP']\n",
        "pipeline_config.eval_input_reader[0].tf_record_input_reader.input_path[:] = [os.path.join(paths['ANNOTATION_PATH'], 'test.record')]"
      ],
      "execution_count": null,
      "outputs": []
    },
    {
      "cell_type": "code",
      "metadata": {
        "id": "oJvfgwWqpfDG"
      },
      "source": [
        "config_text = text_format.MessageToString(pipeline_config)                                                                                                                                                                                                        \n",
        "with tf.io.gfile.GFile(files['PIPELINE_CONFIG'], \"wb\") as f:                                                                                                                                                                                                                     \n",
        "    f.write(config_text)   "
      ],
      "execution_count": null,
      "outputs": []
    },
    {
      "cell_type": "markdown",
      "metadata": {
        "id": "Zr3ON7xMpfDG"
      },
      "source": [
        "# 6. Train the model"
      ]
    },
    {
      "cell_type": "code",
      "metadata": {
        "id": "B-Y2UQmQpfDG"
      },
      "source": [
        "TRAINING_SCRIPT = os.path.join(paths['APIMODEL_PATH'], 'research', 'object_detection', 'model_main_tf2.py')"
      ],
      "execution_count": null,
      "outputs": []
    },
    {
      "cell_type": "code",
      "metadata": {
        "id": "jMP2XDfQpfDH"
      },
      "source": [
        "command = \"python {} --model_dir={} --pipeline_config_path={} --num_train_steps=20000\".format(TRAINING_SCRIPT, paths['CHECKPOINT_PATH'],files['PIPELINE_CONFIG'])"
      ],
      "execution_count": null,
      "outputs": []
    },
    {
      "cell_type": "code",
      "metadata": {
        "colab": {
          "base_uri": "https://localhost:8080/"
        },
        "id": "A4OXXi-ApfDH",
        "outputId": "fd5b92d7-d1bf-4e2b-dbc4-ad4e94b2d56e"
      },
      "source": [
        "print(command)"
      ],
      "execution_count": null,
      "outputs": [
        {
          "name": "stdout",
          "output_type": "stream",
          "text": [
            "python Tensorflow/models/research/object_detection/model_main_tf2.py --model_dir=drive/MyDrive/models/Near_Final_resized_400/my_ssd_mobnet --pipeline_config_path=drive/MyDrive/models/Near_Final_resized_400/my_ssd_mobnet/pipeline.config --num_train_steps=20000\n"
          ]
        }
      ]
    },
    {
      "cell_type": "code",
      "metadata": {
        "id": "i3ZsJR-qpfDH"
      },
      "source": [
        "!{command}"
      ],
      "execution_count": null,
      "outputs": []
    },
    {
      "cell_type": "markdown",
      "metadata": {
        "id": "4_YRZu7npfDH"
      },
      "source": [
        "# 7. Evaluate the Model"
      ]
    },
    {
      "cell_type": "code",
      "metadata": {
        "id": "80L7-fdPpfDH"
      },
      "source": [
        "command = \"python {} --model_dir={} --pipeline_config_path={} --checkpoint_dir={}\".format(TRAINING_SCRIPT, paths['CHECKPOINT_PATH'],files['PIPELINE_CONFIG'], paths['CHECKPOINT_PATH'])"
      ],
      "execution_count": null,
      "outputs": []
    },
    {
      "cell_type": "code",
      "metadata": {
        "colab": {
          "base_uri": "https://localhost:8080/"
        },
        "id": "lYsgEPx9pfDH",
        "outputId": "d575678c-bb09-4ade-dc71-0989b4c0ec43"
      },
      "source": [
        "print(command)"
      ],
      "execution_count": null,
      "outputs": [
        {
          "name": "stdout",
          "output_type": "stream",
          "text": [
            "python Tensorflow/models/research/object_detection/model_main_tf2.py --model_dir=drive/MyDrive/models/Near_Final_resized_400/my_ssd_mobnet --pipeline_config_path=drive/MyDrive/models/Near_Final_resized_400/my_ssd_mobnet/pipeline.config --checkpoint_dir=drive/MyDrive/models/Near_Final_resized_400/my_ssd_mobnet\n"
          ]
        }
      ]
    },
    {
      "cell_type": "code",
      "metadata": {
        "colab": {
          "base_uri": "https://localhost:8080/"
        },
        "id": "lqTV2jGBpfDH",
        "outputId": "a4be7779-bc1e-402e-89fb-6fdaee09cf6e"
      },
      "source": [
        "!{command}"
      ],
      "execution_count": null,
      "outputs": [
        {
          "name": "stdout",
          "output_type": "stream",
          "text": [
            "2021-11-04 09:24:01.961596: I tensorflow/stream_executor/cuda/cuda_gpu_executor.cc:937] successful NUMA node read from SysFS had negative value (-1), but there must be at least one NUMA node, so returning NUMA node zero\n",
            "2021-11-04 09:24:01.970869: I tensorflow/stream_executor/cuda/cuda_gpu_executor.cc:937] successful NUMA node read from SysFS had negative value (-1), but there must be at least one NUMA node, so returning NUMA node zero\n",
            "2021-11-04 09:24:01.971742: I tensorflow/stream_executor/cuda/cuda_gpu_executor.cc:937] successful NUMA node read from SysFS had negative value (-1), but there must be at least one NUMA node, so returning NUMA node zero\n",
            "WARNING:tensorflow:Forced number of epochs for all eval validations to be 1.\n",
            "W1104 09:24:01.979832 140679135922048 model_lib_v2.py:1082] Forced number of epochs for all eval validations to be 1.\n",
            "INFO:tensorflow:Maybe overwriting sample_1_of_n_eval_examples: None\n",
            "I1104 09:24:01.980162 140679135922048 config_util.py:552] Maybe overwriting sample_1_of_n_eval_examples: None\n",
            "INFO:tensorflow:Maybe overwriting use_bfloat16: False\n",
            "I1104 09:24:01.980316 140679135922048 config_util.py:552] Maybe overwriting use_bfloat16: False\n",
            "INFO:tensorflow:Maybe overwriting eval_num_epochs: 1\n",
            "I1104 09:24:01.980494 140679135922048 config_util.py:552] Maybe overwriting eval_num_epochs: 1\n",
            "WARNING:tensorflow:Expected number of evaluation epochs is 1, but instead encountered `eval_on_train_input_config.num_epochs` = 0. Overwriting `num_epochs` to 1.\n",
            "W1104 09:24:01.980687 140679135922048 model_lib_v2.py:1103] Expected number of evaluation epochs is 1, but instead encountered `eval_on_train_input_config.num_epochs` = 0. Overwriting `num_epochs` to 1.\n",
            "2021-11-04 09:24:01.984760: I tensorflow/stream_executor/cuda/cuda_gpu_executor.cc:937] successful NUMA node read from SysFS had negative value (-1), but there must be at least one NUMA node, so returning NUMA node zero\n",
            "2021-11-04 09:24:01.985639: I tensorflow/stream_executor/cuda/cuda_gpu_executor.cc:937] successful NUMA node read from SysFS had negative value (-1), but there must be at least one NUMA node, so returning NUMA node zero\n",
            "2021-11-04 09:24:01.986445: I tensorflow/stream_executor/cuda/cuda_gpu_executor.cc:937] successful NUMA node read from SysFS had negative value (-1), but there must be at least one NUMA node, so returning NUMA node zero\n",
            "2021-11-04 09:24:02.471796: I tensorflow/stream_executor/cuda/cuda_gpu_executor.cc:937] successful NUMA node read from SysFS had negative value (-1), but there must be at least one NUMA node, so returning NUMA node zero\n",
            "2021-11-04 09:24:02.472639: I tensorflow/stream_executor/cuda/cuda_gpu_executor.cc:937] successful NUMA node read from SysFS had negative value (-1), but there must be at least one NUMA node, so returning NUMA node zero\n",
            "2021-11-04 09:24:02.473393: I tensorflow/stream_executor/cuda/cuda_gpu_executor.cc:937] successful NUMA node read from SysFS had negative value (-1), but there must be at least one NUMA node, so returning NUMA node zero\n",
            "2021-11-04 09:24:02.474090: W tensorflow/core/common_runtime/gpu/gpu_bfc_allocator.cc:39] Overriding allow_growth setting because the TF_FORCE_GPU_ALLOW_GROWTH environment variable is set. Original config value was 0.\n",
            "2021-11-04 09:24:02.474181: I tensorflow/core/common_runtime/gpu/gpu_device.cc:1510] Created device /job:localhost/replica:0/task:0/device:GPU:0 with 10697 MB memory:  -> device: 0, name: Tesla K80, pci bus id: 0000:00:04.0, compute capability: 3.7\n",
            "INFO:tensorflow:Reading unweighted datasets: ['Tensorflow/workspace/annotations/test.record']\n",
            "I1104 09:24:02.613090 140679135922048 dataset_builder.py:163] Reading unweighted datasets: ['Tensorflow/workspace/annotations/test.record']\n",
            "INFO:tensorflow:Reading record datasets for input file: ['Tensorflow/workspace/annotations/test.record']\n",
            "I1104 09:24:02.613382 140679135922048 dataset_builder.py:80] Reading record datasets for input file: ['Tensorflow/workspace/annotations/test.record']\n",
            "INFO:tensorflow:Number of filenames to read: 1\n",
            "I1104 09:24:02.613530 140679135922048 dataset_builder.py:81] Number of filenames to read: 1\n",
            "WARNING:tensorflow:num_readers has been reduced to 1 to match input file shards.\n",
            "W1104 09:24:02.613680 140679135922048 dataset_builder.py:88] num_readers has been reduced to 1 to match input file shards.\n",
            "WARNING:tensorflow:From /usr/local/lib/python3.7/dist-packages/object_detection/builders/dataset_builder.py:105: parallel_interleave (from tensorflow.python.data.experimental.ops.interleave_ops) is deprecated and will be removed in a future version.\n",
            "Instructions for updating:\n",
            "Use `tf.data.Dataset.interleave(map_func, cycle_length, block_length, num_parallel_calls=tf.data.AUTOTUNE)` instead. If sloppy execution is desired, use `tf.data.Options.experimental_deterministic`.\n",
            "W1104 09:24:02.615731 140679135922048 deprecation.py:345] From /usr/local/lib/python3.7/dist-packages/object_detection/builders/dataset_builder.py:105: parallel_interleave (from tensorflow.python.data.experimental.ops.interleave_ops) is deprecated and will be removed in a future version.\n",
            "Instructions for updating:\n",
            "Use `tf.data.Dataset.interleave(map_func, cycle_length, block_length, num_parallel_calls=tf.data.AUTOTUNE)` instead. If sloppy execution is desired, use `tf.data.Options.experimental_deterministic`.\n",
            "WARNING:tensorflow:From /usr/local/lib/python3.7/dist-packages/object_detection/builders/dataset_builder.py:237: DatasetV1.map_with_legacy_function (from tensorflow.python.data.ops.dataset_ops) is deprecated and will be removed in a future version.\n",
            "Instructions for updating:\n",
            "Use `tf.data.Dataset.map()\n",
            "W1104 09:24:02.638948 140679135922048 deprecation.py:345] From /usr/local/lib/python3.7/dist-packages/object_detection/builders/dataset_builder.py:237: DatasetV1.map_with_legacy_function (from tensorflow.python.data.ops.dataset_ops) is deprecated and will be removed in a future version.\n",
            "Instructions for updating:\n",
            "Use `tf.data.Dataset.map()\n",
            "WARNING:tensorflow:From /usr/local/lib/python3.7/dist-packages/tensorflow/python/util/dispatch.py:206: sparse_to_dense (from tensorflow.python.ops.sparse_ops) is deprecated and will be removed in a future version.\n",
            "Instructions for updating:\n",
            "Create a `tf.sparse.SparseTensor` and use `tf.sparse.to_dense` instead.\n",
            "W1104 09:24:07.671543 140679135922048 deprecation.py:345] From /usr/local/lib/python3.7/dist-packages/tensorflow/python/util/dispatch.py:206: sparse_to_dense (from tensorflow.python.ops.sparse_ops) is deprecated and will be removed in a future version.\n",
            "Instructions for updating:\n",
            "Create a `tf.sparse.SparseTensor` and use `tf.sparse.to_dense` instead.\n",
            "WARNING:tensorflow:From /usr/local/lib/python3.7/dist-packages/tensorflow/python/autograph/impl/api.py:464: to_float (from tensorflow.python.ops.math_ops) is deprecated and will be removed in a future version.\n",
            "Instructions for updating:\n",
            "Use `tf.cast` instead.\n",
            "W1104 09:24:09.063780 140679135922048 deprecation.py:345] From /usr/local/lib/python3.7/dist-packages/tensorflow/python/autograph/impl/api.py:464: to_float (from tensorflow.python.ops.math_ops) is deprecated and will be removed in a future version.\n",
            "Instructions for updating:\n",
            "Use `tf.cast` instead.\n",
            "INFO:tensorflow:Waiting for new checkpoint at drive/MyDrive/models/Near_Final_resized_400/my_ssd_mobnet\n",
            "I1104 09:24:12.156207 140679135922048 checkpoint_utils.py:140] Waiting for new checkpoint at drive/MyDrive/models/Near_Final_resized_400/my_ssd_mobnet\n",
            "INFO:tensorflow:Found new checkpoint at drive/MyDrive/models/Near_Final_resized_400/my_ssd_mobnet/ckpt-21\n",
            "I1104 09:24:12.159966 140679135922048 checkpoint_utils.py:149] Found new checkpoint at drive/MyDrive/models/Near_Final_resized_400/my_ssd_mobnet/ckpt-21\n",
            "/usr/local/lib/python3.7/dist-packages/keras/backend.py:401: UserWarning: `tf.keras.backend.set_learning_phase` is deprecated and will be removed after 2020-10-11. To update it, simply pass a True/False value to the `training` argument of the `__call__` method of your layer or model.\n",
            "  warnings.warn('`tf.keras.backend.set_learning_phase` is deprecated and '\n",
            "2021-11-04 09:24:12.630162: I tensorflow/compiler/mlir/mlir_graph_optimization_pass.cc:185] None of the MLIR Optimization Passes are enabled (registered 2)\n",
            "2021-11-04 09:24:58.965156: I tensorflow/stream_executor/cuda/cuda_dnn.cc:369] Loaded cuDNN version 8005\n",
            "WARNING:tensorflow:From /usr/local/lib/python3.7/dist-packages/object_detection/eval_util.py:929: to_int64 (from tensorflow.python.ops.math_ops) is deprecated and will be removed in a future version.\n",
            "Instructions for updating:\n",
            "Use `tf.cast` instead.\n",
            "W1104 09:25:25.579208 140679135922048 deprecation.py:345] From /usr/local/lib/python3.7/dist-packages/object_detection/eval_util.py:929: to_int64 (from tensorflow.python.ops.math_ops) is deprecated and will be removed in a future version.\n",
            "Instructions for updating:\n",
            "Use `tf.cast` instead.\n",
            "INFO:tensorflow:Finished eval step 0\n",
            "I1104 09:25:25.592312 140679135922048 model_lib_v2.py:958] Finished eval step 0\n",
            "WARNING:tensorflow:From /usr/local/lib/python3.7/dist-packages/tensorflow/python/autograph/impl/api.py:464: py_func (from tensorflow.python.ops.script_ops) is deprecated and will be removed in a future version.\n",
            "Instructions for updating:\n",
            "tf.py_func is deprecated in TF V2. Instead, there are two\n",
            "    options available in V2.\n",
            "    - tf.py_function takes a python function which manipulates tf eager\n",
            "    tensors instead of numpy arrays. It's easy to convert a tf eager tensor to\n",
            "    an ndarray (just call tensor.numpy()) but having access to eager tensors\n",
            "    means `tf.py_function`s can use accelerators such as GPUs as well as\n",
            "    being differentiable using a gradient tape.\n",
            "    - tf.numpy_function maintains the semantics of the deprecated tf.py_func\n",
            "    (it is not differentiable, and manipulates numpy arrays). It drops the\n",
            "    stateful argument making all functions stateful.\n",
            "    \n",
            "W1104 09:25:25.748928 140679135922048 deprecation.py:345] From /usr/local/lib/python3.7/dist-packages/tensorflow/python/autograph/impl/api.py:464: py_func (from tensorflow.python.ops.script_ops) is deprecated and will be removed in a future version.\n",
            "Instructions for updating:\n",
            "tf.py_func is deprecated in TF V2. Instead, there are two\n",
            "    options available in V2.\n",
            "    - tf.py_function takes a python function which manipulates tf eager\n",
            "    tensors instead of numpy arrays. It's easy to convert a tf eager tensor to\n",
            "    an ndarray (just call tensor.numpy()) but having access to eager tensors\n",
            "    means `tf.py_function`s can use accelerators such as GPUs as well as\n",
            "    being differentiable using a gradient tape.\n",
            "    - tf.numpy_function maintains the semantics of the deprecated tf.py_func\n",
            "    (it is not differentiable, and manipulates numpy arrays). It drops the\n",
            "    stateful argument making all functions stateful.\n",
            "    \n",
            "INFO:tensorflow:Performing evaluation on 14 images.\n",
            "I1104 09:25:27.408353 140679135922048 coco_evaluation.py:293] Performing evaluation on 14 images.\n",
            "creating index...\n",
            "index created!\n",
            "INFO:tensorflow:Loading and preparing annotation results...\n",
            "I1104 09:25:27.408827 140679135922048 coco_tools.py:116] Loading and preparing annotation results...\n",
            "INFO:tensorflow:DONE (t=0.00s)\n",
            "I1104 09:25:27.409909 140679135922048 coco_tools.py:138] DONE (t=0.00s)\n",
            "creating index...\n",
            "index created!\n",
            "Running per image evaluation...\n",
            "Evaluate annotation type *bbox*\n",
            "DONE (t=0.35s).\n",
            "Accumulating evaluation results...\n",
            "DONE (t=0.02s).\n",
            " Average Precision  (AP) @[ IoU=0.50:0.95 | area=   all | maxDets=100 ] = 0.256\n",
            " Average Precision  (AP) @[ IoU=0.50      | area=   all | maxDets=100 ] = 0.440\n",
            " Average Precision  (AP) @[ IoU=0.75      | area=   all | maxDets=100 ] = 0.279\n",
            " Average Precision  (AP) @[ IoU=0.50:0.95 | area= small | maxDets=100 ] = 0.343\n",
            " Average Precision  (AP) @[ IoU=0.50:0.95 | area=medium | maxDets=100 ] = 0.283\n",
            " Average Precision  (AP) @[ IoU=0.50:0.95 | area= large | maxDets=100 ] = -1.000\n",
            " Average Recall     (AR) @[ IoU=0.50:0.95 | area=   all | maxDets=  1 ] = 0.069\n",
            " Average Recall     (AR) @[ IoU=0.50:0.95 | area=   all | maxDets= 10 ] = 0.393\n",
            " Average Recall     (AR) @[ IoU=0.50:0.95 | area=   all | maxDets=100 ] = 0.540\n",
            " Average Recall     (AR) @[ IoU=0.50:0.95 | area= small | maxDets=100 ] = 0.675\n",
            " Average Recall     (AR) @[ IoU=0.50:0.95 | area=medium | maxDets=100 ] = 0.467\n",
            " Average Recall     (AR) @[ IoU=0.50:0.95 | area= large | maxDets=100 ] = -1.000\n",
            "INFO:tensorflow:Eval metrics at step 20000\n",
            "I1104 09:25:27.794282 140679135922048 model_lib_v2.py:1007] Eval metrics at step 20000\n",
            "INFO:tensorflow:\t+ DetectionBoxes_Precision/mAP: 0.256233\n",
            "I1104 09:25:27.802390 140679135922048 model_lib_v2.py:1010] \t+ DetectionBoxes_Precision/mAP: 0.256233\n",
            "INFO:tensorflow:\t+ DetectionBoxes_Precision/mAP@.50IOU: 0.439950\n",
            "I1104 09:25:27.804001 140679135922048 model_lib_v2.py:1010] \t+ DetectionBoxes_Precision/mAP@.50IOU: 0.439950\n",
            "INFO:tensorflow:\t+ DetectionBoxes_Precision/mAP@.75IOU: 0.278881\n",
            "I1104 09:25:27.805567 140679135922048 model_lib_v2.py:1010] \t+ DetectionBoxes_Precision/mAP@.75IOU: 0.278881\n",
            "INFO:tensorflow:\t+ DetectionBoxes_Precision/mAP (small): 0.343266\n",
            "I1104 09:25:27.807115 140679135922048 model_lib_v2.py:1010] \t+ DetectionBoxes_Precision/mAP (small): 0.343266\n",
            "INFO:tensorflow:\t+ DetectionBoxes_Precision/mAP (medium): 0.283410\n",
            "I1104 09:25:27.808626 140679135922048 model_lib_v2.py:1010] \t+ DetectionBoxes_Precision/mAP (medium): 0.283410\n",
            "INFO:tensorflow:\t+ DetectionBoxes_Precision/mAP (large): -1.000000\n",
            "I1104 09:25:27.810282 140679135922048 model_lib_v2.py:1010] \t+ DetectionBoxes_Precision/mAP (large): -1.000000\n",
            "INFO:tensorflow:\t+ DetectionBoxes_Recall/AR@1: 0.069449\n",
            "I1104 09:25:27.811843 140679135922048 model_lib_v2.py:1010] \t+ DetectionBoxes_Recall/AR@1: 0.069449\n",
            "INFO:tensorflow:\t+ DetectionBoxes_Recall/AR@10: 0.392926\n",
            "I1104 09:25:27.813348 140679135922048 model_lib_v2.py:1010] \t+ DetectionBoxes_Recall/AR@10: 0.392926\n",
            "INFO:tensorflow:\t+ DetectionBoxes_Recall/AR@100: 0.539720\n",
            "I1104 09:25:27.814968 140679135922048 model_lib_v2.py:1010] \t+ DetectionBoxes_Recall/AR@100: 0.539720\n",
            "INFO:tensorflow:\t+ DetectionBoxes_Recall/AR@100 (small): 0.674748\n",
            "I1104 09:25:27.816463 140679135922048 model_lib_v2.py:1010] \t+ DetectionBoxes_Recall/AR@100 (small): 0.674748\n",
            "INFO:tensorflow:\t+ DetectionBoxes_Recall/AR@100 (medium): 0.467184\n",
            "I1104 09:25:27.818117 140679135922048 model_lib_v2.py:1010] \t+ DetectionBoxes_Recall/AR@100 (medium): 0.467184\n",
            "INFO:tensorflow:\t+ DetectionBoxes_Recall/AR@100 (large): -1.000000\n",
            "I1104 09:25:27.819590 140679135922048 model_lib_v2.py:1010] \t+ DetectionBoxes_Recall/AR@100 (large): -1.000000\n",
            "INFO:tensorflow:\t+ Loss/localization_loss: 0.250351\n",
            "I1104 09:25:27.820753 140679135922048 model_lib_v2.py:1010] \t+ Loss/localization_loss: 0.250351\n",
            "INFO:tensorflow:\t+ Loss/classification_loss: 1.126968\n",
            "I1104 09:25:27.822080 140679135922048 model_lib_v2.py:1010] \t+ Loss/classification_loss: 1.126968\n",
            "INFO:tensorflow:\t+ Loss/regularization_loss: 0.057831\n",
            "I1104 09:25:27.823249 140679135922048 model_lib_v2.py:1010] \t+ Loss/regularization_loss: 0.057831\n",
            "INFO:tensorflow:\t+ Loss/total_loss: 1.435150\n",
            "I1104 09:25:27.824470 140679135922048 model_lib_v2.py:1010] \t+ Loss/total_loss: 1.435150\n",
            "Traceback (most recent call last):\n",
            "  File \"Tensorflow/models/research/object_detection/model_main_tf2.py\", line 115, in <module>\n",
            "    tf.compat.v1.app.run()\n",
            "  File \"/usr/local/lib/python3.7/dist-packages/tensorflow/python/platform/app.py\", line 40, in run\n",
            "    _run(main=main, argv=argv, flags_parser=_parse_flags_tolerate_undef)\n",
            "  File \"/usr/local/lib/python3.7/dist-packages/absl/app.py\", line 303, in run\n",
            "    _run_main(main, args)\n",
            "  File \"/usr/local/lib/python3.7/dist-packages/absl/app.py\", line 251, in _run_main\n",
            "    sys.exit(main(argv))\n",
            "  File \"Tensorflow/models/research/object_detection/model_main_tf2.py\", line 90, in main\n",
            "    wait_interval=300, timeout=FLAGS.eval_timeout)\n",
            "  File \"/usr/local/lib/python3.7/dist-packages/object_detection/model_lib_v2.py\", line 1129, in eval_continuously\n",
            "  File \"/usr/local/lib/python3.7/dist-packages/tensorflow/python/training/checkpoint_utils.py\", line 216, in checkpoints_iterator\n",
            "    time.sleep(time_to_next_eval)\n",
            "KeyboardInterrupt\n"
          ]
        }
      ]
    },
    {
      "cell_type": "markdown",
      "metadata": {
        "id": "orvRk02UpfDI"
      },
      "source": [
        "# 8. Load Train Model From Checkpoint"
      ]
    },
    {
      "cell_type": "code",
      "metadata": {
        "id": "8TYk4_oIpfDI"
      },
      "source": [
        "import os\n",
        "import tensorflow as tf\n",
        "from object_detection.utils import label_map_util\n",
        "from object_detection.utils import visualization_utils as viz_utils\n",
        "from object_detection.builders import model_builder\n",
        "from object_detection.utils import config_util"
      ],
      "execution_count": null,
      "outputs": []
    },
    {
      "cell_type": "code",
      "metadata": {
        "id": "tDnQg-cYpfDI"
      },
      "source": [
        "# Load pipeline config and build a detection model\n",
        "configs = config_util.get_configs_from_pipeline_file(files['PIPELINE_CONFIG'])\n",
        "detection_model = model_builder.build(model_config=configs['model'], is_training=False)\n",
        "\n",
        "# Restore checkpoint\n",
        "ckpt = tf.compat.v2.train.Checkpoint(model=detection_model)\n",
        "ckpt.restore(os.path.join(paths['CHECKPOINT_PATH'], 'ckpt-20')).expect_partial()\n",
        "\n",
        "@tf.function\n",
        "def detect_fn(image):\n",
        "    image, shapes = detection_model.preprocess(image)\n",
        "    prediction_dict = detection_model.predict(image, shapes)\n",
        "    detections = detection_model.postprocess(prediction_dict, shapes)\n",
        "    return detections"
      ],
      "execution_count": null,
      "outputs": []
    },
    {
      "cell_type": "markdown",
      "metadata": {
        "id": "0EmsmbBZpfDI"
      },
      "source": [
        "# 9. Detect from an Image"
      ]
    },
    {
      "cell_type": "code",
      "metadata": {
        "id": "Y_MKiuZ4pfDI"
      },
      "source": [
        "import cv2 \n",
        "import numpy as np\n",
        "from matplotlib import pyplot as plt\n",
        "%matplotlib inline\n",
        "import glob"
      ],
      "execution_count": null,
      "outputs": []
    },
    {
      "cell_type": "code",
      "metadata": {
        "id": "gt6Q7FJp0G9U"
      },
      "source": [
        "def object_view(IMAGE_PATH):\n",
        "  img = cv2.imread(IMAGE_PATH)\n",
        "  image_np = np.array(img)\n",
        "\n",
        "  input_tensor = tf.convert_to_tensor(np.expand_dims(image_np, 0), dtype=tf.float32)\n",
        "  detections = detect_fn(input_tensor)\n",
        "\n",
        "  num_detections = int(detections.pop('num_detections'))\n",
        "  detections = {key: value[0, :num_detections].numpy()\n",
        "              for key, value in detections.items()}\n",
        "  detections['num_detections'] = num_detections\n",
        "\n",
        "  # detection_classes should be ints.\n",
        "  detections['detection_classes'] = detections['detection_classes'].astype(np.int64)\n",
        "\n",
        "  label_id_offset = 1\n",
        "  image_np_with_detections = image_np.copy()\n",
        "\n",
        "  viz_utils.visualize_boxes_and_labels_on_image_array(\n",
        "              image_np_with_detections,\n",
        "              detections['detection_boxes'],\n",
        "              detections['detection_classes']+label_id_offset,\n",
        "              detections['detection_scores'],\n",
        "              category_index,\n",
        "              use_normalized_coordinates=True,\n",
        "              max_boxes_to_draw=30,\n",
        "              min_score_thresh=.8,\n",
        "              agnostic_mode=False)\n",
        "  plt.figure(figsize=(10, 10))\n",
        "  plt.imshow(cv2.cvtColor(image_np_with_detections, cv2.COLOR_BGR2RGB))\n",
        "  plt.show()"
      ],
      "execution_count": null,
      "outputs": []
    },
    {
      "cell_type": "code",
      "metadata": {
        "id": "cBDbIhNapfDI"
      },
      "source": [
        "category_index = label_map_util.create_category_index_from_labelmap(files['LABELMAP'])"
      ],
      "execution_count": null,
      "outputs": []
    },
    {
      "cell_type": "code",
      "metadata": {
        "id": "Lx3crOhOzITB"
      },
      "source": [
        "IMAGE_PATH = os.path.join(paths['IMAGE_PATH'], 'test', '*.jpg')\n",
        "#IMAGE_PATH='/content/Tensorflow/F10.jpg'"
      ],
      "execution_count": null,
      "outputs": []
    },
    {
      "cell_type": "code",
      "metadata": {
        "colab": {
          "background_save": true,
          "base_uri": "https://localhost:8080/",
          "height": 1000
        },
        "id": "X0cqMdBq17BU",
        "outputId": "ddad8716-2039-412b-9656-490d124cf2c1"
      },
      "source": [
        "for file in glob.glob(IMAGE_PATH):\n",
        "  object_view(file)"
      ],
      "execution_count": null,
      "outputs": []
    },
    {
      "cell_type": "markdown",
      "metadata": {
        "id": "vI-rebYu5mDH"
      },
      "source": [
        ""
      ]
    },
    {
      "cell_type": "markdown",
      "metadata": {
        "id": "G_uS8oEQ5WfC"
      },
      "source": [
        "## Dtection Fron images Outside the database\n",
        "\n"
      ]
    },
    {
      "cell_type": "code",
      "metadata": {
        "id": "hXa37kTu5xv_"
      },
      "source": [
        "IMAGE_PATH='/content/Tensorflow/1.jpg'\n"
      ],
      "execution_count": null,
      "outputs": []
    },
    {
      "cell_type": "markdown",
      "metadata": {
        "id": "IsNAaYAo0WVL"
      },
      "source": [
        "# 10. Real Time Detections from your Webcam"
      ]
    },
    {
      "cell_type": "code",
      "metadata": {
        "id": "jWC39eWOrUUV"
      },
      "source": [
        "!pip uninstall opencv-python-headless -y"
      ],
      "execution_count": null,
      "outputs": []
    },
    {
      "cell_type": "code",
      "metadata": {
        "id": "o_grs6OGpfDJ"
      },
      "source": [
        "cap = cv2.VideoCapture(0)\n",
        "width = int(cap.get(cv2.CAP_PROP_FRAME_WIDTH))\n",
        "height = int(cap.get(cv2.CAP_PROP_FRAME_HEIGHT))\n",
        "\n",
        "while cap.isOpened(): \n",
        "    ret, frame = cap.read()\n",
        "    image_np = np.array(frame)\n",
        "    \n",
        "    input_tensor = tf.convert_to_tensor(np.expand_dims(image_np, 0), dtype=tf.float32)\n",
        "    detections = detect_fn(input_tensor)\n",
        "    \n",
        "    num_detections = int(detections.pop('num_detections'))\n",
        "    detections = {key: value[0, :num_detections].numpy()\n",
        "                  for key, value in detections.items()}\n",
        "    detections['num_detections'] = num_detections\n",
        "\n",
        "    # detection_classes should be ints.\n",
        "    detections['detection_classes'] = detections['detection_classes'].astype(np.int64)\n",
        "\n",
        "    label_id_offset = 1\n",
        "    image_np_with_detections = image_np.copy()\n",
        "\n",
        "    viz_utils.visualize_boxes_and_labels_on_image_array(\n",
        "                image_np_with_detections,\n",
        "                detections['detection_boxes'],\n",
        "                detections['detection_classes']+label_id_offset,\n",
        "                detections['detection_scores'],\n",
        "                category_index,\n",
        "                use_normalized_coordinates=True,\n",
        "                max_boxes_to_draw=5,\n",
        "                min_score_thresh=.8,\n",
        "                agnostic_mode=False)\n",
        "\n",
        "    cv2.imshow('object detection',  cv2.resize(image_np_with_detections, (800, 600)))\n",
        "    \n",
        "    if cv2.waitKey(10) & 0xFF == ord('q'):\n",
        "        cap.release()\n",
        "        cv2.destroyAllWindows()\n",
        "        break"
      ],
      "execution_count": null,
      "outputs": []
    },
    {
      "cell_type": "markdown",
      "metadata": {
        "id": "rzlM4jt0pfDJ"
      },
      "source": [
        "# 10. Freezing the Graph"
      ]
    },
    {
      "cell_type": "code",
      "metadata": {
        "id": "n4olHB2npfDJ"
      },
      "source": [
        "FREEZE_SCRIPT = os.path.join(paths['APIMODEL_PATH'], 'research', 'object_detection', 'exporter_main_v2.py ')"
      ],
      "execution_count": null,
      "outputs": []
    },
    {
      "cell_type": "code",
      "metadata": {
        "id": "0AjO93QDpfDJ"
      },
      "source": [
        "command = \"python {} --input_type=image_tensor --pipeline_config_path={} --trained_checkpoint_dir={} --output_directory={}\".format(FREEZE_SCRIPT ,files['PIPELINE_CONFIG'], paths['CHECKPOINT_PATH'], paths['OUTPUT_PATH'])"
      ],
      "execution_count": null,
      "outputs": []
    },
    {
      "cell_type": "code",
      "metadata": {
        "id": "F6Lsp3tCpfDJ"
      },
      "source": [
        "print(command)"
      ],
      "execution_count": null,
      "outputs": []
    },
    {
      "cell_type": "code",
      "metadata": {
        "id": "1Sw1ULgHpfDJ"
      },
      "source": [
        "!{command}"
      ],
      "execution_count": null,
      "outputs": []
    },
    {
      "cell_type": "markdown",
      "metadata": {
        "id": "wTPmdqaXpfDK"
      },
      "source": [
        "# 11. Conversion to TFJS"
      ]
    },
    {
      "cell_type": "code",
      "metadata": {
        "id": "gZ6UzY_fpfDK",
        "scrolled": true
      },
      "source": [
        "!pip install tensorflowjs"
      ],
      "execution_count": null,
      "outputs": []
    },
    {
      "cell_type": "code",
      "metadata": {
        "id": "0oxbVynHpfDK"
      },
      "source": [
        "command = \"tensorflowjs_converter --input_format=tf_saved_model --output_node_names='detection_boxes,detection_classes,detection_features,detection_multiclass_scores,detection_scores,num_detections,raw_detection_boxes,raw_detection_scores' --output_format=tfjs_graph_model --signature_name=serving_default {} {}\".format(os.path.join(paths['OUTPUT_PATH'], 'saved_model'), paths['TFJS_PATH'])"
      ],
      "execution_count": null,
      "outputs": []
    },
    {
      "cell_type": "code",
      "metadata": {
        "id": "DB2AGNmJpfDK"
      },
      "source": [
        "print(command)"
      ],
      "execution_count": null,
      "outputs": []
    },
    {
      "cell_type": "code",
      "metadata": {
        "id": "K7rfT4-hpfDK"
      },
      "source": [
        "!{command}"
      ],
      "execution_count": null,
      "outputs": []
    },
    {
      "cell_type": "code",
      "metadata": {
        "id": "o8_hm-itpfDK"
      },
      "source": [
        "# Test Code: https://github.com/nicknochnack/RealTimeSignLanguageDetectionwithTFJS"
      ],
      "execution_count": null,
      "outputs": []
    },
    {
      "cell_type": "markdown",
      "metadata": {
        "id": "VtUw73FHpfDK"
      },
      "source": [
        "# 12. Conversion to TFLite"
      ]
    },
    {
      "cell_type": "code",
      "metadata": {
        "id": "XviMtewLpfDK"
      },
      "source": [
        "TFLITE_SCRIPT = os.path.join(paths['APIMODEL_PATH'], 'research', 'object_detection', 'export_tflite_graph_tf2.py ')"
      ],
      "execution_count": null,
      "outputs": []
    },
    {
      "cell_type": "code",
      "metadata": {
        "id": "us86cjC4pfDL"
      },
      "source": [
        "command = \"python {} --pipeline_config_path={} --trained_checkpoint_dir={} --output_directory={}\".format(TFLITE_SCRIPT ,files['PIPELINE_CONFIG'], paths['CHECKPOINT_PATH'], paths['TFLITE_PATH'])"
      ],
      "execution_count": null,
      "outputs": []
    },
    {
      "cell_type": "code",
      "metadata": {
        "id": "n1r5YO3rpfDL"
      },
      "source": [
        "print(command)"
      ],
      "execution_count": null,
      "outputs": []
    },
    {
      "cell_type": "code",
      "metadata": {
        "id": "I-xWpHN8pfDL"
      },
      "source": [
        "!{command}"
      ],
      "execution_count": null,
      "outputs": []
    },
    {
      "cell_type": "code",
      "metadata": {
        "id": "iJfYMbN6pfDL"
      },
      "source": [
        "FROZEN_TFLITE_PATH = os.path.join(paths['TFLITE_PATH'], 'saved_model')\n",
        "TFLITE_MODEL = os.path.join(paths['TFLITE_PATH'], 'saved_model', 'detect.tflite')"
      ],
      "execution_count": null,
      "outputs": []
    },
    {
      "cell_type": "code",
      "metadata": {
        "id": "n0ektP_SrUUX"
      },
      "source": [
        "command = \"tflite_convert \\\n",
        "--saved_model_dir={} \\\n",
        "--output_file={} \\\n",
        "--input_shapes=1,300,300,3 \\\n",
        "--input_arrays=normalized_input_image_tensor \\\n",
        "--output_arrays='TFLite_Detection_PostProcess','TFLite_Detection_PostProcess:1','TFLite_Detection_PostProcess:2','TFLite_Detection_PostProcess:3' \\\n",
        "--inference_type=FLOAT \\\n",
        "--allow_custom_ops\".format(FROZEN_TFLITE_PATH, TFLITE_MODEL, )"
      ],
      "execution_count": null,
      "outputs": []
    },
    {
      "cell_type": "code",
      "metadata": {
        "id": "E8GwUeoFpfDL"
      },
      "source": [
        "print(command)"
      ],
      "execution_count": null,
      "outputs": []
    },
    {
      "cell_type": "code",
      "metadata": {
        "id": "Nbd7gqHMpfDL"
      },
      "source": [
        "!{command}"
      ],
      "execution_count": null,
      "outputs": []
    },
    {
      "cell_type": "markdown",
      "metadata": {
        "id": "5NQqZRdA21Uc"
      },
      "source": [
        "# 13. Zip and Export Models "
      ]
    },
    {
      "cell_type": "code",
      "metadata": {
        "id": "tTVTGCQp2ZJJ"
      },
      "source": [
        "!tar -czf models.tar.gz {paths['CHECKPOINT_PATH']}"
      ],
      "execution_count": null,
      "outputs": []
    },
    {
      "cell_type": "code",
      "metadata": {
        "id": "whShhB0x3PYJ"
      },
      "source": [
        "from google.colab import drive\n",
        "drive.mount('/content/drive')\n"
      ],
      "execution_count": null,
      "outputs": []
    },
    {
      "cell_type": "code",
      "metadata": {
        "id": "Yn1wmMk_HgkW"
      },
      "source": [
        "from google.colab import drive\n",
        "drive.mount('/content/drive')\n"
      ],
      "execution_count": null,
      "outputs": []
    },
    {
      "cell_type": "code",
      "metadata": {
        "id": "2Wh5g8wgWA6U"
      },
      "source": [
        ""
      ],
      "execution_count": null,
      "outputs": []
    }
  ]
}